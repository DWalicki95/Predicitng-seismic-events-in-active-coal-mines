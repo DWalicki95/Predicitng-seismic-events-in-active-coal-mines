{
 "cells": [
  {
   "cell_type": "markdown",
   "id": "xE1zDX8NwSgU",
   "metadata": {
    "id": "xE1zDX8NwSgU"
   },
   "source": [
    "Here I'd like to do the initial evaluation which of prepared 4 approaches of datasets is the most promising. The simple idea is to prepare some base ML models and evaluate their performance and choose the best approach (train and test set processing) and use it to further work."
   ]
  },
  {
   "cell_type": "code",
   "execution_count": null,
   "id": "pe19yf18EAOb",
   "metadata": {
    "colab": {
     "base_uri": "https://localhost:8080/"
    },
    "executionInfo": {
     "elapsed": 9089,
     "status": "ok",
     "timestamp": 1682328004570,
     "user": {
      "displayName": "Dawid Walicki",
      "userId": "09899538618212575449"
     },
     "user_tz": -120
    },
    "id": "pe19yf18EAOb",
    "outputId": "ec42278e-0f5a-4671-9a19-a2536ef023d3"
   },
   "outputs": [
    {
     "name": "stdout",
     "output_type": "stream",
     "text": [
      "Looking in indexes: https://pypi.org/simple, https://us-python.pkg.dev/colab-wheels/public/simple/\n",
      "Collecting catboost\n",
      "  Downloading catboost-1.1.1-cp39-none-manylinux1_x86_64.whl (76.6 MB)\n",
      "\u001b[2K     \u001b[90m━━━━━━━━━━━━━━━━━━━━━━━━━━━━━━━━━━━━━━━━\u001b[0m \u001b[32m76.6/76.6 MB\u001b[0m \u001b[31m10.6 MB/s\u001b[0m eta \u001b[36m0:00:00\u001b[0m\n",
      "\u001b[?25hRequirement already satisfied: pandas>=0.24.0 in /usr/local/lib/python3.9/dist-packages (from catboost) (1.5.3)\n",
      "Requirement already satisfied: numpy>=1.16.0 in /usr/local/lib/python3.9/dist-packages (from catboost) (1.22.4)\n",
      "Requirement already satisfied: matplotlib in /usr/local/lib/python3.9/dist-packages (from catboost) (3.7.1)\n",
      "Requirement already satisfied: six in /usr/local/lib/python3.9/dist-packages (from catboost) (1.16.0)\n",
      "Requirement already satisfied: scipy in /usr/local/lib/python3.9/dist-packages (from catboost) (1.10.1)\n",
      "Requirement already satisfied: plotly in /usr/local/lib/python3.9/dist-packages (from catboost) (5.13.1)\n",
      "Requirement already satisfied: graphviz in /usr/local/lib/python3.9/dist-packages (from catboost) (0.20.1)\n",
      "Requirement already satisfied: pytz>=2020.1 in /usr/local/lib/python3.9/dist-packages (from pandas>=0.24.0->catboost) (2022.7.1)\n",
      "Requirement already satisfied: python-dateutil>=2.8.1 in /usr/local/lib/python3.9/dist-packages (from pandas>=0.24.0->catboost) (2.8.2)\n",
      "Requirement already satisfied: packaging>=20.0 in /usr/local/lib/python3.9/dist-packages (from matplotlib->catboost) (23.1)\n",
      "Requirement already satisfied: fonttools>=4.22.0 in /usr/local/lib/python3.9/dist-packages (from matplotlib->catboost) (4.39.3)\n",
      "Requirement already satisfied: pillow>=6.2.0 in /usr/local/lib/python3.9/dist-packages (from matplotlib->catboost) (8.4.0)\n",
      "Requirement already satisfied: pyparsing>=2.3.1 in /usr/local/lib/python3.9/dist-packages (from matplotlib->catboost) (3.0.9)\n",
      "Requirement already satisfied: cycler>=0.10 in /usr/local/lib/python3.9/dist-packages (from matplotlib->catboost) (0.11.0)\n",
      "Requirement already satisfied: contourpy>=1.0.1 in /usr/local/lib/python3.9/dist-packages (from matplotlib->catboost) (1.0.7)\n",
      "Requirement already satisfied: kiwisolver>=1.0.1 in /usr/local/lib/python3.9/dist-packages (from matplotlib->catboost) (1.4.4)\n",
      "Requirement already satisfied: importlib-resources>=3.2.0 in /usr/local/lib/python3.9/dist-packages (from matplotlib->catboost) (5.12.0)\n",
      "Requirement already satisfied: tenacity>=6.2.0 in /usr/local/lib/python3.9/dist-packages (from plotly->catboost) (8.2.2)\n",
      "Requirement already satisfied: zipp>=3.1.0 in /usr/local/lib/python3.9/dist-packages (from importlib-resources>=3.2.0->matplotlib->catboost) (3.15.0)\n",
      "Installing collected packages: catboost\n",
      "Successfully installed catboost-1.1.1\n"
     ]
    }
   ],
   "source": [
    "!pip install catboost"
   ]
  },
  {
   "cell_type": "code",
   "execution_count": null,
   "id": "a1634e54",
   "metadata": {
    "colab": {
     "base_uri": "https://localhost:8080/",
     "height": 17
    },
    "executionInfo": {
     "elapsed": 3944,
     "status": "ok",
     "timestamp": 1682328015710,
     "user": {
      "displayName": "Dawid Walicki",
      "userId": "09899538618212575449"
     },
     "user_tz": -120
    },
    "id": "a1634e54",
    "outputId": "4b6bc20d-e6e6-446c-84fd-d57c115906ea"
   },
   "outputs": [
    {
     "data": {
      "text/html": [
       "<style>.container { width:80% !important; }</style>"
      ],
      "text/plain": [
       "<IPython.core.display.HTML object>"
      ]
     },
     "metadata": {},
     "output_type": "display_data"
    }
   ],
   "source": [
    "from IPython.display import display, HTML\n",
    "display(HTML(\"<style>.container { width:80% !important; }</style>\"))\n",
    "import pandas as pd\n",
    "import numpy as np\n",
    "import matplotlib.pyplot as plt\n",
    "import seaborn as sns\n",
    "from sklearn.model_selection import cross_val_score\n",
    "from sklearn.metrics import (f1_score, roc_auc_score, precision_score, \n",
    "                             recall_score, confusion_matrix, \n",
    "                             classification_report, precision_recall_curve)\n",
    "from sklearn.preprocessing import StandardScaler, MinMaxScaler\n",
    "from sklearn.preprocessing import LabelEncoder\n",
    "from sklearn.model_selection import train_test_split\n",
    "from sklearn.model_selection import cross_val_score\n",
    "from imblearn.over_sampling import SMOTE, ADASYN\n",
    "from imblearn.under_sampling import RandomUnderSampler\n",
    "from imblearn.combine import SMOTEENN\n",
    "from imblearn.pipeline import make_pipeline, Pipeline\n",
    "from sklearn.utils import resample\n",
    "from sklearn.feature_selection import RFE, SelectFromModel\n",
    "from lightgbm import LGBMClassifier\n",
    "from sklearn.model_selection import StratifiedKFold\n",
    "from sklearn.model_selection import RandomizedSearchCV, GridSearchCV\n",
    "from sklearn.decomposition import PCA\n",
    "from lightgbm import LGBMClassifier\n",
    "from catboost import CatBoostClassifier\n",
    "from sklearn.linear_model import LogisticRegression\n",
    "from sklearn.ensemble import GradientBoostingClassifier\n",
    "from sklearn.ensemble import RandomForestClassifier\n",
    "from xgboost import XGBClassifier\n"
   ]
  },
  {
   "cell_type": "code",
   "execution_count": null,
   "id": "2QU7e9ZFhSes",
   "metadata": {
    "colab": {
     "base_uri": "https://localhost:8080/"
    },
    "executionInfo": {
     "elapsed": 17574,
     "status": "ok",
     "timestamp": 1682328049253,
     "user": {
      "displayName": "Dawid Walicki",
      "userId": "09899538618212575449"
     },
     "user_tz": -120
    },
    "id": "2QU7e9ZFhSes",
    "outputId": "cae8703b-3018-4df3-f9d4-6de544a40aca"
   },
   "outputs": [
    {
     "name": "stdout",
     "output_type": "stream",
     "text": [
      "Mounted at /content/gdrive\n"
     ]
    }
   ],
   "source": [
    "from google.colab import drive \n",
    "drive.mount('/content/gdrive')"
   ]
  },
  {
   "cell_type": "code",
   "execution_count": null,
   "id": "e167f10f",
   "metadata": {
    "id": "e167f10f"
   },
   "outputs": [],
   "source": [
    "X_train = pd.read_csv('/content/gdrive/MyDrive/Data Science Pro/Projekt końcowy/EXTRACTED DATA/X_train_v1_1')\n",
    "X_test = pd.read_csv('/content/gdrive/MyDrive/Data Science Pro/Projekt końcowy/EXTRACTED DATA/X_test_v1_1')\n",
    "\n",
    "#y_train and y_test datasets\n",
    "y_train = pd.read_csv('/content/gdrive/MyDrive/Data Science Pro/Projekt końcowy/EXTRACTED DATA/y_train')\n",
    "y_test = pd.read_csv('/content/gdrive/MyDrive/Data Science Pro/Projekt końcowy/EXTRACTED DATA/y_test')"
   ]
  },
  {
   "cell_type": "code",
   "execution_count": null,
   "id": "Cb3YXJpW_E6v",
   "metadata": {
    "colab": {
     "base_uri": "https://localhost:8080/"
    },
    "executionInfo": {
     "elapsed": 17,
     "status": "ok",
     "timestamp": 1681928284129,
     "user": {
      "displayName": "Dawid Walicki",
      "userId": "09899538618212575449"
     },
     "user_tz": -120
    },
    "id": "Cb3YXJpW_E6v",
    "outputId": "cd2b693b-c708-49da-fbe3-394805ca2839"
   },
   "outputs": [
    {
     "name": "stderr",
     "output_type": "stream",
     "text": [
      "/usr/local/lib/python3.9/dist-packages/sklearn/preprocessing/_label.py:116: DataConversionWarning: A column-vector y was passed when a 1d array was expected. Please change the shape of y to (n_samples, ), for example using ravel().\n",
      "  y = column_or_1d(y, warn=True)\n",
      "/usr/local/lib/python3.9/dist-packages/sklearn/preprocessing/_label.py:134: DataConversionWarning: A column-vector y was passed when a 1d array was expected. Please change the shape of y to (n_samples, ), for example using ravel().\n",
      "  y = column_or_1d(y, dtype=self.classes_.dtype, warn=True)\n"
     ]
    }
   ],
   "source": [
    "#converting strings into binary values\n",
    "le = LabelEncoder()\n",
    "y_train = le.fit_transform(y_train)\n",
    "y_test = le.transform(y_test)"
   ]
  },
  {
   "cell_type": "code",
   "execution_count": null,
   "id": "bqwofk3UYJfv",
   "metadata": {
    "id": "bqwofk3UYJfv"
   },
   "outputs": [],
   "source": [
    "def calculate_metrics(target, prediction, average='weighted'):\n",
    "  auc = roc_auc_score(target, prediction)\n",
    "  precision = precision_score(target, prediction, average=average)\n",
    "  recall = recall_score(target, prediction, average=average)\n",
    "  f1 = f1_score(target, prediction, average=average)\n",
    "  cf_matrix = confusion_matrix(target, prediction)\n",
    "  report = classification_report(target, prediction)\n",
    "  \n",
    "  return auc, precision, recall, f1, cf_matrix, report"
   ]
  },
  {
   "cell_type": "code",
   "execution_count": null,
   "id": "oeX3vL5-Y6Vl",
   "metadata": {
    "id": "oeX3vL5-Y6Vl"
   },
   "outputs": [],
   "source": [
    "def print_results(metrics, classifier_id='classifier'):\n",
    "  print(f'Results for {classifier_id}')\n",
    "  print('-----')\n",
    "  print(f'   AUC:  {metrics[0]}')\n",
    "  print(f'   Precision:  {metrics[1]}')\n",
    "  print(f'   Recall:  {metrics[2]}')\n",
    "  print(f'   F1:  {metrics[3]}')\n",
    "  print('-----')\n",
    "  sns.heatmap(metrics[4], annot=True, cmap='Blues')\n",
    "  plt.title('Confusion Matrix')\n",
    "  plt.show()\n",
    "  print('-----')\n",
    "  print('Classification report:')\n",
    "  print(metrics[5])\n"
   ]
  },
  {
   "cell_type": "code",
   "execution_count": null,
   "id": "q2vgutJ_bOlS",
   "metadata": {
    "id": "q2vgutJ_bOlS"
   },
   "outputs": [],
   "source": [
    "def pred_eval(X_train=X_train, X_test=X_test, y_train=y_train, y_test=y_test):\n",
    "  '''\n",
    "  Initial evaluation of processed data based on two basic alghorithms:\n",
    "  LogisticRegression and RandomFroest.\n",
    "  '''\n",
    "  #LogisticRegression\n",
    "  LogReg = LogisticRegression()\n",
    "  LogReg.fit(X_train, y_train)\n",
    "  y_pred_LogReg = LogReg.predict(X_test)\n",
    "  print('LogisticRegression report')\n",
    "  print(classification_report(\n",
    "      y_test, \n",
    "      y_pred_LogReg, \n",
    "      target_names=['Normal', 'Warning']\n",
    "  ))\n",
    "  print(f'AUC: {roc_auc_score(y_test, y_pred_LogReg)}')\n",
    "  print('-------')\n",
    "\n",
    "  #RandomForest\n",
    "  RanFor = RandomForestClassifier(n_estimators=60)\n",
    "  RanFor.fit(X_train, y_train)\n",
    "  y_pred_RanFor = RanFor.predict(X_test)\n",
    "  print('RandomForest report')\n",
    "  print(classification_report(\n",
    "      y_test, \n",
    "      y_pred_RanFor,\n",
    "       target_names=['Normal', 'Warning']\n",
    "  ))\n",
    "  print(f'AUC: {roc_auc_score(y_test, y_pred_RanFor)}')\n",
    "  print('-------')"
   ]
  },
  {
   "cell_type": "markdown",
   "id": "x0pwWXw8hgXM",
   "metadata": {
    "id": "x0pwWXw8hgXM"
   },
   "source": [
    "## Data scaling"
   ]
  },
  {
   "cell_type": "code",
   "execution_count": null,
   "id": "j95bevIohx_a",
   "metadata": {
    "id": "j95bevIohx_a"
   },
   "outputs": [],
   "source": [
    "cat_cols = ['latest_seismic_assessment', 'latest_seismoacoustic_assessment', \n",
    "            'latest_comprehensive_assessment', 'latest_hazards_assessment']"
   ]
  },
  {
   "cell_type": "code",
   "execution_count": null,
   "id": "kRWs7wIEiJSq",
   "metadata": {
    "id": "kRWs7wIEiJSq"
   },
   "outputs": [],
   "source": [
    "numeric_X_train = X_train.drop(cat_cols, axis=1).reset_index(drop=True)\n",
    "numeric_X_test = X_test.drop(cat_cols, axis=1).reset_index(drop=True)"
   ]
  },
  {
   "cell_type": "code",
   "execution_count": null,
   "id": "4X_x_Aw2yvID",
   "metadata": {
    "id": "4X_x_Aw2yvID"
   },
   "outputs": [],
   "source": [
    "#trainval\n",
    "numeric_X_train = X_train.drop(cat_cols, axis=1).reset_index(drop=True)"
   ]
  },
  {
   "cell_type": "code",
   "execution_count": null,
   "id": "HO9l-P2mjuwM",
   "metadata": {
    "id": "HO9l-P2mjuwM"
   },
   "outputs": [],
   "source": [
    "scaler = StandardScaler()\n",
    "\n",
    "#X_train scaling\n",
    "scaled_data_train = scaler.fit_transform(numeric_X_train)\n",
    "scaled_data_train = pd.DataFrame(scaled_data_train, columns=numeric_X_train.columns)\n",
    "X_train = pd.concat([scaled_data_train, X_train[cat_cols].reset_index(drop=True)], axis=1)\n",
    "\n",
    "#X_test scaling\n",
    "scaled_data_test = scaler.transform(numeric_X_test)\n",
    "scaled_data_test = pd.DataFrame(scaled_data_test, columns=numeric_X_test.columns)\n",
    "X_test = pd.concat([scaled_data_test, X_test[cat_cols].reset_index(drop=True)], axis=1)"
   ]
  },
  {
   "cell_type": "markdown",
   "id": "phm4eqYtq8SF",
   "metadata": {
    "id": "phm4eqYtq8SF"
   },
   "source": [
    "## Class balancing"
   ]
  },
  {
   "cell_type": "markdown",
   "id": "21A75BGUJSK6",
   "metadata": {
    "id": "21A75BGUJSK6"
   },
   "source": [
    "### 1. Without resampling"
   ]
  },
  {
   "cell_type": "code",
   "execution_count": null,
   "id": "76geLtbBK9wP",
   "metadata": {
    "colab": {
     "base_uri": "https://localhost:8080/"
    },
    "executionInfo": {
     "elapsed": 82733,
     "status": "ok",
     "timestamp": 1681917792126,
     "user": {
      "displayName": "Dawid Walicki",
      "userId": "09899538618212575449"
     },
     "user_tz": -120
    },
    "id": "76geLtbBK9wP",
    "outputId": "ca9166ab-8729-499b-d360-02cb59e3d2a6"
   },
   "outputs": [
    {
     "name": "stderr",
     "output_type": "stream",
     "text": [
      "/usr/local/lib/python3.9/dist-packages/sklearn/linear_model/_logistic.py:458: ConvergenceWarning: lbfgs failed to converge (status=1):\n",
      "STOP: TOTAL NO. of ITERATIONS REACHED LIMIT.\n",
      "\n",
      "Increase the number of iterations (max_iter) or scale the data as shown in:\n",
      "    https://scikit-learn.org/stable/modules/preprocessing.html\n",
      "Please also refer to the documentation for alternative solver options:\n",
      "    https://scikit-learn.org/stable/modules/linear_model.html#logistic-regression\n",
      "  n_iter_i = _check_optimize_result(\n"
     ]
    },
    {
     "name": "stdout",
     "output_type": "stream",
     "text": [
      "LogisticRegression report\n",
      "              precision    recall  f1-score   support\n",
      "\n",
      "      Normal       0.96      0.99      0.97      3664\n",
      "     Warning       0.54      0.14      0.23       196\n",
      "\n",
      "    accuracy                           0.95      3860\n",
      "   macro avg       0.75      0.57      0.60      3860\n",
      "weighted avg       0.93      0.95      0.94      3860\n",
      "\n",
      "AUC: 0.5681534622582658\n",
      "-------\n",
      "RandomForest report\n",
      "              precision    recall  f1-score   support\n",
      "\n",
      "      Normal       0.95      1.00      0.97      3664\n",
      "     Warning       0.50      0.01      0.01       196\n",
      "\n",
      "    accuracy                           0.95      3860\n",
      "   macro avg       0.72      0.50      0.49      3860\n",
      "weighted avg       0.93      0.95      0.93      3860\n",
      "\n",
      "AUC: 0.5024145575260672\n",
      "-------\n"
     ]
    }
   ],
   "source": [
    "#Initial state - Logistic Regression and RandomForest alghorithms\n",
    "pred_eval(X_train, X_test, y_train, y_test)"
   ]
  },
  {
   "cell_type": "markdown",
   "id": "SlEWbBPKL32u",
   "metadata": {
    "id": "SlEWbBPKL32u"
   },
   "source": [
    "## 2. Resampling - SMOTE"
   ]
  },
  {
   "cell_type": "code",
   "execution_count": null,
   "id": "AO5q-H3AJbqI",
   "metadata": {
    "colab": {
     "base_uri": "https://localhost:8080/"
    },
    "executionInfo": {
     "elapsed": 2846053,
     "status": "ok",
     "timestamp": 1681932380684,
     "user": {
      "displayName": "Dawid Walicki",
      "userId": "09899538618212575449"
     },
     "user_tz": -120
    },
    "id": "AO5q-H3AJbqI",
    "outputId": "32e7ccc7-37b4-4e10-be2d-e901808e15ee"
   },
   "outputs": [
    {
     "name": "stdout",
     "output_type": "stream",
     "text": [
      "Scores for 2 k_neighbors:\n"
     ]
    },
    {
     "name": "stderr",
     "output_type": "stream",
     "text": [
      "/usr/local/lib/python3.9/dist-packages/sklearn/linear_model/_logistic.py:458: ConvergenceWarning: lbfgs failed to converge (status=1):\n",
      "STOP: TOTAL NO. of ITERATIONS REACHED LIMIT.\n",
      "\n",
      "Increase the number of iterations (max_iter) or scale the data as shown in:\n",
      "    https://scikit-learn.org/stable/modules/preprocessing.html\n",
      "Please also refer to the documentation for alternative solver options:\n",
      "    https://scikit-learn.org/stable/modules/linear_model.html#logistic-regression\n",
      "  n_iter_i = _check_optimize_result(\n"
     ]
    },
    {
     "name": "stdout",
     "output_type": "stream",
     "text": [
      "LogisticRegression report\n",
      "              precision    recall  f1-score   support\n",
      "\n",
      "      Normal       0.99      0.88      0.93      3664\n",
      "     Warning       0.26      0.80      0.40       196\n",
      "\n",
      "    accuracy                           0.88      3860\n",
      "   macro avg       0.63      0.84      0.66      3860\n",
      "weighted avg       0.95      0.88      0.90      3860\n",
      "\n",
      "AUC: 0.8388707557258711\n",
      "-------\n",
      "RandomForest report\n",
      "              precision    recall  f1-score   support\n",
      "\n",
      "      Normal       0.96      0.99      0.97      3664\n",
      "     Warning       0.53      0.18      0.27       196\n",
      "\n",
      "    accuracy                           0.95      3860\n",
      "   macro avg       0.74      0.59      0.62      3860\n",
      "weighted avg       0.94      0.95      0.94      3860\n",
      "\n",
      "AUC: 0.5850553649407362\n",
      "-------\n",
      "Scores for 3 k_neighbors:\n"
     ]
    },
    {
     "name": "stderr",
     "output_type": "stream",
     "text": [
      "/usr/local/lib/python3.9/dist-packages/sklearn/linear_model/_logistic.py:458: ConvergenceWarning: lbfgs failed to converge (status=1):\n",
      "STOP: TOTAL NO. of ITERATIONS REACHED LIMIT.\n",
      "\n",
      "Increase the number of iterations (max_iter) or scale the data as shown in:\n",
      "    https://scikit-learn.org/stable/modules/preprocessing.html\n",
      "Please also refer to the documentation for alternative solver options:\n",
      "    https://scikit-learn.org/stable/modules/linear_model.html#logistic-regression\n",
      "  n_iter_i = _check_optimize_result(\n"
     ]
    },
    {
     "name": "stdout",
     "output_type": "stream",
     "text": [
      "LogisticRegression report\n",
      "              precision    recall  f1-score   support\n",
      "\n",
      "      Normal       0.99      0.88      0.93      3664\n",
      "     Warning       0.27      0.81      0.40       196\n",
      "\n",
      "    accuracy                           0.88      3860\n",
      "   macro avg       0.63      0.85      0.67      3860\n",
      "weighted avg       0.95      0.88      0.90      3860\n",
      "\n",
      "AUC: 0.8454321138935923\n",
      "-------\n",
      "RandomForest report\n",
      "              precision    recall  f1-score   support\n",
      "\n",
      "      Normal       0.96      0.99      0.97      3664\n",
      "     Warning       0.48      0.20      0.29       196\n",
      "\n",
      "    accuracy                           0.95      3860\n",
      "   macro avg       0.72      0.60      0.63      3860\n",
      "weighted avg       0.93      0.95      0.94      3860\n",
      "\n",
      "AUC: 0.5961729123963997\n",
      "-------\n",
      "Scores for 4 k_neighbors:\n"
     ]
    },
    {
     "name": "stderr",
     "output_type": "stream",
     "text": [
      "/usr/local/lib/python3.9/dist-packages/sklearn/linear_model/_logistic.py:458: ConvergenceWarning: lbfgs failed to converge (status=1):\n",
      "STOP: TOTAL NO. of ITERATIONS REACHED LIMIT.\n",
      "\n",
      "Increase the number of iterations (max_iter) or scale the data as shown in:\n",
      "    https://scikit-learn.org/stable/modules/preprocessing.html\n",
      "Please also refer to the documentation for alternative solver options:\n",
      "    https://scikit-learn.org/stable/modules/linear_model.html#logistic-regression\n",
      "  n_iter_i = _check_optimize_result(\n"
     ]
    },
    {
     "name": "stdout",
     "output_type": "stream",
     "text": [
      "LogisticRegression report\n",
      "              precision    recall  f1-score   support\n",
      "\n",
      "      Normal       0.99      0.88      0.93      3664\n",
      "     Warning       0.26      0.82      0.40       196\n",
      "\n",
      "    accuracy                           0.88      3860\n",
      "   macro avg       0.63      0.85      0.66      3860\n",
      "weighted avg       0.95      0.88      0.90      3860\n",
      "\n",
      "AUC: 0.8474372827733715\n",
      "-------\n",
      "RandomForest report\n",
      "              precision    recall  f1-score   support\n",
      "\n",
      "      Normal       0.96      0.99      0.97      3664\n",
      "     Warning       0.49      0.22      0.31       196\n",
      "\n",
      "    accuracy                           0.95      3860\n",
      "   macro avg       0.73      0.61      0.64      3860\n",
      "weighted avg       0.94      0.95      0.94      3860\n",
      "\n",
      "AUC: 0.6061040682648605\n",
      "-------\n",
      "Scores for 5 k_neighbors:\n"
     ]
    },
    {
     "name": "stderr",
     "output_type": "stream",
     "text": [
      "/usr/local/lib/python3.9/dist-packages/sklearn/linear_model/_logistic.py:458: ConvergenceWarning: lbfgs failed to converge (status=1):\n",
      "STOP: TOTAL NO. of ITERATIONS REACHED LIMIT.\n",
      "\n",
      "Increase the number of iterations (max_iter) or scale the data as shown in:\n",
      "    https://scikit-learn.org/stable/modules/preprocessing.html\n",
      "Please also refer to the documentation for alternative solver options:\n",
      "    https://scikit-learn.org/stable/modules/linear_model.html#logistic-regression\n",
      "  n_iter_i = _check_optimize_result(\n"
     ]
    },
    {
     "name": "stdout",
     "output_type": "stream",
     "text": [
      "LogisticRegression report\n",
      "              precision    recall  f1-score   support\n",
      "\n",
      "      Normal       0.99      0.88      0.93      3664\n",
      "     Warning       0.26      0.81      0.40       196\n",
      "\n",
      "    accuracy                           0.87      3860\n",
      "   macro avg       0.63      0.84      0.66      3860\n",
      "weighted avg       0.95      0.87      0.90      3860\n",
      "\n",
      "AUC: 0.8443404108368238\n",
      "-------\n",
      "RandomForest report\n",
      "              precision    recall  f1-score   support\n",
      "\n",
      "      Normal       0.96      0.99      0.97      3664\n",
      "     Warning       0.49      0.25      0.33       196\n",
      "\n",
      "    accuracy                           0.95      3860\n",
      "   macro avg       0.73      0.62      0.65      3860\n",
      "weighted avg       0.94      0.95      0.94      3860\n",
      "\n",
      "AUC: 0.6181768558951964\n",
      "-------\n",
      "Scores for 6 k_neighbors:\n"
     ]
    },
    {
     "name": "stderr",
     "output_type": "stream",
     "text": [
      "/usr/local/lib/python3.9/dist-packages/sklearn/linear_model/_logistic.py:458: ConvergenceWarning: lbfgs failed to converge (status=1):\n",
      "STOP: TOTAL NO. of ITERATIONS REACHED LIMIT.\n",
      "\n",
      "Increase the number of iterations (max_iter) or scale the data as shown in:\n",
      "    https://scikit-learn.org/stable/modules/preprocessing.html\n",
      "Please also refer to the documentation for alternative solver options:\n",
      "    https://scikit-learn.org/stable/modules/linear_model.html#logistic-regression\n",
      "  n_iter_i = _check_optimize_result(\n"
     ]
    },
    {
     "name": "stdout",
     "output_type": "stream",
     "text": [
      "LogisticRegression report\n",
      "              precision    recall  f1-score   support\n",
      "\n",
      "      Normal       0.99      0.88      0.93      3664\n",
      "     Warning       0.26      0.82      0.40       196\n",
      "\n",
      "    accuracy                           0.87      3860\n",
      "   macro avg       0.62      0.85      0.66      3860\n",
      "weighted avg       0.95      0.87      0.90      3860\n",
      "\n",
      "AUC: 0.8462091168345067\n",
      "-------\n",
      "RandomForest report\n",
      "              precision    recall  f1-score   support\n",
      "\n",
      "      Normal       0.96      0.99      0.97      3664\n",
      "     Warning       0.49      0.27      0.34       196\n",
      "\n",
      "    accuracy                           0.95      3860\n",
      "   macro avg       0.73      0.63      0.66      3860\n",
      "weighted avg       0.94      0.95      0.94      3860\n",
      "\n",
      "AUC: 0.6252840655913021\n",
      "-------\n",
      "Scores for 7 k_neighbors:\n"
     ]
    },
    {
     "name": "stderr",
     "output_type": "stream",
     "text": [
      "/usr/local/lib/python3.9/dist-packages/sklearn/linear_model/_logistic.py:458: ConvergenceWarning: lbfgs failed to converge (status=1):\n",
      "STOP: TOTAL NO. of ITERATIONS REACHED LIMIT.\n",
      "\n",
      "Increase the number of iterations (max_iter) or scale the data as shown in:\n",
      "    https://scikit-learn.org/stable/modules/preprocessing.html\n",
      "Please also refer to the documentation for alternative solver options:\n",
      "    https://scikit-learn.org/stable/modules/linear_model.html#logistic-regression\n",
      "  n_iter_i = _check_optimize_result(\n"
     ]
    },
    {
     "name": "stdout",
     "output_type": "stream",
     "text": [
      "LogisticRegression report\n",
      "              precision    recall  f1-score   support\n",
      "\n",
      "      Normal       0.99      0.88      0.93      3664\n",
      "     Warning       0.26      0.82      0.40       196\n",
      "\n",
      "    accuracy                           0.87      3860\n",
      "   macro avg       0.62      0.85      0.66      3860\n",
      "weighted avg       0.95      0.87      0.90      3860\n",
      "\n",
      "AUC: 0.8483507485963818\n",
      "-------\n",
      "RandomForest report\n",
      "              precision    recall  f1-score   support\n",
      "\n",
      "      Normal       0.96      0.98      0.97      3664\n",
      "     Warning       0.47      0.30      0.36       196\n",
      "\n",
      "    accuracy                           0.95      3860\n",
      "   macro avg       0.72      0.64      0.67      3860\n",
      "weighted avg       0.94      0.95      0.94      3860\n",
      "\n",
      "AUC: 0.6390890963372248\n",
      "-------\n",
      "Scores for 8 k_neighbors:\n"
     ]
    },
    {
     "name": "stderr",
     "output_type": "stream",
     "text": [
      "/usr/local/lib/python3.9/dist-packages/sklearn/linear_model/_logistic.py:458: ConvergenceWarning: lbfgs failed to converge (status=1):\n",
      "STOP: TOTAL NO. of ITERATIONS REACHED LIMIT.\n",
      "\n",
      "Increase the number of iterations (max_iter) or scale the data as shown in:\n",
      "    https://scikit-learn.org/stable/modules/preprocessing.html\n",
      "Please also refer to the documentation for alternative solver options:\n",
      "    https://scikit-learn.org/stable/modules/linear_model.html#logistic-regression\n",
      "  n_iter_i = _check_optimize_result(\n"
     ]
    },
    {
     "name": "stdout",
     "output_type": "stream",
     "text": [
      "LogisticRegression report\n",
      "              precision    recall  f1-score   support\n",
      "\n",
      "      Normal       0.99      0.87      0.93      3664\n",
      "     Warning       0.26      0.82      0.39       196\n",
      "\n",
      "    accuracy                           0.87      3860\n",
      "   macro avg       0.62      0.85      0.66      3860\n",
      "weighted avg       0.95      0.87      0.90      3860\n",
      "\n",
      "AUC: 0.8453903395419303\n",
      "-------\n",
      "RandomForest report\n",
      "              precision    recall  f1-score   support\n",
      "\n",
      "      Normal       0.96      0.98      0.97      3664\n",
      "     Warning       0.46      0.26      0.33       196\n",
      "\n",
      "    accuracy                           0.95      3860\n",
      "   macro avg       0.71      0.62      0.65      3860\n",
      "weighted avg       0.94      0.95      0.94      3860\n",
      "\n",
      "AUC: 0.6220507307726584\n",
      "-------\n"
     ]
    }
   ],
   "source": [
    "#Testing different k_neighbors parametrs and comparing LogisticRegression and \n",
    "#RandomForest metrics to find the best one.\n",
    "for i in range(2, 9):\n",
    "  sm = SMOTE(sampling_strategy='auto', k_neighbors=i, random_state=42)\n",
    "  Xsm_train, ysm_train = sm.fit_resample(X_train, y_train)\n",
    "  print(f'Scores for {i} k_neighbors:')\n",
    "  pred_eval(Xsm_train, X_test, ysm_train, y_test)"
   ]
  },
  {
   "cell_type": "markdown",
   "id": "pXQKdiJ8pjIv",
   "metadata": {
    "id": "pXQKdiJ8pjIv"
   },
   "source": [
    "Above we've tested different k-neighbors used for new samples of minority class creation. To the further works the best SMOTE configuration is with k-neighbors parameter equal to <b>8</b>, beacouse there is the highest recall score and high AUC score for RandomForest (LogReg performance is nearly the same for all approaches of SMOTE)."
   ]
  },
  {
   "cell_type": "code",
   "execution_count": null,
   "id": "EVbyEwld0ZsV",
   "metadata": {
    "colab": {
     "base_uri": "https://localhost:8080/"
    },
    "executionInfo": {
     "elapsed": 509646,
     "status": "ok",
     "timestamp": 1681933448461,
     "user": {
      "displayName": "Dawid Walicki",
      "userId": "09899538618212575449"
     },
     "user_tz": -120
    },
    "id": "EVbyEwld0ZsV",
    "outputId": "d3d85af2-98e2-4461-87d9-565aa29a9f32"
   },
   "outputs": [
    {
     "name": "stdout",
     "output_type": "stream",
     "text": [
      "Scores for 0.1 sampling_strategy:\n"
     ]
    },
    {
     "name": "stderr",
     "output_type": "stream",
     "text": [
      "/usr/local/lib/python3.9/dist-packages/sklearn/linear_model/_logistic.py:458: ConvergenceWarning: lbfgs failed to converge (status=1):\n",
      "STOP: TOTAL NO. of ITERATIONS REACHED LIMIT.\n",
      "\n",
      "Increase the number of iterations (max_iter) or scale the data as shown in:\n",
      "    https://scikit-learn.org/stable/modules/preprocessing.html\n",
      "Please also refer to the documentation for alternative solver options:\n",
      "    https://scikit-learn.org/stable/modules/linear_model.html#logistic-regression\n",
      "  n_iter_i = _check_optimize_result(\n"
     ]
    },
    {
     "name": "stdout",
     "output_type": "stream",
     "text": [
      "LogisticRegression report\n",
      "              precision    recall  f1-score   support\n",
      "\n",
      "      Normal       0.96      0.98      0.97      3664\n",
      "     Warning       0.45      0.32      0.38       196\n",
      "\n",
      "    accuracy                           0.95      3860\n",
      "   macro avg       0.71      0.65      0.67      3860\n",
      "weighted avg       0.94      0.95      0.94      3860\n",
      "\n",
      "AUC: 0.6502066437928883\n",
      "-------\n",
      "RandomForest report\n",
      "              precision    recall  f1-score   support\n",
      "\n",
      "      Normal       0.95      0.99      0.97      3664\n",
      "     Warning       0.49      0.11      0.18       196\n",
      "\n",
      "    accuracy                           0.95      3860\n",
      "   macro avg       0.72      0.55      0.57      3860\n",
      "weighted avg       0.93      0.95      0.93      3860\n",
      "\n",
      "AUC: 0.550569245165315\n",
      "-------\n",
      "Scores for 0.2 sampling_strategy:\n"
     ]
    },
    {
     "name": "stderr",
     "output_type": "stream",
     "text": [
      "/usr/local/lib/python3.9/dist-packages/sklearn/linear_model/_logistic.py:458: ConvergenceWarning: lbfgs failed to converge (status=1):\n",
      "STOP: TOTAL NO. of ITERATIONS REACHED LIMIT.\n",
      "\n",
      "Increase the number of iterations (max_iter) or scale the data as shown in:\n",
      "    https://scikit-learn.org/stable/modules/preprocessing.html\n",
      "Please also refer to the documentation for alternative solver options:\n",
      "    https://scikit-learn.org/stable/modules/linear_model.html#logistic-regression\n",
      "  n_iter_i = _check_optimize_result(\n"
     ]
    },
    {
     "name": "stdout",
     "output_type": "stream",
     "text": [
      "LogisticRegression report\n",
      "              precision    recall  f1-score   support\n",
      "\n",
      "      Normal       0.97      0.95      0.96      3664\n",
      "     Warning       0.36      0.48      0.41       196\n",
      "\n",
      "    accuracy                           0.93      3860\n",
      "   macro avg       0.67      0.72      0.69      3860\n",
      "weighted avg       0.94      0.93      0.94      3860\n",
      "\n",
      "AUC: 0.7171430799393993\n",
      "-------\n",
      "RandomForest report\n",
      "              precision    recall  f1-score   support\n",
      "\n",
      "      Normal       0.96      0.99      0.97      3664\n",
      "     Warning       0.53      0.18      0.27       196\n",
      "\n",
      "    accuracy                           0.95      3860\n",
      "   macro avg       0.74      0.59      0.62      3860\n",
      "weighted avg       0.94      0.95      0.94      3860\n",
      "\n",
      "AUC: 0.5850553649407362\n",
      "-------\n",
      "Scores for 0.3 sampling_strategy:\n"
     ]
    },
    {
     "name": "stderr",
     "output_type": "stream",
     "text": [
      "/usr/local/lib/python3.9/dist-packages/sklearn/linear_model/_logistic.py:458: ConvergenceWarning: lbfgs failed to converge (status=1):\n",
      "STOP: TOTAL NO. of ITERATIONS REACHED LIMIT.\n",
      "\n",
      "Increase the number of iterations (max_iter) or scale the data as shown in:\n",
      "    https://scikit-learn.org/stable/modules/preprocessing.html\n",
      "Please also refer to the documentation for alternative solver options:\n",
      "    https://scikit-learn.org/stable/modules/linear_model.html#logistic-regression\n",
      "  n_iter_i = _check_optimize_result(\n"
     ]
    },
    {
     "name": "stdout",
     "output_type": "stream",
     "text": [
      "LogisticRegression report\n",
      "              precision    recall  f1-score   support\n",
      "\n",
      "      Normal       0.98      0.94      0.96      3664\n",
      "     Warning       0.34      0.63      0.44       196\n",
      "\n",
      "    accuracy                           0.92      3860\n",
      "   macro avg       0.66      0.78      0.70      3860\n",
      "weighted avg       0.95      0.92      0.93      3860\n",
      "\n",
      "AUC: 0.781433807147313\n",
      "-------\n",
      "RandomForest report\n",
      "              precision    recall  f1-score   support\n",
      "\n",
      "      Normal       0.96      0.99      0.97      3664\n",
      "     Warning       0.47      0.19      0.28       196\n",
      "\n",
      "    accuracy                           0.95      3860\n",
      "   macro avg       0.72      0.59      0.62      3860\n",
      "weighted avg       0.93      0.95      0.94      3860\n",
      "\n",
      "AUC: 0.5912073344621691\n",
      "-------\n",
      "Scores for 0.4 sampling_strategy:\n"
     ]
    },
    {
     "name": "stderr",
     "output_type": "stream",
     "text": [
      "/usr/local/lib/python3.9/dist-packages/sklearn/linear_model/_logistic.py:458: ConvergenceWarning: lbfgs failed to converge (status=1):\n",
      "STOP: TOTAL NO. of ITERATIONS REACHED LIMIT.\n",
      "\n",
      "Increase the number of iterations (max_iter) or scale the data as shown in:\n",
      "    https://scikit-learn.org/stable/modules/preprocessing.html\n",
      "Please also refer to the documentation for alternative solver options:\n",
      "    https://scikit-learn.org/stable/modules/linear_model.html#logistic-regression\n",
      "  n_iter_i = _check_optimize_result(\n"
     ]
    },
    {
     "name": "stdout",
     "output_type": "stream",
     "text": [
      "LogisticRegression report\n",
      "              precision    recall  f1-score   support\n",
      "\n",
      "      Normal       0.98      0.92      0.95      3664\n",
      "     Warning       0.31      0.67      0.43       196\n",
      "\n",
      "    accuracy                           0.91      3860\n",
      "   macro avg       0.65      0.80      0.69      3860\n",
      "weighted avg       0.95      0.91      0.92      3860\n",
      "\n",
      "AUC: 0.7951552891899117\n",
      "-------\n",
      "RandomForest report\n",
      "              precision    recall  f1-score   support\n",
      "\n",
      "      Normal       0.96      0.99      0.97      3664\n",
      "     Warning       0.52      0.27      0.36       196\n",
      "\n",
      "    accuracy                           0.95      3860\n",
      "   macro avg       0.74      0.63      0.66      3860\n",
      "weighted avg       0.94      0.95      0.94      3860\n",
      "\n",
      "AUC: 0.6285174004099456\n",
      "-------\n"
     ]
    }
   ],
   "source": [
    "sampling_strategy = [0.1, 0.2, 0.3, 0.4]\n",
    "for i in range(len(sampling_strategy)):\n",
    "  sm = SMOTE(\n",
    "      sampling_strategy=sampling_strategy[i], k_neighbors=8, \n",
    "      random_state=42)\n",
    "  Xsm_train, ysm_train = sm.fit_resample(X_train, y_train)\n",
    "  print(f'Scores for {sampling_strategy[i]} sampling_strategy:')\n",
    "  pred_eval(Xsm_train, X_test, ysm_train, y_test)"
   ]
  },
  {
   "cell_type": "markdown",
   "id": "IyDDCEIarC14",
   "metadata": {
    "id": "IyDDCEIarC14"
   },
   "source": [
    "## Resampling - ADASYN"
   ]
  },
  {
   "cell_type": "code",
   "execution_count": null,
   "id": "bGe5OaBOqGnJ",
   "metadata": {
    "id": "bGe5OaBOqGnJ"
   },
   "outputs": [],
   "source": [
    "ads = ADASYN(sampling_strategy='auto', n_neighbors=8, random_state=42)\n",
    "Xads, yads = ads.fit_resample(X_train, y_train)"
   ]
  },
  {
   "cell_type": "code",
   "execution_count": null,
   "id": "GVLIFiqerkik",
   "metadata": {
    "colab": {
     "base_uri": "https://localhost:8080/"
    },
    "executionInfo": {
     "elapsed": 320344,
     "status": "ok",
     "timestamp": 1681410666737,
     "user": {
      "displayName": "Dawid Walicki",
      "userId": "09899538618212575449"
     },
     "user_tz": -120
    },
    "id": "GVLIFiqerkik",
    "outputId": "d84f3d19-9357-45d4-97c3-967385a5b440"
   },
   "outputs": [
    {
     "name": "stderr",
     "output_type": "stream",
     "text": [
      "/usr/local/lib/python3.9/dist-packages/sklearn/linear_model/_logistic.py:458: ConvergenceWarning: lbfgs failed to converge (status=1):\n",
      "STOP: TOTAL NO. of ITERATIONS REACHED LIMIT.\n",
      "\n",
      "Increase the number of iterations (max_iter) or scale the data as shown in:\n",
      "    https://scikit-learn.org/stable/modules/preprocessing.html\n",
      "Please also refer to the documentation for alternative solver options:\n",
      "    https://scikit-learn.org/stable/modules/linear_model.html#logistic-regression\n",
      "  n_iter_i = _check_optimize_result(\n"
     ]
    },
    {
     "name": "stdout",
     "output_type": "stream",
     "text": [
      "LogisticRegression report\n",
      "              precision    recall  f1-score   support\n",
      "\n",
      "      Normal       1.00      0.90      0.95     26038\n",
      "     Warning       0.17      0.89      0.29       593\n",
      "\n",
      "    accuracy                           0.90     26631\n",
      "   macro avg       0.58      0.90      0.62     26631\n",
      "weighted avg       0.98      0.90      0.93     26631\n",
      "\n",
      "AUC: 0.8963614535611268\n",
      "-------\n",
      "RandomForest report\n",
      "              precision    recall  f1-score   support\n",
      "\n",
      "      Normal       0.99      0.99      0.99     26038\n",
      "     Warning       0.54      0.57      0.55       593\n",
      "\n",
      "    accuracy                           0.98     26631\n",
      "   macro avg       0.76      0.78      0.77     26631\n",
      "weighted avg       0.98      0.98      0.98     26631\n",
      "\n",
      "AUC: 0.7777748489786688\n",
      "-------\n"
     ]
    }
   ],
   "source": [
    "pred_eval(Xads, X_test, yads, y_test)"
   ]
  },
  {
   "cell_type": "markdown",
   "id": "m9o35-6YHwT_",
   "metadata": {
    "id": "m9o35-6YHwT_"
   },
   "source": [
    "We can noticed worse performance than SMOTE."
   ]
  },
  {
   "cell_type": "markdown",
   "id": "jap3Gm0WyN-8",
   "metadata": {
    "id": "jap3Gm0WyN-8"
   },
   "source": [
    "### Combination of oversampling and undersampling (SMOTE and RandomUnderSampler)"
   ]
  },
  {
   "cell_type": "code",
   "execution_count": null,
   "id": "rGmavtWHy3kv",
   "metadata": {
    "colab": {
     "base_uri": "https://localhost:8080/"
    },
    "executionInfo": {
     "elapsed": 14770,
     "status": "ok",
     "timestamp": 1681410681492,
     "user": {
      "displayName": "Dawid Walicki",
      "userId": "09899538618212575449"
     },
     "user_tz": -120
    },
    "id": "rGmavtWHy3kv",
    "outputId": "5b0dc15b-6ef1-4ef1-8771-7092bafbea3d"
   },
   "outputs": [
    {
     "name": "stdout",
     "output_type": "stream",
     "text": [
      "              precision    recall  f1-score   support\n",
      "\n",
      "           0       1.00      0.90      0.95     26038\n",
      "           1       0.17      0.89      0.29       593\n",
      "\n",
      "    accuracy                           0.90     26631\n",
      "   macro avg       0.59      0.90      0.62     26631\n",
      "weighted avg       0.98      0.90      0.93     26631\n",
      "\n"
     ]
    },
    {
     "name": "stderr",
     "output_type": "stream",
     "text": [
      "/usr/local/lib/python3.9/dist-packages/sklearn/linear_model/_logistic.py:458: ConvergenceWarning: lbfgs failed to converge (status=1):\n",
      "STOP: TOTAL NO. of ITERATIONS REACHED LIMIT.\n",
      "\n",
      "Increase the number of iterations (max_iter) or scale the data as shown in:\n",
      "    https://scikit-learn.org/stable/modules/preprocessing.html\n",
      "Please also refer to the documentation for alternative solver options:\n",
      "    https://scikit-learn.org/stable/modules/linear_model.html#logistic-regression\n",
      "  n_iter_i = _check_optimize_result(\n"
     ]
    }
   ],
   "source": [
    "under = RandomUnderSampler(sampling_strategy = 'auto', random_state=42)\n",
    "sm = SMOTE(sampling_strategy=0.25, k_neighbors=8, random_state=42)\n",
    "\n",
    "model = LogisticRegression()\n",
    "\n",
    "steps = [\n",
    "    ('sm', sm), \n",
    "    ('under', under), \n",
    "    ('model', model)\n",
    "]\n",
    "\n",
    "pipeline = make_pipeline(\n",
    "    sm,\n",
    "    under,\n",
    "    model\n",
    ")\n",
    "\n",
    "pipeline.fit(X_train, y_train)\n",
    "y_pred = pipeline.predict(X_test)\n",
    "\n",
    "print(classification_report(y_test, y_pred))"
   ]
  },
  {
   "cell_type": "markdown",
   "id": "XtdtKKYVH0Js",
   "metadata": {
    "id": "XtdtKKYVH0Js"
   },
   "source": [
    "Worse performance than SMOTE."
   ]
  },
  {
   "cell_type": "markdown",
   "id": "zWGhZUWhBvcv",
   "metadata": {
    "id": "zWGhZUWhBvcv"
   },
   "source": [
    "Other methods of resampling were tried to be tested, however they didn't compute, beacouse of huge dataset (SMOTETomek Links, SMOTEENN, etc.)"
   ]
  },
  {
   "cell_type": "code",
   "execution_count": null,
   "id": "L368MbpSKbeZ",
   "metadata": {
    "id": "L368MbpSKbeZ"
   },
   "outputs": [],
   "source": [
    "sm = SMOTE(sampling_strategy='auto', k_neighbors=8, random_state=42)\n",
    "Xsm_train, ysm_train = sm.fit_resample(X_train, y_train)"
   ]
  },
  {
   "cell_type": "markdown",
   "id": "7-54RS3lPnrS",
   "metadata": {
    "id": "7-54RS3lPnrS"
   },
   "source": [
    "# Feature selection"
   ]
  },
  {
   "cell_type": "code",
   "execution_count": null,
   "id": "KBTW5ruUxpxf",
   "metadata": {
    "id": "KBTW5ruUxpxf"
   },
   "outputs": [],
   "source": [
    "def cor_selector(X, y, num_feats: int):\n",
    "  '''\n",
    "Calculating Pearson correlation between each feature and prediction. Finding the \n",
    "most important features basing on correlation.\n",
    "  '''\n",
    "  cor_list = []\n",
    "  features = X.columns.tolist()\n",
    "  for feature in features:\n",
    "    cor = np.corrcoef(X[feature], y)[0, 1]\n",
    "    cor_list.append(cor)\n",
    "  #Nan -> 0\n",
    "  cor_list = [0 if np.isnan(i) else i for i in cor_list]\n",
    "  cor_feature = X.iloc[:, \n",
    "                       np.argsort(np.abs(cor_list))\n",
    "                       [-num_feats: ]\n",
    "                       ].columns.tolist()\n",
    "  #feature selection\n",
    "  cor_support = [True if i in cor_feature else False for i in features]\n",
    "  \n",
    "  return cor_support, cor_feature\n"
   ]
  },
  {
   "cell_type": "code",
   "execution_count": null,
   "id": "tIy4k3UvPwSr",
   "metadata": {
    "id": "tIy4k3UvPwSr"
   },
   "outputs": [],
   "source": [
    "def RFE_selector(X, y, num_feats):\n",
    "  'Finding the most important features basing on recursive feature elimination'\n",
    "\n",
    "  rfe_selector = RFE(\n",
    "      estimator=LogisticRegression(), n_features_to_select=num_feats, \n",
    "      step=10)\n",
    "  rfe_selector.fit(X, y)\n",
    "  rfe_support = rfe_selector.get_support()\n",
    "  rfe_feature = X.loc[:, rfe_support].columns.tolist()\n",
    "  \n",
    "  return rfe_support, rfe_feature"
   ]
  },
  {
   "cell_type": "code",
   "execution_count": null,
   "id": "PEKXPy7F1FpV",
   "metadata": {
    "id": "PEKXPy7F1FpV"
   },
   "outputs": [],
   "source": [
    "def Lasso_selector(X, y, num_feats):\n",
    "  '''\n",
    "  Finding the most important features basing on meta-transformer \n",
    "  that used alongside Logistic Regression estimator that assigns importance \n",
    "  to each feature.\n",
    "  '''\n",
    "\n",
    "  lr_selector = SelectFromModel(\n",
    "      LogisticRegression(penalty='l2'), max_features=num_feats)\n",
    "  lr_selector.fit(X, y)\n",
    "  lr_support = lr_selector.get_support()\n",
    "  lr_feature = X.loc[:, lr_support].columns.tolist()\n",
    "\n",
    "  return lr_support, lr_feature"
   ]
  },
  {
   "cell_type": "code",
   "execution_count": null,
   "id": "79b-VaL52VMy",
   "metadata": {
    "id": "79b-VaL52VMy"
   },
   "outputs": [],
   "source": [
    "def RanFor_selector(X, y, num_feats):\n",
    "  '''\n",
    "  Finding the most important features basing on meta-transformer \n",
    "  that used alongside Random Forest estimator that assigns importance \n",
    "  to each feature.\n",
    "  '''\n",
    "\n",
    "  rf_selector = SelectFromModel(\n",
    "      RandomForestClassifier(n_estimators=60), max_features=num_feats)\n",
    "  rf_selector.fit(X, y)\n",
    "  rf_support = rf_selector.get_support()\n",
    "  rf_feature = X.loc[:, rf_support].columns.tolist()\n",
    "\n",
    "  return rf_support, rf_feature"
   ]
  },
  {
   "cell_type": "code",
   "execution_count": null,
   "id": "eQWkkFonQbTH",
   "metadata": {
    "id": "eQWkkFonQbTH"
   },
   "outputs": [],
   "source": [
    "def LGBMC_optimizer(X, y, num_feats, selector=False):\n",
    "  '''\n",
    "  Finding best LGBMClassifier hyperparameters for SelectFromModel\n",
    "  feature selection\n",
    "  '''\n",
    "\n",
    "  lgbc = LGBMClassifier()\n",
    "\n",
    "  max_depth = [-1, 0, 1, 5, 20]\n",
    "  num_leaves = [1, 2, 16 ,32]\n",
    "  reg_lambda = [0, 1, 5, 10, 25, 100]\n",
    "  learning_rate = [0.01, 0.05, 0.1, 1]\n",
    "  min_gain_to_split = [0, 0.1, 1]\n",
    "  min_child_weight = [1e-3, 1e-1, 0, 10, 40]\n",
    "\n",
    "  params = {\n",
    "      'max_depth': max_depth,\n",
    "      'num_leaves': num_leaves,\n",
    "      'reg_lambda': reg_lambda,\n",
    "      'learning_rate': learning_rate,\n",
    "      'min_gain_to_split': min_gain_to_split,\n",
    "      'min_child_weight': min_child_weight,\n",
    "  }\n",
    "\n",
    "  kfold = StratifiedKFold(3, shuffle=True, random_state=42)\n",
    "  optimizer = RandomizedSearchCV(estimator=lgbc,\n",
    "                                 param_distributions=params,\n",
    "                                 scoring='f1',\n",
    "                                 cv=kfold)\n",
    "  optimizer.fit(X, y)\n",
    "\n",
    "  return optimizer.best_params_, optimizer.best_estimator_\n"
   ]
  },
  {
   "cell_type": "code",
   "execution_count": null,
   "id": "JIj32C0L3LQ_",
   "metadata": {
    "id": "JIj32C0L3LQ_"
   },
   "outputs": [],
   "source": [
    "def LGBMC_selector(X, y, num_feats, optimization=False):\n",
    "  '''\n",
    "  Finding the most important features basing on meta-transformer \n",
    "  that used alongside LGBMClassifier that assigns importance \n",
    "  to each feature.\n",
    "  If optimization = False it is base LGBClassifier without optimizing\n",
    "  hyperparameters. Setting it to True runs LGBMC_optimizer function.\n",
    "  '''\n",
    "\n",
    "  if optimization:\n",
    "    best_params, lgbc = LGBMC_optimizer(X, y, num_feats, selector=True)\n",
    "  else:\n",
    "    lgbc = LGBMClassifier()\n",
    "  lgbc_selector = SelectFromModel(lgbc, max_features=num_feats)\n",
    "  lgbc_selector.fit(X, y)\n",
    "  lgbc_support = lgbc_selector.get_support()\n",
    "  lgbc_feature = X.loc[:, lgbc_support].columns.tolist()\n",
    "\n",
    "  return lgbc_support, lgbc_feature"
   ]
  },
  {
   "cell_type": "code",
   "execution_count": null,
   "id": "_sFSmLCIFxwU",
   "metadata": {
    "id": "_sFSmLCIFxwU"
   },
   "outputs": [],
   "source": [
    "cor_support, cor_feature = cor_selector(Xsm_train, ysm_train, 50)"
   ]
  },
  {
   "cell_type": "code",
   "execution_count": null,
   "id": "chcnVJi0GFtP",
   "metadata": {
    "id": "chcnVJi0GFtP"
   },
   "outputs": [],
   "source": [
    "rfe_support, rfe_feature = RFE_selector(Xsm_train, ysm_train, 50)"
   ]
  },
  {
   "cell_type": "code",
   "execution_count": null,
   "id": "pyd-G_NHGGAL",
   "metadata": {
    "colab": {
     "base_uri": "https://localhost:8080/"
    },
    "executionInfo": {
     "elapsed": 11542,
     "status": "ok",
     "timestamp": 1681934369398,
     "user": {
      "displayName": "Dawid Walicki",
      "userId": "09899538618212575449"
     },
     "user_tz": -120
    },
    "id": "pyd-G_NHGGAL",
    "outputId": "28e821c4-c271-4627-fd0c-98107ecd6f97"
   },
   "outputs": [
    {
     "name": "stderr",
     "output_type": "stream",
     "text": [
      "/usr/local/lib/python3.9/dist-packages/sklearn/linear_model/_logistic.py:458: ConvergenceWarning: lbfgs failed to converge (status=1):\n",
      "STOP: TOTAL NO. of ITERATIONS REACHED LIMIT.\n",
      "\n",
      "Increase the number of iterations (max_iter) or scale the data as shown in:\n",
      "    https://scikit-learn.org/stable/modules/preprocessing.html\n",
      "Please also refer to the documentation for alternative solver options:\n",
      "    https://scikit-learn.org/stable/modules/linear_model.html#logistic-regression\n",
      "  n_iter_i = _check_optimize_result(\n"
     ]
    }
   ],
   "source": [
    "lasso_support, lasso_feature = Lasso_selector(Xsm_train, ysm_train, 50)"
   ]
  },
  {
   "cell_type": "code",
   "execution_count": null,
   "id": "qvJZ1_5aGGXd",
   "metadata": {
    "id": "qvJZ1_5aGGXd"
   },
   "outputs": [],
   "source": [
    "rf_support, rf_feature = RanFor_selector(Xsm_train, ysm_train, 50)"
   ]
  },
  {
   "cell_type": "code",
   "execution_count": null,
   "id": "37pouUiGG2DY",
   "metadata": {
    "id": "37pouUiGG2DY"
   },
   "outputs": [],
   "source": [
    "lgbc_support, lgbc_feature = LGBMC_selector(Xsm_train, ysm_train, 50, optimization=True)"
   ]
  },
  {
   "cell_type": "code",
   "execution_count": null,
   "id": "Sm0IxciFFHmr",
   "metadata": {
    "colab": {
     "base_uri": "https://localhost:8080/",
     "height": 1000
    },
    "executionInfo": {
     "elapsed": 33,
     "status": "ok",
     "timestamp": 1681934857091,
     "user": {
      "displayName": "Dawid Walicki",
      "userId": "09899538618212575449"
     },
     "user_tz": -120
    },
    "id": "Sm0IxciFFHmr",
    "outputId": "f1df8e74-077b-4df2-c092-2841f7e609ff"
   },
   "outputs": [
    {
     "name": "stderr",
     "output_type": "stream",
     "text": [
      "/usr/local/lib/python3.9/dist-packages/numpy/core/fromnumeric.py:84: FutureWarning: Dropping of nuisance columns in DataFrame reductions (with 'numeric_only=None') is deprecated; in a future version this will raise TypeError.  Select only valid columns before calling the reduction.\n",
      "  return reduction(axis=axis, out=out, **passkwargs)\n"
     ]
    },
    {
     "data": {
      "text/html": [
       "\n",
       "  <div id=\"df-02f5c949-6c05-4b5a-9e92-ace28043d2ea\">\n",
       "    <div class=\"colab-df-container\">\n",
       "      <div>\n",
       "<style scoped>\n",
       "    .dataframe tbody tr th:only-of-type {\n",
       "        vertical-align: middle;\n",
       "    }\n",
       "\n",
       "    .dataframe tbody tr th {\n",
       "        vertical-align: top;\n",
       "    }\n",
       "\n",
       "    .dataframe thead th {\n",
       "        text-align: right;\n",
       "    }\n",
       "</style>\n",
       "<table border=\"1\" class=\"dataframe\">\n",
       "  <thead>\n",
       "    <tr style=\"text-align: right;\">\n",
       "      <th></th>\n",
       "      <th>Feature</th>\n",
       "      <th>Pearson</th>\n",
       "      <th>RFE</th>\n",
       "      <th>Random Forest</th>\n",
       "      <th>LightGBM</th>\n",
       "      <th>Total</th>\n",
       "    </tr>\n",
       "  </thead>\n",
       "  <tbody>\n",
       "    <tr>\n",
       "      <th>1</th>\n",
       "      <td>latest_seismic_assessment</td>\n",
       "      <td>True</td>\n",
       "      <td>True</td>\n",
       "      <td>True</td>\n",
       "      <td>True</td>\n",
       "      <td>4</td>\n",
       "    </tr>\n",
       "    <tr>\n",
       "      <th>2</th>\n",
       "      <td>5_avg_max_gactivity</td>\n",
       "      <td>True</td>\n",
       "      <td>True</td>\n",
       "      <td>True</td>\n",
       "      <td>True</td>\n",
       "      <td>4</td>\n",
       "    </tr>\n",
       "    <tr>\n",
       "      <th>3</th>\n",
       "      <td>24h_std_max_gactivity</td>\n",
       "      <td>True</td>\n",
       "      <td>True</td>\n",
       "      <td>True</td>\n",
       "      <td>True</td>\n",
       "      <td>4</td>\n",
       "    </tr>\n",
       "    <tr>\n",
       "      <th>4</th>\n",
       "      <td>sum_highest_bump_energy</td>\n",
       "      <td>False</td>\n",
       "      <td>True</td>\n",
       "      <td>True</td>\n",
       "      <td>True</td>\n",
       "      <td>3</td>\n",
       "    </tr>\n",
       "    <tr>\n",
       "      <th>5</th>\n",
       "      <td>sum_count_e4</td>\n",
       "      <td>True</td>\n",
       "      <td>False</td>\n",
       "      <td>True</td>\n",
       "      <td>True</td>\n",
       "      <td>3</td>\n",
       "    </tr>\n",
       "    <tr>\n",
       "      <th>6</th>\n",
       "      <td>sum_count_e3</td>\n",
       "      <td>True</td>\n",
       "      <td>False</td>\n",
       "      <td>True</td>\n",
       "      <td>True</td>\n",
       "      <td>3</td>\n",
       "    </tr>\n",
       "    <tr>\n",
       "      <th>7</th>\n",
       "      <td>max_gactivity.24</td>\n",
       "      <td>True</td>\n",
       "      <td>False</td>\n",
       "      <td>True</td>\n",
       "      <td>True</td>\n",
       "      <td>3</td>\n",
       "    </tr>\n",
       "    <tr>\n",
       "      <th>8</th>\n",
       "      <td>latest_maximum_yield</td>\n",
       "      <td>False</td>\n",
       "      <td>True</td>\n",
       "      <td>True</td>\n",
       "      <td>True</td>\n",
       "      <td>3</td>\n",
       "    </tr>\n",
       "    <tr>\n",
       "      <th>9</th>\n",
       "      <td>latest_maximum_meter</td>\n",
       "      <td>False</td>\n",
       "      <td>True</td>\n",
       "      <td>True</td>\n",
       "      <td>True</td>\n",
       "      <td>3</td>\n",
       "    </tr>\n",
       "    <tr>\n",
       "      <th>10</th>\n",
       "      <td>24h_max_max_gactivity</td>\n",
       "      <td>True</td>\n",
       "      <td>False</td>\n",
       "      <td>True</td>\n",
       "      <td>True</td>\n",
       "      <td>3</td>\n",
       "    </tr>\n",
       "    <tr>\n",
       "      <th>11</th>\n",
       "      <td>24h_max_avg_gactivity</td>\n",
       "      <td>True</td>\n",
       "      <td>True</td>\n",
       "      <td>True</td>\n",
       "      <td>False</td>\n",
       "      <td>3</td>\n",
       "    </tr>\n",
       "    <tr>\n",
       "      <th>12</th>\n",
       "      <td>24h_max_abs_avg_difference_in_genergy</td>\n",
       "      <td>False</td>\n",
       "      <td>True</td>\n",
       "      <td>True</td>\n",
       "      <td>True</td>\n",
       "      <td>3</td>\n",
       "    </tr>\n",
       "    <tr>\n",
       "      <th>13</th>\n",
       "      <td>24h_avg_avg_gactivity</td>\n",
       "      <td>True</td>\n",
       "      <td>False</td>\n",
       "      <td>True</td>\n",
       "      <td>True</td>\n",
       "      <td>3</td>\n",
       "    </tr>\n",
       "    <tr>\n",
       "      <th>14</th>\n",
       "      <td>total_tremors_energy</td>\n",
       "      <td>False</td>\n",
       "      <td>False</td>\n",
       "      <td>True</td>\n",
       "      <td>True</td>\n",
       "      <td>2</td>\n",
       "    </tr>\n",
       "    <tr>\n",
       "      <th>15</th>\n",
       "      <td>total_seismic_energy</td>\n",
       "      <td>False</td>\n",
       "      <td>False</td>\n",
       "      <td>True</td>\n",
       "      <td>True</td>\n",
       "      <td>2</td>\n",
       "    </tr>\n",
       "    <tr>\n",
       "      <th>16</th>\n",
       "      <td>total_bumps_energy</td>\n",
       "      <td>False</td>\n",
       "      <td>False</td>\n",
       "      <td>True</td>\n",
       "      <td>True</td>\n",
       "      <td>2</td>\n",
       "    </tr>\n",
       "    <tr>\n",
       "      <th>17</th>\n",
       "      <td>sum_sum_e4</td>\n",
       "      <td>True</td>\n",
       "      <td>False</td>\n",
       "      <td>True</td>\n",
       "      <td>False</td>\n",
       "      <td>2</td>\n",
       "    </tr>\n",
       "    <tr>\n",
       "      <th>18</th>\n",
       "      <td>sum_sum_e3</td>\n",
       "      <td>True</td>\n",
       "      <td>False</td>\n",
       "      <td>True</td>\n",
       "      <td>False</td>\n",
       "      <td>2</td>\n",
       "    </tr>\n",
       "    <tr>\n",
       "      <th>19</th>\n",
       "      <td>sum_sum_e2</td>\n",
       "      <td>True</td>\n",
       "      <td>False</td>\n",
       "      <td>True</td>\n",
       "      <td>False</td>\n",
       "      <td>2</td>\n",
       "    </tr>\n",
       "    <tr>\n",
       "      <th>20</th>\n",
       "      <td>sum_count_e2</td>\n",
       "      <td>False</td>\n",
       "      <td>False</td>\n",
       "      <td>True</td>\n",
       "      <td>True</td>\n",
       "      <td>2</td>\n",
       "    </tr>\n",
       "    <tr>\n",
       "      <th>21</th>\n",
       "      <td>max_genergy.23</td>\n",
       "      <td>False</td>\n",
       "      <td>True</td>\n",
       "      <td>True</td>\n",
       "      <td>False</td>\n",
       "      <td>2</td>\n",
       "    </tr>\n",
       "    <tr>\n",
       "      <th>22</th>\n",
       "      <td>max_gactivity.23</td>\n",
       "      <td>True</td>\n",
       "      <td>False</td>\n",
       "      <td>True</td>\n",
       "      <td>False</td>\n",
       "      <td>2</td>\n",
       "    </tr>\n",
       "    <tr>\n",
       "      <th>23</th>\n",
       "      <td>max_gactivity.22</td>\n",
       "      <td>True</td>\n",
       "      <td>False</td>\n",
       "      <td>True</td>\n",
       "      <td>False</td>\n",
       "      <td>2</td>\n",
       "    </tr>\n",
       "    <tr>\n",
       "      <th>24</th>\n",
       "      <td>max_gactivity.21</td>\n",
       "      <td>True</td>\n",
       "      <td>False</td>\n",
       "      <td>True</td>\n",
       "      <td>False</td>\n",
       "      <td>2</td>\n",
       "    </tr>\n",
       "    <tr>\n",
       "      <th>25</th>\n",
       "      <td>max_gactivity.18</td>\n",
       "      <td>True</td>\n",
       "      <td>False</td>\n",
       "      <td>True</td>\n",
       "      <td>False</td>\n",
       "      <td>2</td>\n",
       "    </tr>\n",
       "    <tr>\n",
       "      <th>26</th>\n",
       "      <td>max_gactivity.13</td>\n",
       "      <td>True</td>\n",
       "      <td>False</td>\n",
       "      <td>True</td>\n",
       "      <td>False</td>\n",
       "      <td>2</td>\n",
       "    </tr>\n",
       "    <tr>\n",
       "      <th>27</th>\n",
       "      <td>latest_progress_estimation_r</td>\n",
       "      <td>False</td>\n",
       "      <td>False</td>\n",
       "      <td>True</td>\n",
       "      <td>True</td>\n",
       "      <td>2</td>\n",
       "    </tr>\n",
       "    <tr>\n",
       "      <th>28</th>\n",
       "      <td>latest_progress_estimation_l</td>\n",
       "      <td>False</td>\n",
       "      <td>False</td>\n",
       "      <td>True</td>\n",
       "      <td>True</td>\n",
       "      <td>2</td>\n",
       "    </tr>\n",
       "    <tr>\n",
       "      <th>29</th>\n",
       "      <td>latest_hazards_assessment</td>\n",
       "      <td>False</td>\n",
       "      <td>True</td>\n",
       "      <td>False</td>\n",
       "      <td>True</td>\n",
       "      <td>2</td>\n",
       "    </tr>\n",
       "    <tr>\n",
       "      <th>30</th>\n",
       "      <td>latest_comprehensive_assessment</td>\n",
       "      <td>True</td>\n",
       "      <td>False</td>\n",
       "      <td>True</td>\n",
       "      <td>False</td>\n",
       "      <td>2</td>\n",
       "    </tr>\n",
       "    <tr>\n",
       "      <th>31</th>\n",
       "      <td>avg_gactivity.23</td>\n",
       "      <td>True</td>\n",
       "      <td>False</td>\n",
       "      <td>True</td>\n",
       "      <td>False</td>\n",
       "      <td>2</td>\n",
       "    </tr>\n",
       "    <tr>\n",
       "      <th>32</th>\n",
       "      <td>avg_gactivity.22</td>\n",
       "      <td>True</td>\n",
       "      <td>False</td>\n",
       "      <td>True</td>\n",
       "      <td>False</td>\n",
       "      <td>2</td>\n",
       "    </tr>\n",
       "    <tr>\n",
       "      <th>33</th>\n",
       "      <td>avg_gactivity.21</td>\n",
       "      <td>True</td>\n",
       "      <td>False</td>\n",
       "      <td>True</td>\n",
       "      <td>False</td>\n",
       "      <td>2</td>\n",
       "    </tr>\n",
       "    <tr>\n",
       "      <th>34</th>\n",
       "      <td>avg_gactivity.18</td>\n",
       "      <td>True</td>\n",
       "      <td>False</td>\n",
       "      <td>True</td>\n",
       "      <td>False</td>\n",
       "      <td>2</td>\n",
       "    </tr>\n",
       "    <tr>\n",
       "      <th>35</th>\n",
       "      <td>avg_gactivity.15</td>\n",
       "      <td>True</td>\n",
       "      <td>False</td>\n",
       "      <td>True</td>\n",
       "      <td>False</td>\n",
       "      <td>2</td>\n",
       "    </tr>\n",
       "    <tr>\n",
       "      <th>36</th>\n",
       "      <td>5avg_max_gactivity</td>\n",
       "      <td>True</td>\n",
       "      <td>False</td>\n",
       "      <td>True</td>\n",
       "      <td>False</td>\n",
       "      <td>2</td>\n",
       "    </tr>\n",
       "    <tr>\n",
       "      <th>37</th>\n",
       "      <td>24h_std_max_difference_in_genergy</td>\n",
       "      <td>False</td>\n",
       "      <td>True</td>\n",
       "      <td>False</td>\n",
       "      <td>True</td>\n",
       "      <td>2</td>\n",
       "    </tr>\n",
       "    <tr>\n",
       "      <th>38</th>\n",
       "      <td>24h_std_avg_difference_in_gactivity</td>\n",
       "      <td>False</td>\n",
       "      <td>True</td>\n",
       "      <td>False</td>\n",
       "      <td>True</td>\n",
       "      <td>2</td>\n",
       "    </tr>\n",
       "    <tr>\n",
       "      <th>39</th>\n",
       "      <td>24h_max_max_difference_in_gactivity</td>\n",
       "      <td>False</td>\n",
       "      <td>True</td>\n",
       "      <td>False</td>\n",
       "      <td>True</td>\n",
       "      <td>2</td>\n",
       "    </tr>\n",
       "    <tr>\n",
       "      <th>40</th>\n",
       "      <td>24h_max_abs_max_difference_in_genergy</td>\n",
       "      <td>False</td>\n",
       "      <td>True</td>\n",
       "      <td>False</td>\n",
       "      <td>True</td>\n",
       "      <td>2</td>\n",
       "    </tr>\n",
       "    <tr>\n",
       "      <th>41</th>\n",
       "      <td>24h_avg_max_gactivity</td>\n",
       "      <td>True</td>\n",
       "      <td>False</td>\n",
       "      <td>True</td>\n",
       "      <td>False</td>\n",
       "      <td>2</td>\n",
       "    </tr>\n",
       "    <tr>\n",
       "      <th>42</th>\n",
       "      <td>24h_avg_avg_genergy</td>\n",
       "      <td>False</td>\n",
       "      <td>False</td>\n",
       "      <td>True</td>\n",
       "      <td>True</td>\n",
       "      <td>2</td>\n",
       "    </tr>\n",
       "    <tr>\n",
       "      <th>43</th>\n",
       "      <td>24h_abs_avg_max_difference_in_genergy</td>\n",
       "      <td>False</td>\n",
       "      <td>True</td>\n",
       "      <td>False</td>\n",
       "      <td>True</td>\n",
       "      <td>2</td>\n",
       "    </tr>\n",
       "    <tr>\n",
       "      <th>44</th>\n",
       "      <td>24h_abs_avg_avg_difference_in_genergy</td>\n",
       "      <td>False</td>\n",
       "      <td>True</td>\n",
       "      <td>False</td>\n",
       "      <td>True</td>\n",
       "      <td>2</td>\n",
       "    </tr>\n",
       "    <tr>\n",
       "      <th>45</th>\n",
       "      <td>24h_abs_avg_avg_difference_in_gactivity</td>\n",
       "      <td>False</td>\n",
       "      <td>False</td>\n",
       "      <td>True</td>\n",
       "      <td>True</td>\n",
       "      <td>2</td>\n",
       "    </tr>\n",
       "    <tr>\n",
       "      <th>46</th>\n",
       "      <td>total_number_of_bumps.9</td>\n",
       "      <td>False</td>\n",
       "      <td>False</td>\n",
       "      <td>False</td>\n",
       "      <td>True</td>\n",
       "      <td>1</td>\n",
       "    </tr>\n",
       "    <tr>\n",
       "      <th>47</th>\n",
       "      <td>total_number_of_bumps.4</td>\n",
       "      <td>False</td>\n",
       "      <td>False</td>\n",
       "      <td>False</td>\n",
       "      <td>True</td>\n",
       "      <td>1</td>\n",
       "    </tr>\n",
       "    <tr>\n",
       "      <th>48</th>\n",
       "      <td>total_number_of_bumps.20</td>\n",
       "      <td>False</td>\n",
       "      <td>False</td>\n",
       "      <td>False</td>\n",
       "      <td>True</td>\n",
       "      <td>1</td>\n",
       "    </tr>\n",
       "    <tr>\n",
       "      <th>49</th>\n",
       "      <td>total_number_of_bumps.18</td>\n",
       "      <td>False</td>\n",
       "      <td>False</td>\n",
       "      <td>False</td>\n",
       "      <td>True</td>\n",
       "      <td>1</td>\n",
       "    </tr>\n",
       "    <tr>\n",
       "      <th>50</th>\n",
       "      <td>total_number_of_bumps.14</td>\n",
       "      <td>False</td>\n",
       "      <td>False</td>\n",
       "      <td>False</td>\n",
       "      <td>True</td>\n",
       "      <td>1</td>\n",
       "    </tr>\n",
       "    <tr>\n",
       "      <th>51</th>\n",
       "      <td>total_number_of_bumps.13</td>\n",
       "      <td>False</td>\n",
       "      <td>False</td>\n",
       "      <td>False</td>\n",
       "      <td>True</td>\n",
       "      <td>1</td>\n",
       "    </tr>\n",
       "    <tr>\n",
       "      <th>52</th>\n",
       "      <td>total_number_of_bumps.12</td>\n",
       "      <td>False</td>\n",
       "      <td>False</td>\n",
       "      <td>False</td>\n",
       "      <td>True</td>\n",
       "      <td>1</td>\n",
       "    </tr>\n",
       "    <tr>\n",
       "      <th>53</th>\n",
       "      <td>total_number_of_bumps.11</td>\n",
       "      <td>False</td>\n",
       "      <td>False</td>\n",
       "      <td>False</td>\n",
       "      <td>True</td>\n",
       "      <td>1</td>\n",
       "    </tr>\n",
       "    <tr>\n",
       "      <th>54</th>\n",
       "      <td>total_number_of_bumps.10</td>\n",
       "      <td>False</td>\n",
       "      <td>False</td>\n",
       "      <td>False</td>\n",
       "      <td>True</td>\n",
       "      <td>1</td>\n",
       "    </tr>\n",
       "    <tr>\n",
       "      <th>55</th>\n",
       "      <td>total_number_of_bumps.1</td>\n",
       "      <td>False</td>\n",
       "      <td>False</td>\n",
       "      <td>False</td>\n",
       "      <td>True</td>\n",
       "      <td>1</td>\n",
       "    </tr>\n",
       "    <tr>\n",
       "      <th>56</th>\n",
       "      <td>sum_e6plus.17</td>\n",
       "      <td>False</td>\n",
       "      <td>True</td>\n",
       "      <td>False</td>\n",
       "      <td>False</td>\n",
       "      <td>1</td>\n",
       "    </tr>\n",
       "    <tr>\n",
       "      <th>57</th>\n",
       "      <td>number_of_rock_bursts.24</td>\n",
       "      <td>False</td>\n",
       "      <td>True</td>\n",
       "      <td>False</td>\n",
       "      <td>False</td>\n",
       "      <td>1</td>\n",
       "    </tr>\n",
       "    <tr>\n",
       "      <th>58</th>\n",
       "      <td>number_of_destressing_blasts.9</td>\n",
       "      <td>False</td>\n",
       "      <td>True</td>\n",
       "      <td>False</td>\n",
       "      <td>False</td>\n",
       "      <td>1</td>\n",
       "    </tr>\n",
       "    <tr>\n",
       "      <th>59</th>\n",
       "      <td>number_of_destressing_blasts.8</td>\n",
       "      <td>False</td>\n",
       "      <td>True</td>\n",
       "      <td>False</td>\n",
       "      <td>False</td>\n",
       "      <td>1</td>\n",
       "    </tr>\n",
       "    <tr>\n",
       "      <th>60</th>\n",
       "      <td>number_of_destressing_blasts.7</td>\n",
       "      <td>False</td>\n",
       "      <td>True</td>\n",
       "      <td>False</td>\n",
       "      <td>False</td>\n",
       "      <td>1</td>\n",
       "    </tr>\n",
       "    <tr>\n",
       "      <th>61</th>\n",
       "      <td>number_of_destressing_blasts.6</td>\n",
       "      <td>False</td>\n",
       "      <td>True</td>\n",
       "      <td>False</td>\n",
       "      <td>False</td>\n",
       "      <td>1</td>\n",
       "    </tr>\n",
       "    <tr>\n",
       "      <th>62</th>\n",
       "      <td>number_of_destressing_blasts.5</td>\n",
       "      <td>False</td>\n",
       "      <td>True</td>\n",
       "      <td>False</td>\n",
       "      <td>False</td>\n",
       "      <td>1</td>\n",
       "    </tr>\n",
       "    <tr>\n",
       "      <th>63</th>\n",
       "      <td>number_of_destressing_blasts.22</td>\n",
       "      <td>False</td>\n",
       "      <td>True</td>\n",
       "      <td>False</td>\n",
       "      <td>False</td>\n",
       "      <td>1</td>\n",
       "    </tr>\n",
       "    <tr>\n",
       "      <th>64</th>\n",
       "      <td>number_of_destressing_blasts.21</td>\n",
       "      <td>False</td>\n",
       "      <td>True</td>\n",
       "      <td>False</td>\n",
       "      <td>False</td>\n",
       "      <td>1</td>\n",
       "    </tr>\n",
       "    <tr>\n",
       "      <th>65</th>\n",
       "      <td>number_of_destressing_blasts.20</td>\n",
       "      <td>False</td>\n",
       "      <td>True</td>\n",
       "      <td>False</td>\n",
       "      <td>False</td>\n",
       "      <td>1</td>\n",
       "    </tr>\n",
       "    <tr>\n",
       "      <th>66</th>\n",
       "      <td>number_of_destressing_blasts.11</td>\n",
       "      <td>False</td>\n",
       "      <td>True</td>\n",
       "      <td>False</td>\n",
       "      <td>False</td>\n",
       "      <td>1</td>\n",
       "    </tr>\n",
       "    <tr>\n",
       "      <th>67</th>\n",
       "      <td>number_of_destressing_blasts.10</td>\n",
       "      <td>False</td>\n",
       "      <td>True</td>\n",
       "      <td>False</td>\n",
       "      <td>False</td>\n",
       "      <td>1</td>\n",
       "    </tr>\n",
       "    <tr>\n",
       "      <th>68</th>\n",
       "      <td>max_genergy.21</td>\n",
       "      <td>False</td>\n",
       "      <td>False</td>\n",
       "      <td>True</td>\n",
       "      <td>False</td>\n",
       "      <td>1</td>\n",
       "    </tr>\n",
       "    <tr>\n",
       "      <th>69</th>\n",
       "      <td>max_genergy.15</td>\n",
       "      <td>False</td>\n",
       "      <td>False</td>\n",
       "      <td>True</td>\n",
       "      <td>False</td>\n",
       "      <td>1</td>\n",
       "    </tr>\n",
       "    <tr>\n",
       "      <th>70</th>\n",
       "      <td>max_gactivity.9</td>\n",
       "      <td>True</td>\n",
       "      <td>False</td>\n",
       "      <td>False</td>\n",
       "      <td>False</td>\n",
       "      <td>1</td>\n",
       "    </tr>\n",
       "    <tr>\n",
       "      <th>71</th>\n",
       "      <td>max_gactivity.8</td>\n",
       "      <td>True</td>\n",
       "      <td>False</td>\n",
       "      <td>False</td>\n",
       "      <td>False</td>\n",
       "      <td>1</td>\n",
       "    </tr>\n",
       "    <tr>\n",
       "      <th>72</th>\n",
       "      <td>max_gactivity.7</td>\n",
       "      <td>True</td>\n",
       "      <td>False</td>\n",
       "      <td>False</td>\n",
       "      <td>False</td>\n",
       "      <td>1</td>\n",
       "    </tr>\n",
       "    <tr>\n",
       "      <th>73</th>\n",
       "      <td>max_gactivity.6</td>\n",
       "      <td>True</td>\n",
       "      <td>False</td>\n",
       "      <td>False</td>\n",
       "      <td>False</td>\n",
       "      <td>1</td>\n",
       "    </tr>\n",
       "    <tr>\n",
       "      <th>74</th>\n",
       "      <td>max_gactivity.5</td>\n",
       "      <td>True</td>\n",
       "      <td>False</td>\n",
       "      <td>False</td>\n",
       "      <td>False</td>\n",
       "      <td>1</td>\n",
       "    </tr>\n",
       "    <tr>\n",
       "      <th>75</th>\n",
       "      <td>max_gactivity.4</td>\n",
       "      <td>True</td>\n",
       "      <td>False</td>\n",
       "      <td>False</td>\n",
       "      <td>False</td>\n",
       "      <td>1</td>\n",
       "    </tr>\n",
       "    <tr>\n",
       "      <th>76</th>\n",
       "      <td>max_gactivity.3</td>\n",
       "      <td>True</td>\n",
       "      <td>False</td>\n",
       "      <td>False</td>\n",
       "      <td>False</td>\n",
       "      <td>1</td>\n",
       "    </tr>\n",
       "    <tr>\n",
       "      <th>77</th>\n",
       "      <td>max_gactivity.20</td>\n",
       "      <td>True</td>\n",
       "      <td>False</td>\n",
       "      <td>False</td>\n",
       "      <td>False</td>\n",
       "      <td>1</td>\n",
       "    </tr>\n",
       "    <tr>\n",
       "      <th>78</th>\n",
       "      <td>max_gactivity.2</td>\n",
       "      <td>True</td>\n",
       "      <td>False</td>\n",
       "      <td>False</td>\n",
       "      <td>False</td>\n",
       "      <td>1</td>\n",
       "    </tr>\n",
       "    <tr>\n",
       "      <th>79</th>\n",
       "      <td>max_gactivity.19</td>\n",
       "      <td>True</td>\n",
       "      <td>False</td>\n",
       "      <td>False</td>\n",
       "      <td>False</td>\n",
       "      <td>1</td>\n",
       "    </tr>\n",
       "    <tr>\n",
       "      <th>80</th>\n",
       "      <td>max_gactivity.17</td>\n",
       "      <td>True</td>\n",
       "      <td>False</td>\n",
       "      <td>False</td>\n",
       "      <td>False</td>\n",
       "      <td>1</td>\n",
       "    </tr>\n",
       "    <tr>\n",
       "      <th>81</th>\n",
       "      <td>max_gactivity.16</td>\n",
       "      <td>True</td>\n",
       "      <td>False</td>\n",
       "      <td>False</td>\n",
       "      <td>False</td>\n",
       "      <td>1</td>\n",
       "    </tr>\n",
       "    <tr>\n",
       "      <th>82</th>\n",
       "      <td>max_gactivity.15</td>\n",
       "      <td>True</td>\n",
       "      <td>False</td>\n",
       "      <td>False</td>\n",
       "      <td>False</td>\n",
       "      <td>1</td>\n",
       "    </tr>\n",
       "    <tr>\n",
       "      <th>83</th>\n",
       "      <td>max_gactivity.14</td>\n",
       "      <td>True</td>\n",
       "      <td>False</td>\n",
       "      <td>False</td>\n",
       "      <td>False</td>\n",
       "      <td>1</td>\n",
       "    </tr>\n",
       "    <tr>\n",
       "      <th>84</th>\n",
       "      <td>max_gactivity.12</td>\n",
       "      <td>True</td>\n",
       "      <td>False</td>\n",
       "      <td>False</td>\n",
       "      <td>False</td>\n",
       "      <td>1</td>\n",
       "    </tr>\n",
       "    <tr>\n",
       "      <th>85</th>\n",
       "      <td>max_gactivity.11</td>\n",
       "      <td>True</td>\n",
       "      <td>False</td>\n",
       "      <td>False</td>\n",
       "      <td>False</td>\n",
       "      <td>1</td>\n",
       "    </tr>\n",
       "    <tr>\n",
       "      <th>86</th>\n",
       "      <td>max_gactivity.10</td>\n",
       "      <td>True</td>\n",
       "      <td>False</td>\n",
       "      <td>False</td>\n",
       "      <td>False</td>\n",
       "      <td>1</td>\n",
       "    </tr>\n",
       "    <tr>\n",
       "      <th>87</th>\n",
       "      <td>max_gactivity.1</td>\n",
       "      <td>True</td>\n",
       "      <td>False</td>\n",
       "      <td>False</td>\n",
       "      <td>False</td>\n",
       "      <td>1</td>\n",
       "    </tr>\n",
       "    <tr>\n",
       "      <th>88</th>\n",
       "      <td>max_difference_in_genergy.22</td>\n",
       "      <td>False</td>\n",
       "      <td>True</td>\n",
       "      <td>False</td>\n",
       "      <td>False</td>\n",
       "      <td>1</td>\n",
       "    </tr>\n",
       "    <tr>\n",
       "      <th>89</th>\n",
       "      <td>max_difference_in_genergy.20</td>\n",
       "      <td>False</td>\n",
       "      <td>True</td>\n",
       "      <td>False</td>\n",
       "      <td>False</td>\n",
       "      <td>1</td>\n",
       "    </tr>\n",
       "    <tr>\n",
       "      <th>90</th>\n",
       "      <td>max_difference_in_genergy.2</td>\n",
       "      <td>False</td>\n",
       "      <td>True</td>\n",
       "      <td>False</td>\n",
       "      <td>False</td>\n",
       "      <td>1</td>\n",
       "    </tr>\n",
       "    <tr>\n",
       "      <th>91</th>\n",
       "      <td>max_difference_in_genergy.19</td>\n",
       "      <td>False</td>\n",
       "      <td>True</td>\n",
       "      <td>False</td>\n",
       "      <td>False</td>\n",
       "      <td>1</td>\n",
       "    </tr>\n",
       "    <tr>\n",
       "      <th>92</th>\n",
       "      <td>max_difference_in_genergy.18</td>\n",
       "      <td>False</td>\n",
       "      <td>True</td>\n",
       "      <td>False</td>\n",
       "      <td>False</td>\n",
       "      <td>1</td>\n",
       "    </tr>\n",
       "    <tr>\n",
       "      <th>93</th>\n",
       "      <td>max_difference_in_gactivity.2</td>\n",
       "      <td>False</td>\n",
       "      <td>True</td>\n",
       "      <td>False</td>\n",
       "      <td>False</td>\n",
       "      <td>1</td>\n",
       "    </tr>\n",
       "    <tr>\n",
       "      <th>94</th>\n",
       "      <td>max_difference_in_gactivity.18</td>\n",
       "      <td>False</td>\n",
       "      <td>True</td>\n",
       "      <td>False</td>\n",
       "      <td>False</td>\n",
       "      <td>1</td>\n",
       "    </tr>\n",
       "    <tr>\n",
       "      <th>95</th>\n",
       "      <td>latest_seismoacoustic_assessment</td>\n",
       "      <td>False</td>\n",
       "      <td>False</td>\n",
       "      <td>True</td>\n",
       "      <td>False</td>\n",
       "      <td>1</td>\n",
       "    </tr>\n",
       "    <tr>\n",
       "      <th>96</th>\n",
       "      <td>highest_bump_energy.17</td>\n",
       "      <td>False</td>\n",
       "      <td>True</td>\n",
       "      <td>False</td>\n",
       "      <td>False</td>\n",
       "      <td>1</td>\n",
       "    </tr>\n",
       "    <tr>\n",
       "      <th>97</th>\n",
       "      <td>count_e2.4</td>\n",
       "      <td>False</td>\n",
       "      <td>False</td>\n",
       "      <td>False</td>\n",
       "      <td>True</td>\n",
       "      <td>1</td>\n",
       "    </tr>\n",
       "    <tr>\n",
       "      <th>98</th>\n",
       "      <td>count_e2.3</td>\n",
       "      <td>False</td>\n",
       "      <td>False</td>\n",
       "      <td>False</td>\n",
       "      <td>True</td>\n",
       "      <td>1</td>\n",
       "    </tr>\n",
       "    <tr>\n",
       "      <th>99</th>\n",
       "      <td>count_e2.24</td>\n",
       "      <td>False</td>\n",
       "      <td>False</td>\n",
       "      <td>False</td>\n",
       "      <td>True</td>\n",
       "      <td>1</td>\n",
       "    </tr>\n",
       "    <tr>\n",
       "      <th>100</th>\n",
       "      <td>count_e2.13</td>\n",
       "      <td>False</td>\n",
       "      <td>False</td>\n",
       "      <td>False</td>\n",
       "      <td>True</td>\n",
       "      <td>1</td>\n",
       "    </tr>\n",
       "    <tr>\n",
       "      <th>101</th>\n",
       "      <td>count_e2.12</td>\n",
       "      <td>False</td>\n",
       "      <td>False</td>\n",
       "      <td>False</td>\n",
       "      <td>True</td>\n",
       "      <td>1</td>\n",
       "    </tr>\n",
       "    <tr>\n",
       "      <th>102</th>\n",
       "      <td>avg_genergy.4</td>\n",
       "      <td>False</td>\n",
       "      <td>False</td>\n",
       "      <td>True</td>\n",
       "      <td>False</td>\n",
       "      <td>1</td>\n",
       "    </tr>\n",
       "    <tr>\n",
       "      <th>103</th>\n",
       "      <td>avg_genergy.24</td>\n",
       "      <td>False</td>\n",
       "      <td>False</td>\n",
       "      <td>True</td>\n",
       "      <td>False</td>\n",
       "      <td>1</td>\n",
       "    </tr>\n",
       "    <tr>\n",
       "      <th>104</th>\n",
       "      <td>avg_genergy.23</td>\n",
       "      <td>False</td>\n",
       "      <td>True</td>\n",
       "      <td>False</td>\n",
       "      <td>False</td>\n",
       "      <td>1</td>\n",
       "    </tr>\n",
       "    <tr>\n",
       "      <th>105</th>\n",
       "      <td>avg_genergy.22</td>\n",
       "      <td>False</td>\n",
       "      <td>False</td>\n",
       "      <td>True</td>\n",
       "      <td>False</td>\n",
       "      <td>1</td>\n",
       "    </tr>\n",
       "    <tr>\n",
       "      <th>106</th>\n",
       "      <td>avg_genergy.17</td>\n",
       "      <td>False</td>\n",
       "      <td>False</td>\n",
       "      <td>True</td>\n",
       "      <td>False</td>\n",
       "      <td>1</td>\n",
       "    </tr>\n",
       "    <tr>\n",
       "      <th>107</th>\n",
       "      <td>avg_gactivity.4</td>\n",
       "      <td>False</td>\n",
       "      <td>False</td>\n",
       "      <td>True</td>\n",
       "      <td>False</td>\n",
       "      <td>1</td>\n",
       "    </tr>\n",
       "    <tr>\n",
       "      <th>108</th>\n",
       "      <td>avg_gactivity.24</td>\n",
       "      <td>True</td>\n",
       "      <td>False</td>\n",
       "      <td>False</td>\n",
       "      <td>False</td>\n",
       "      <td>1</td>\n",
       "    </tr>\n",
       "    <tr>\n",
       "      <th>109</th>\n",
       "      <td>avg_gactivity.20</td>\n",
       "      <td>True</td>\n",
       "      <td>False</td>\n",
       "      <td>False</td>\n",
       "      <td>False</td>\n",
       "      <td>1</td>\n",
       "    </tr>\n",
       "    <tr>\n",
       "      <th>110</th>\n",
       "      <td>avg_gactivity.19</td>\n",
       "      <td>True</td>\n",
       "      <td>False</td>\n",
       "      <td>False</td>\n",
       "      <td>False</td>\n",
       "      <td>1</td>\n",
       "    </tr>\n",
       "    <tr>\n",
       "      <th>111</th>\n",
       "      <td>avg_gactivity.17</td>\n",
       "      <td>True</td>\n",
       "      <td>False</td>\n",
       "      <td>False</td>\n",
       "      <td>False</td>\n",
       "      <td>1</td>\n",
       "    </tr>\n",
       "    <tr>\n",
       "      <th>112</th>\n",
       "      <td>avg_gactivity.16</td>\n",
       "      <td>True</td>\n",
       "      <td>False</td>\n",
       "      <td>False</td>\n",
       "      <td>False</td>\n",
       "      <td>1</td>\n",
       "    </tr>\n",
       "    <tr>\n",
       "      <th>113</th>\n",
       "      <td>avg_difference_in_genergy.20</td>\n",
       "      <td>False</td>\n",
       "      <td>True</td>\n",
       "      <td>False</td>\n",
       "      <td>False</td>\n",
       "      <td>1</td>\n",
       "    </tr>\n",
       "    <tr>\n",
       "      <th>114</th>\n",
       "      <td>avg_difference_in_genergy.2</td>\n",
       "      <td>False</td>\n",
       "      <td>True</td>\n",
       "      <td>False</td>\n",
       "      <td>False</td>\n",
       "      <td>1</td>\n",
       "    </tr>\n",
       "    <tr>\n",
       "      <th>115</th>\n",
       "      <td>avg_difference_in_genergy.19</td>\n",
       "      <td>False</td>\n",
       "      <td>True</td>\n",
       "      <td>False</td>\n",
       "      <td>False</td>\n",
       "      <td>1</td>\n",
       "    </tr>\n",
       "    <tr>\n",
       "      <th>116</th>\n",
       "      <td>avg_difference_in_genergy.18</td>\n",
       "      <td>False</td>\n",
       "      <td>True</td>\n",
       "      <td>False</td>\n",
       "      <td>False</td>\n",
       "      <td>1</td>\n",
       "    </tr>\n",
       "    <tr>\n",
       "      <th>117</th>\n",
       "      <td>avg_difference_in_gactivity.2</td>\n",
       "      <td>False</td>\n",
       "      <td>True</td>\n",
       "      <td>False</td>\n",
       "      <td>False</td>\n",
       "      <td>1</td>\n",
       "    </tr>\n",
       "    <tr>\n",
       "      <th>118</th>\n",
       "      <td>avg_difference_in_gactivity.18</td>\n",
       "      <td>False</td>\n",
       "      <td>True</td>\n",
       "      <td>False</td>\n",
       "      <td>False</td>\n",
       "      <td>1</td>\n",
       "    </tr>\n",
       "    <tr>\n",
       "      <th>119</th>\n",
       "      <td>5avg_max_genergy</td>\n",
       "      <td>False</td>\n",
       "      <td>False</td>\n",
       "      <td>False</td>\n",
       "      <td>True</td>\n",
       "      <td>1</td>\n",
       "    </tr>\n",
       "    <tr>\n",
       "      <th>120</th>\n",
       "      <td>5avg_avg_genergy</td>\n",
       "      <td>False</td>\n",
       "      <td>False</td>\n",
       "      <td>True</td>\n",
       "      <td>False</td>\n",
       "      <td>1</td>\n",
       "    </tr>\n",
       "    <tr>\n",
       "      <th>121</th>\n",
       "      <td>5avg_avg_gactivity</td>\n",
       "      <td>True</td>\n",
       "      <td>False</td>\n",
       "      <td>False</td>\n",
       "      <td>False</td>\n",
       "      <td>1</td>\n",
       "    </tr>\n",
       "    <tr>\n",
       "      <th>122</th>\n",
       "      <td>5avg_avg_difference_in_gactivity</td>\n",
       "      <td>False</td>\n",
       "      <td>True</td>\n",
       "      <td>False</td>\n",
       "      <td>False</td>\n",
       "      <td>1</td>\n",
       "    </tr>\n",
       "    <tr>\n",
       "      <th>123</th>\n",
       "      <td>5_avg_max_difference_in_genergy</td>\n",
       "      <td>False</td>\n",
       "      <td>True</td>\n",
       "      <td>False</td>\n",
       "      <td>False</td>\n",
       "      <td>1</td>\n",
       "    </tr>\n",
       "    <tr>\n",
       "      <th>124</th>\n",
       "      <td>5_avg_max_difference_in_gactivity</td>\n",
       "      <td>False</td>\n",
       "      <td>False</td>\n",
       "      <td>False</td>\n",
       "      <td>True</td>\n",
       "      <td>1</td>\n",
       "    </tr>\n",
       "    <tr>\n",
       "      <th>125</th>\n",
       "      <td>5_avg_avg_genergy</td>\n",
       "      <td>False</td>\n",
       "      <td>False</td>\n",
       "      <td>True</td>\n",
       "      <td>False</td>\n",
       "      <td>1</td>\n",
       "    </tr>\n",
       "    <tr>\n",
       "      <th>126</th>\n",
       "      <td>5_avg_avg_gactivity</td>\n",
       "      <td>True</td>\n",
       "      <td>False</td>\n",
       "      <td>False</td>\n",
       "      <td>False</td>\n",
       "      <td>1</td>\n",
       "    </tr>\n",
       "    <tr>\n",
       "      <th>127</th>\n",
       "      <td>5_avg_avg_difference_in_genergy</td>\n",
       "      <td>False</td>\n",
       "      <td>True</td>\n",
       "      <td>False</td>\n",
       "      <td>False</td>\n",
       "      <td>1</td>\n",
       "    </tr>\n",
       "    <tr>\n",
       "      <th>128</th>\n",
       "      <td>5_avg_avg_difference_in_gactivity</td>\n",
       "      <td>False</td>\n",
       "      <td>False</td>\n",
       "      <td>False</td>\n",
       "      <td>True</td>\n",
       "      <td>1</td>\n",
       "    </tr>\n",
       "    <tr>\n",
       "      <th>129</th>\n",
       "      <td>24h_std_max_difference_in_gactivity</td>\n",
       "      <td>False</td>\n",
       "      <td>True</td>\n",
       "      <td>False</td>\n",
       "      <td>False</td>\n",
       "      <td>1</td>\n",
       "    </tr>\n",
       "    <tr>\n",
       "      <th>130</th>\n",
       "      <td>24h_std_avg_difference_in_genergy</td>\n",
       "      <td>False</td>\n",
       "      <td>False</td>\n",
       "      <td>True</td>\n",
       "      <td>False</td>\n",
       "      <td>1</td>\n",
       "    </tr>\n",
       "    <tr>\n",
       "      <th>131</th>\n",
       "      <td>24h_max_avg_genergy</td>\n",
       "      <td>False</td>\n",
       "      <td>True</td>\n",
       "      <td>False</td>\n",
       "      <td>False</td>\n",
       "      <td>1</td>\n",
       "    </tr>\n",
       "    <tr>\n",
       "      <th>132</th>\n",
       "      <td>24h_max_avg_difference_in_genergy</td>\n",
       "      <td>False</td>\n",
       "      <td>False</td>\n",
       "      <td>True</td>\n",
       "      <td>False</td>\n",
       "      <td>1</td>\n",
       "    </tr>\n",
       "    <tr>\n",
       "      <th>133</th>\n",
       "      <td>24h_max_abs_max_difference_in_gactivity</td>\n",
       "      <td>False</td>\n",
       "      <td>False</td>\n",
       "      <td>False</td>\n",
       "      <td>True</td>\n",
       "      <td>1</td>\n",
       "    </tr>\n",
       "    <tr>\n",
       "      <th>134</th>\n",
       "      <td>24h_max_abs_avg_difference_in_gactivity</td>\n",
       "      <td>False</td>\n",
       "      <td>True</td>\n",
       "      <td>False</td>\n",
       "      <td>False</td>\n",
       "      <td>1</td>\n",
       "    </tr>\n",
       "    <tr>\n",
       "      <th>135</th>\n",
       "      <td>24h_avg_max_genergy</td>\n",
       "      <td>False</td>\n",
       "      <td>False</td>\n",
       "      <td>False</td>\n",
       "      <td>True</td>\n",
       "      <td>1</td>\n",
       "    </tr>\n",
       "    <tr>\n",
       "      <th>136</th>\n",
       "      <td>24h_avg_max_difference_in_genergy</td>\n",
       "      <td>False</td>\n",
       "      <td>True</td>\n",
       "      <td>False</td>\n",
       "      <td>False</td>\n",
       "      <td>1</td>\n",
       "    </tr>\n",
       "    <tr>\n",
       "      <th>137</th>\n",
       "      <td>24h_avg_avg_difference_in_genergy</td>\n",
       "      <td>False</td>\n",
       "      <td>False</td>\n",
       "      <td>False</td>\n",
       "      <td>True</td>\n",
       "      <td>1</td>\n",
       "    </tr>\n",
       "    <tr>\n",
       "      <th>138</th>\n",
       "      <td>24h_avg_avg_difference_in_gactivity</td>\n",
       "      <td>False</td>\n",
       "      <td>False</td>\n",
       "      <td>False</td>\n",
       "      <td>True</td>\n",
       "      <td>1</td>\n",
       "    </tr>\n",
       "    <tr>\n",
       "      <th>139</th>\n",
       "      <td>24h_abs_avg_max_difference_in_gactivity</td>\n",
       "      <td>False</td>\n",
       "      <td>False</td>\n",
       "      <td>False</td>\n",
       "      <td>True</td>\n",
       "      <td>1</td>\n",
       "    </tr>\n",
       "    <tr>\n",
       "      <th>140</th>\n",
       "      <td>total_number_of_bumps.8</td>\n",
       "      <td>False</td>\n",
       "      <td>False</td>\n",
       "      <td>False</td>\n",
       "      <td>False</td>\n",
       "      <td>0</td>\n",
       "    </tr>\n",
       "    <tr>\n",
       "      <th>141</th>\n",
       "      <td>total_number_of_bumps.7</td>\n",
       "      <td>False</td>\n",
       "      <td>False</td>\n",
       "      <td>False</td>\n",
       "      <td>False</td>\n",
       "      <td>0</td>\n",
       "    </tr>\n",
       "    <tr>\n",
       "      <th>142</th>\n",
       "      <td>total_number_of_bumps.6</td>\n",
       "      <td>False</td>\n",
       "      <td>False</td>\n",
       "      <td>False</td>\n",
       "      <td>False</td>\n",
       "      <td>0</td>\n",
       "    </tr>\n",
       "    <tr>\n",
       "      <th>143</th>\n",
       "      <td>total_number_of_bumps.5</td>\n",
       "      <td>False</td>\n",
       "      <td>False</td>\n",
       "      <td>False</td>\n",
       "      <td>False</td>\n",
       "      <td>0</td>\n",
       "    </tr>\n",
       "    <tr>\n",
       "      <th>144</th>\n",
       "      <td>total_number_of_bumps.3</td>\n",
       "      <td>False</td>\n",
       "      <td>False</td>\n",
       "      <td>False</td>\n",
       "      <td>False</td>\n",
       "      <td>0</td>\n",
       "    </tr>\n",
       "    <tr>\n",
       "      <th>145</th>\n",
       "      <td>total_number_of_bumps.24</td>\n",
       "      <td>False</td>\n",
       "      <td>False</td>\n",
       "      <td>False</td>\n",
       "      <td>False</td>\n",
       "      <td>0</td>\n",
       "    </tr>\n",
       "    <tr>\n",
       "      <th>146</th>\n",
       "      <td>total_number_of_bumps.23</td>\n",
       "      <td>False</td>\n",
       "      <td>False</td>\n",
       "      <td>False</td>\n",
       "      <td>False</td>\n",
       "      <td>0</td>\n",
       "    </tr>\n",
       "    <tr>\n",
       "      <th>147</th>\n",
       "      <td>total_number_of_bumps.22</td>\n",
       "      <td>False</td>\n",
       "      <td>False</td>\n",
       "      <td>False</td>\n",
       "      <td>False</td>\n",
       "      <td>0</td>\n",
       "    </tr>\n",
       "    <tr>\n",
       "      <th>148</th>\n",
       "      <td>total_number_of_bumps.21</td>\n",
       "      <td>False</td>\n",
       "      <td>False</td>\n",
       "      <td>False</td>\n",
       "      <td>False</td>\n",
       "      <td>0</td>\n",
       "    </tr>\n",
       "    <tr>\n",
       "      <th>149</th>\n",
       "      <td>total_number_of_bumps.2</td>\n",
       "      <td>False</td>\n",
       "      <td>False</td>\n",
       "      <td>False</td>\n",
       "      <td>False</td>\n",
       "      <td>0</td>\n",
       "    </tr>\n",
       "    <tr>\n",
       "      <th>150</th>\n",
       "      <td>total_number_of_bumps.19</td>\n",
       "      <td>False</td>\n",
       "      <td>False</td>\n",
       "      <td>False</td>\n",
       "      <td>False</td>\n",
       "      <td>0</td>\n",
       "    </tr>\n",
       "  </tbody>\n",
       "</table>\n",
       "</div>\n",
       "      <button class=\"colab-df-convert\" onclick=\"convertToInteractive('df-02f5c949-6c05-4b5a-9e92-ace28043d2ea')\"\n",
       "              title=\"Convert this dataframe to an interactive table.\"\n",
       "              style=\"display:none;\">\n",
       "        \n",
       "  <svg xmlns=\"http://www.w3.org/2000/svg\" height=\"24px\"viewBox=\"0 0 24 24\"\n",
       "       width=\"24px\">\n",
       "    <path d=\"M0 0h24v24H0V0z\" fill=\"none\"/>\n",
       "    <path d=\"M18.56 5.44l.94 2.06.94-2.06 2.06-.94-2.06-.94-.94-2.06-.94 2.06-2.06.94zm-11 1L8.5 8.5l.94-2.06 2.06-.94-2.06-.94L8.5 2.5l-.94 2.06-2.06.94zm10 10l.94 2.06.94-2.06 2.06-.94-2.06-.94-.94-2.06-.94 2.06-2.06.94z\"/><path d=\"M17.41 7.96l-1.37-1.37c-.4-.4-.92-.59-1.43-.59-.52 0-1.04.2-1.43.59L10.3 9.45l-7.72 7.72c-.78.78-.78 2.05 0 2.83L4 21.41c.39.39.9.59 1.41.59.51 0 1.02-.2 1.41-.59l7.78-7.78 2.81-2.81c.8-.78.8-2.07 0-2.86zM5.41 20L4 18.59l7.72-7.72 1.47 1.35L5.41 20z\"/>\n",
       "  </svg>\n",
       "      </button>\n",
       "      \n",
       "  <style>\n",
       "    .colab-df-container {\n",
       "      display:flex;\n",
       "      flex-wrap:wrap;\n",
       "      gap: 12px;\n",
       "    }\n",
       "\n",
       "    .colab-df-convert {\n",
       "      background-color: #E8F0FE;\n",
       "      border: none;\n",
       "      border-radius: 50%;\n",
       "      cursor: pointer;\n",
       "      display: none;\n",
       "      fill: #1967D2;\n",
       "      height: 32px;\n",
       "      padding: 0 0 0 0;\n",
       "      width: 32px;\n",
       "    }\n",
       "\n",
       "    .colab-df-convert:hover {\n",
       "      background-color: #E2EBFA;\n",
       "      box-shadow: 0px 1px 2px rgba(60, 64, 67, 0.3), 0px 1px 3px 1px rgba(60, 64, 67, 0.15);\n",
       "      fill: #174EA6;\n",
       "    }\n",
       "\n",
       "    [theme=dark] .colab-df-convert {\n",
       "      background-color: #3B4455;\n",
       "      fill: #D2E3FC;\n",
       "    }\n",
       "\n",
       "    [theme=dark] .colab-df-convert:hover {\n",
       "      background-color: #434B5C;\n",
       "      box-shadow: 0px 1px 3px 1px rgba(0, 0, 0, 0.15);\n",
       "      filter: drop-shadow(0px 1px 2px rgba(0, 0, 0, 0.3));\n",
       "      fill: #FFFFFF;\n",
       "    }\n",
       "  </style>\n",
       "\n",
       "      <script>\n",
       "        const buttonEl =\n",
       "          document.querySelector('#df-02f5c949-6c05-4b5a-9e92-ace28043d2ea button.colab-df-convert');\n",
       "        buttonEl.style.display =\n",
       "          google.colab.kernel.accessAllowed ? 'block' : 'none';\n",
       "\n",
       "        async function convertToInteractive(key) {\n",
       "          const element = document.querySelector('#df-02f5c949-6c05-4b5a-9e92-ace28043d2ea');\n",
       "          const dataTable =\n",
       "            await google.colab.kernel.invokeFunction('convertToInteractive',\n",
       "                                                     [key], {});\n",
       "          if (!dataTable) return;\n",
       "\n",
       "          const docLinkHtml = 'Like what you see? Visit the ' +\n",
       "            '<a target=\"_blank\" href=https://colab.research.google.com/notebooks/data_table.ipynb>data table notebook</a>'\n",
       "            + ' to learn more about interactive tables.';\n",
       "          element.innerHTML = '';\n",
       "          dataTable['output_type'] = 'display_data';\n",
       "          await google.colab.output.renderOutput(dataTable, element);\n",
       "          const docLink = document.createElement('div');\n",
       "          docLink.innerHTML = docLinkHtml;\n",
       "          element.appendChild(docLink);\n",
       "        }\n",
       "      </script>\n",
       "    </div>\n",
       "  </div>\n",
       "  "
      ],
      "text/plain": [
       "                                     Feature  Pearson    RFE  Random Forest  \\\n",
       "1                  latest_seismic_assessment     True   True           True   \n",
       "2                        5_avg_max_gactivity     True   True           True   \n",
       "3                      24h_std_max_gactivity     True   True           True   \n",
       "4                    sum_highest_bump_energy    False   True           True   \n",
       "5                               sum_count_e4     True  False           True   \n",
       "6                               sum_count_e3     True  False           True   \n",
       "7                           max_gactivity.24     True  False           True   \n",
       "8                       latest_maximum_yield    False   True           True   \n",
       "9                       latest_maximum_meter    False   True           True   \n",
       "10                     24h_max_max_gactivity     True  False           True   \n",
       "11                     24h_max_avg_gactivity     True   True           True   \n",
       "12     24h_max_abs_avg_difference_in_genergy    False   True           True   \n",
       "13                     24h_avg_avg_gactivity     True  False           True   \n",
       "14                      total_tremors_energy    False  False           True   \n",
       "15                      total_seismic_energy    False  False           True   \n",
       "16                        total_bumps_energy    False  False           True   \n",
       "17                                sum_sum_e4     True  False           True   \n",
       "18                                sum_sum_e3     True  False           True   \n",
       "19                                sum_sum_e2     True  False           True   \n",
       "20                              sum_count_e2    False  False           True   \n",
       "21                            max_genergy.23    False   True           True   \n",
       "22                          max_gactivity.23     True  False           True   \n",
       "23                          max_gactivity.22     True  False           True   \n",
       "24                          max_gactivity.21     True  False           True   \n",
       "25                          max_gactivity.18     True  False           True   \n",
       "26                          max_gactivity.13     True  False           True   \n",
       "27              latest_progress_estimation_r    False  False           True   \n",
       "28              latest_progress_estimation_l    False  False           True   \n",
       "29                 latest_hazards_assessment    False   True          False   \n",
       "30           latest_comprehensive_assessment     True  False           True   \n",
       "31                          avg_gactivity.23     True  False           True   \n",
       "32                          avg_gactivity.22     True  False           True   \n",
       "33                          avg_gactivity.21     True  False           True   \n",
       "34                          avg_gactivity.18     True  False           True   \n",
       "35                          avg_gactivity.15     True  False           True   \n",
       "36                        5avg_max_gactivity     True  False           True   \n",
       "37         24h_std_max_difference_in_genergy    False   True          False   \n",
       "38       24h_std_avg_difference_in_gactivity    False   True          False   \n",
       "39       24h_max_max_difference_in_gactivity    False   True          False   \n",
       "40     24h_max_abs_max_difference_in_genergy    False   True          False   \n",
       "41                     24h_avg_max_gactivity     True  False           True   \n",
       "42                       24h_avg_avg_genergy    False  False           True   \n",
       "43     24h_abs_avg_max_difference_in_genergy    False   True          False   \n",
       "44     24h_abs_avg_avg_difference_in_genergy    False   True          False   \n",
       "45   24h_abs_avg_avg_difference_in_gactivity    False  False           True   \n",
       "46                   total_number_of_bumps.9    False  False          False   \n",
       "47                   total_number_of_bumps.4    False  False          False   \n",
       "48                  total_number_of_bumps.20    False  False          False   \n",
       "49                  total_number_of_bumps.18    False  False          False   \n",
       "50                  total_number_of_bumps.14    False  False          False   \n",
       "51                  total_number_of_bumps.13    False  False          False   \n",
       "52                  total_number_of_bumps.12    False  False          False   \n",
       "53                  total_number_of_bumps.11    False  False          False   \n",
       "54                  total_number_of_bumps.10    False  False          False   \n",
       "55                   total_number_of_bumps.1    False  False          False   \n",
       "56                             sum_e6plus.17    False   True          False   \n",
       "57                  number_of_rock_bursts.24    False   True          False   \n",
       "58            number_of_destressing_blasts.9    False   True          False   \n",
       "59            number_of_destressing_blasts.8    False   True          False   \n",
       "60            number_of_destressing_blasts.7    False   True          False   \n",
       "61            number_of_destressing_blasts.6    False   True          False   \n",
       "62            number_of_destressing_blasts.5    False   True          False   \n",
       "63           number_of_destressing_blasts.22    False   True          False   \n",
       "64           number_of_destressing_blasts.21    False   True          False   \n",
       "65           number_of_destressing_blasts.20    False   True          False   \n",
       "66           number_of_destressing_blasts.11    False   True          False   \n",
       "67           number_of_destressing_blasts.10    False   True          False   \n",
       "68                            max_genergy.21    False  False           True   \n",
       "69                            max_genergy.15    False  False           True   \n",
       "70                           max_gactivity.9     True  False          False   \n",
       "71                           max_gactivity.8     True  False          False   \n",
       "72                           max_gactivity.7     True  False          False   \n",
       "73                           max_gactivity.6     True  False          False   \n",
       "74                           max_gactivity.5     True  False          False   \n",
       "75                           max_gactivity.4     True  False          False   \n",
       "76                           max_gactivity.3     True  False          False   \n",
       "77                          max_gactivity.20     True  False          False   \n",
       "78                           max_gactivity.2     True  False          False   \n",
       "79                          max_gactivity.19     True  False          False   \n",
       "80                          max_gactivity.17     True  False          False   \n",
       "81                          max_gactivity.16     True  False          False   \n",
       "82                          max_gactivity.15     True  False          False   \n",
       "83                          max_gactivity.14     True  False          False   \n",
       "84                          max_gactivity.12     True  False          False   \n",
       "85                          max_gactivity.11     True  False          False   \n",
       "86                          max_gactivity.10     True  False          False   \n",
       "87                           max_gactivity.1     True  False          False   \n",
       "88              max_difference_in_genergy.22    False   True          False   \n",
       "89              max_difference_in_genergy.20    False   True          False   \n",
       "90               max_difference_in_genergy.2    False   True          False   \n",
       "91              max_difference_in_genergy.19    False   True          False   \n",
       "92              max_difference_in_genergy.18    False   True          False   \n",
       "93             max_difference_in_gactivity.2    False   True          False   \n",
       "94            max_difference_in_gactivity.18    False   True          False   \n",
       "95          latest_seismoacoustic_assessment    False  False           True   \n",
       "96                    highest_bump_energy.17    False   True          False   \n",
       "97                                count_e2.4    False  False          False   \n",
       "98                                count_e2.3    False  False          False   \n",
       "99                               count_e2.24    False  False          False   \n",
       "100                              count_e2.13    False  False          False   \n",
       "101                              count_e2.12    False  False          False   \n",
       "102                            avg_genergy.4    False  False           True   \n",
       "103                           avg_genergy.24    False  False           True   \n",
       "104                           avg_genergy.23    False   True          False   \n",
       "105                           avg_genergy.22    False  False           True   \n",
       "106                           avg_genergy.17    False  False           True   \n",
       "107                          avg_gactivity.4    False  False           True   \n",
       "108                         avg_gactivity.24     True  False          False   \n",
       "109                         avg_gactivity.20     True  False          False   \n",
       "110                         avg_gactivity.19     True  False          False   \n",
       "111                         avg_gactivity.17     True  False          False   \n",
       "112                         avg_gactivity.16     True  False          False   \n",
       "113             avg_difference_in_genergy.20    False   True          False   \n",
       "114              avg_difference_in_genergy.2    False   True          False   \n",
       "115             avg_difference_in_genergy.19    False   True          False   \n",
       "116             avg_difference_in_genergy.18    False   True          False   \n",
       "117            avg_difference_in_gactivity.2    False   True          False   \n",
       "118           avg_difference_in_gactivity.18    False   True          False   \n",
       "119                         5avg_max_genergy    False  False          False   \n",
       "120                         5avg_avg_genergy    False  False           True   \n",
       "121                       5avg_avg_gactivity     True  False          False   \n",
       "122         5avg_avg_difference_in_gactivity    False   True          False   \n",
       "123          5_avg_max_difference_in_genergy    False   True          False   \n",
       "124        5_avg_max_difference_in_gactivity    False  False          False   \n",
       "125                        5_avg_avg_genergy    False  False           True   \n",
       "126                      5_avg_avg_gactivity     True  False          False   \n",
       "127          5_avg_avg_difference_in_genergy    False   True          False   \n",
       "128        5_avg_avg_difference_in_gactivity    False  False          False   \n",
       "129      24h_std_max_difference_in_gactivity    False   True          False   \n",
       "130        24h_std_avg_difference_in_genergy    False  False           True   \n",
       "131                      24h_max_avg_genergy    False   True          False   \n",
       "132        24h_max_avg_difference_in_genergy    False  False           True   \n",
       "133  24h_max_abs_max_difference_in_gactivity    False  False          False   \n",
       "134  24h_max_abs_avg_difference_in_gactivity    False   True          False   \n",
       "135                      24h_avg_max_genergy    False  False          False   \n",
       "136        24h_avg_max_difference_in_genergy    False   True          False   \n",
       "137        24h_avg_avg_difference_in_genergy    False  False          False   \n",
       "138      24h_avg_avg_difference_in_gactivity    False  False          False   \n",
       "139  24h_abs_avg_max_difference_in_gactivity    False  False          False   \n",
       "140                  total_number_of_bumps.8    False  False          False   \n",
       "141                  total_number_of_bumps.7    False  False          False   \n",
       "142                  total_number_of_bumps.6    False  False          False   \n",
       "143                  total_number_of_bumps.5    False  False          False   \n",
       "144                  total_number_of_bumps.3    False  False          False   \n",
       "145                 total_number_of_bumps.24    False  False          False   \n",
       "146                 total_number_of_bumps.23    False  False          False   \n",
       "147                 total_number_of_bumps.22    False  False          False   \n",
       "148                 total_number_of_bumps.21    False  False          False   \n",
       "149                  total_number_of_bumps.2    False  False          False   \n",
       "150                 total_number_of_bumps.19    False  False          False   \n",
       "\n",
       "     LightGBM  Total  \n",
       "1        True      4  \n",
       "2        True      4  \n",
       "3        True      4  \n",
       "4        True      3  \n",
       "5        True      3  \n",
       "6        True      3  \n",
       "7        True      3  \n",
       "8        True      3  \n",
       "9        True      3  \n",
       "10       True      3  \n",
       "11      False      3  \n",
       "12       True      3  \n",
       "13       True      3  \n",
       "14       True      2  \n",
       "15       True      2  \n",
       "16       True      2  \n",
       "17      False      2  \n",
       "18      False      2  \n",
       "19      False      2  \n",
       "20       True      2  \n",
       "21      False      2  \n",
       "22      False      2  \n",
       "23      False      2  \n",
       "24      False      2  \n",
       "25      False      2  \n",
       "26      False      2  \n",
       "27       True      2  \n",
       "28       True      2  \n",
       "29       True      2  \n",
       "30      False      2  \n",
       "31      False      2  \n",
       "32      False      2  \n",
       "33      False      2  \n",
       "34      False      2  \n",
       "35      False      2  \n",
       "36      False      2  \n",
       "37       True      2  \n",
       "38       True      2  \n",
       "39       True      2  \n",
       "40       True      2  \n",
       "41      False      2  \n",
       "42       True      2  \n",
       "43       True      2  \n",
       "44       True      2  \n",
       "45       True      2  \n",
       "46       True      1  \n",
       "47       True      1  \n",
       "48       True      1  \n",
       "49       True      1  \n",
       "50       True      1  \n",
       "51       True      1  \n",
       "52       True      1  \n",
       "53       True      1  \n",
       "54       True      1  \n",
       "55       True      1  \n",
       "56      False      1  \n",
       "57      False      1  \n",
       "58      False      1  \n",
       "59      False      1  \n",
       "60      False      1  \n",
       "61      False      1  \n",
       "62      False      1  \n",
       "63      False      1  \n",
       "64      False      1  \n",
       "65      False      1  \n",
       "66      False      1  \n",
       "67      False      1  \n",
       "68      False      1  \n",
       "69      False      1  \n",
       "70      False      1  \n",
       "71      False      1  \n",
       "72      False      1  \n",
       "73      False      1  \n",
       "74      False      1  \n",
       "75      False      1  \n",
       "76      False      1  \n",
       "77      False      1  \n",
       "78      False      1  \n",
       "79      False      1  \n",
       "80      False      1  \n",
       "81      False      1  \n",
       "82      False      1  \n",
       "83      False      1  \n",
       "84      False      1  \n",
       "85      False      1  \n",
       "86      False      1  \n",
       "87      False      1  \n",
       "88      False      1  \n",
       "89      False      1  \n",
       "90      False      1  \n",
       "91      False      1  \n",
       "92      False      1  \n",
       "93      False      1  \n",
       "94      False      1  \n",
       "95      False      1  \n",
       "96      False      1  \n",
       "97       True      1  \n",
       "98       True      1  \n",
       "99       True      1  \n",
       "100      True      1  \n",
       "101      True      1  \n",
       "102     False      1  \n",
       "103     False      1  \n",
       "104     False      1  \n",
       "105     False      1  \n",
       "106     False      1  \n",
       "107     False      1  \n",
       "108     False      1  \n",
       "109     False      1  \n",
       "110     False      1  \n",
       "111     False      1  \n",
       "112     False      1  \n",
       "113     False      1  \n",
       "114     False      1  \n",
       "115     False      1  \n",
       "116     False      1  \n",
       "117     False      1  \n",
       "118     False      1  \n",
       "119      True      1  \n",
       "120     False      1  \n",
       "121     False      1  \n",
       "122     False      1  \n",
       "123     False      1  \n",
       "124      True      1  \n",
       "125     False      1  \n",
       "126     False      1  \n",
       "127     False      1  \n",
       "128      True      1  \n",
       "129     False      1  \n",
       "130     False      1  \n",
       "131     False      1  \n",
       "132     False      1  \n",
       "133      True      1  \n",
       "134     False      1  \n",
       "135      True      1  \n",
       "136     False      1  \n",
       "137      True      1  \n",
       "138      True      1  \n",
       "139      True      1  \n",
       "140     False      0  \n",
       "141     False      0  \n",
       "142     False      0  \n",
       "143     False      0  \n",
       "144     False      0  \n",
       "145     False      0  \n",
       "146     False      0  \n",
       "147     False      0  \n",
       "148     False      0  \n",
       "149     False      0  \n",
       "150     False      0  "
      ]
     },
     "execution_count": 35,
     "metadata": {},
     "output_type": "execute_result"
    }
   ],
   "source": [
    "feature_name = list(Xsm_train.columns)\n",
    "pd.set_option('display.max_rows', None)\n",
    "feature_selection_df = pd.DataFrame({\n",
    "     'Feature': feature_name, \n",
    "     'Pearson': cor_support, \n",
    "     'RFE': rfe_support, \n",
    "     'Random Forest': rf_support, \n",
    "     'LightGBM': lgbc_support\n",
    "})\n",
    "\n",
    "feature_selection_df['Total'] = np.sum(feature_selection_df, axis=1)\n",
    "\n",
    "feature_selection_df = feature_selection_df.sort_values(\n",
    "    ['Total', 'Feature'], ascending=False)\n",
    "feature_selection_df.index = range(1, len(feature_selection_df)+1)\n",
    "feature_selection_df.head(150)"
   ]
  },
  {
   "cell_type": "code",
   "execution_count": null,
   "id": "AffJ-dpzrLzd",
   "metadata": {
    "id": "AffJ-dpzrLzd"
   },
   "outputs": [],
   "source": [
    "#Methodology of selecting features I addopted assuming that at least 2 selection\n",
    "# methods from all 4 have to point out feature to be included to final dataset\n",
    "imp_features = feature_selection_df[feature_selection_df['Total'] > 1\n",
    "                                    ]['Feature'].values"
   ]
  },
  {
   "cell_type": "code",
   "execution_count": null,
   "id": "Iu6a6jwYzd4l",
   "metadata": {
    "id": "Iu6a6jwYzd4l"
   },
   "outputs": [],
   "source": [
    "#Assigning only important features to the datasets\n",
    "X_train = Xsm_train[imp_features]\n",
    "X_test = X_test[imp_features]\n",
    "y_train = ysm_train"
   ]
  },
  {
   "cell_type": "markdown",
   "id": "S0Eg8K517d9a",
   "metadata": {
    "id": "S0Eg8K517d9a"
   },
   "source": [
    "# Dimensionality reduction"
   ]
  },
  {
   "cell_type": "code",
   "execution_count": null,
   "id": "hr1yB2Dm7ru3",
   "metadata": {
    "colab": {
     "base_uri": "https://localhost:8080/",
     "height": 430
    },
    "executionInfo": {
     "elapsed": 1604,
     "status": "ok",
     "timestamp": 1682054274749,
     "user": {
      "displayName": "Dawid Walicki",
      "userId": "09899538618212575449"
     },
     "user_tz": -120
    },
    "id": "hr1yB2Dm7ru3",
    "outputId": "8c076712-6c38-4217-bf14-cb877a3dbacc"
   },
   "outputs": [
    {
     "data": {
      "image/png": "[encoded data removed]",
      "text/plain": [
       "<Figure size 640x480 with 1 Axes>"
      ]
     },
     "metadata": {},
     "output_type": "display_data"
    }
   ],
   "source": [
    "pca = PCA()\n",
    "pca.fit(X_train)\n",
    "plt.bar(range(pca.n_components_), pca.explained_variance_ratio_)\n",
    "plt.xlim(-1, 21)\n",
    "plt.show()"
   ]
  },
  {
   "cell_type": "code",
   "execution_count": null,
   "id": "H4UfKlXqJN6g",
   "metadata": {
    "id": "H4UfKlXqJN6g"
   },
   "outputs": [],
   "source": [
    "num_components = 1"
   ]
  },
  {
   "cell_type": "markdown",
   "id": "8_PP6aW0F7NY",
   "metadata": {
    "id": "8_PP6aW0F7NY"
   },
   "source": [
    "Conclusion: 1 principal component vector should enough."
   ]
  },
  {
   "cell_type": "code",
   "execution_count": null,
   "id": "k1TfBFKOI9r-",
   "metadata": {
    "id": "k1TfBFKOI9r-"
   },
   "outputs": [],
   "source": [
    "X_train_pca = pca.transform(X_train)[:, :num_components]\n",
    "X_test_pca = pca.transform(X_test)[:, :num_components]"
   ]
  },
  {
   "cell_type": "code",
   "execution_count": null,
   "id": "i0CCXrutJdyn",
   "metadata": {
    "colab": {
     "base_uri": "https://localhost:8080/"
    },
    "executionInfo": {
     "elapsed": 54746,
     "status": "ok",
     "timestamp": 1682054356656,
     "user": {
      "displayName": "Dawid Walicki",
      "userId": "09899538618212575449"
     },
     "user_tz": -120
    },
    "id": "i0CCXrutJdyn",
    "outputId": "0f523eb3-90d6-4ea6-90f0-d37a71ad774d"
   },
   "outputs": [
    {
     "name": "stderr",
     "output_type": "stream",
     "text": [
      "/usr/local/lib/python3.9/dist-packages/sklearn/utils/validation.py:1143: DataConversionWarning: A column-vector y was passed when a 1d array was expected. Please change the shape of y to (n_samples, ), for example using ravel().\n",
      "  y = column_or_1d(y, warn=True)\n"
     ]
    },
    {
     "name": "stdout",
     "output_type": "stream",
     "text": [
      "LogisticRegression report\n",
      "              precision    recall  f1-score   support\n",
      "\n",
      "      Normal       0.98      0.91      0.94      3664\n",
      "     Warning       0.27      0.58      0.36       196\n",
      "\n",
      "    accuracy                           0.90      3860\n",
      "   macro avg       0.62      0.75      0.65      3860\n",
      "weighted avg       0.94      0.90      0.91      3860\n",
      "\n",
      "AUC: 0.745552424026379\n",
      "-------\n"
     ]
    },
    {
     "name": "stderr",
     "output_type": "stream",
     "text": [
      "<ipython-input-7-8c6edf65c1a8>:17: DataConversionWarning: A column-vector y was passed when a 1d array was expected. Please change the shape of y to (n_samples,), for example using ravel().\n",
      "  RanFor.fit(X_train, y_train)\n"
     ]
    },
    {
     "name": "stdout",
     "output_type": "stream",
     "text": [
      "RandomForest report\n",
      "              precision    recall  f1-score   support\n",
      "\n",
      "      Normal       0.96      0.97      0.97      3664\n",
      "     Warning       0.35      0.32      0.33       196\n",
      "\n",
      "    accuracy                           0.93      3860\n",
      "   macro avg       0.65      0.64      0.65      3860\n",
      "weighted avg       0.93      0.93      0.93      3860\n",
      "\n",
      "AUC: 0.6444752027448534\n",
      "-------\n"
     ]
    }
   ],
   "source": [
    "pred_eval(X_train_pca, X_test_pca, y_train, y_test)"
   ]
  },
  {
   "cell_type": "markdown",
   "id": "tsLdCUOcGPdM",
   "metadata": {
    "id": "tsLdCUOcGPdM"
   },
   "source": [
    "Conclusion: PCA does not help. After many trials and errors metrics are always significatnly worse results than without dimensionality reduction. "
   ]
  },
  {
   "cell_type": "markdown",
   "id": "d6JVp_8mU0ia",
   "metadata": {
    "id": "d6JVp_8mU0ia"
   },
   "source": [
    "# Model"
   ]
  },
  {
   "cell_type": "markdown",
   "id": "skbW4F62dlN2",
   "metadata": {
    "id": "skbW4F62dlN2"
   },
   "source": [
    "In this section I'll be testing a few alghoritms to find the best one. Main evaluation score I've selected are: recall  of class 'warning' (in coal main people safety are the most important) and roc_auc and next possibly high precision (to not interrupt works too often). Typed alghorithms are:\n",
    "* Logistic Regression\n",
    "* Random Forest\n",
    "* LightGBM\n",
    "* CatBoostClassifier\n",
    "* XGBOOST\n"
   ]
  },
  {
   "cell_type": "markdown",
   "id": "lAI4oAJZr2sa",
   "metadata": {
    "id": "lAI4oAJZr2sa"
   },
   "source": [
    "## Prediction treshold balance\n",
    "\n",
    "It'll be helpful to adjust treshold in best models to find optimal recall - precision balance."
   ]
  },
  {
   "cell_type": "code",
   "execution_count": null,
   "id": "6AeJf2V0r3rr",
   "metadata": {
    "id": "6AeJf2V0r3rr"
   },
   "outputs": [],
   "source": [
    "def threshold_balance (estimator, X_test=X_test, y_test=y_test, threshold = 0.5):\n",
    "\n",
    "  threshold = threshold\n",
    "\n",
    "  fig = plt.subplots(figsize=(8, 6))\n",
    "  precision_gd, recall_gd, thresholds_gd = precision_recall_curve(\n",
    "      y_test, estimator.predict_proba(X_test)[:, 1])\n",
    "  plt.plot(precision_gd, recall_gd, label='gd')\n",
    "\n",
    "  close_default_gd = np.argmin(np.abs(thresholds_gd - threshold))\n",
    "  plt.plot(precision_gd[close_default_gd], recall_gd[close_default_gd], '^', c='k', \n",
    "          markersize=10, label=f'threshold {threshold}', fillstyle='none', mew=2)\n",
    "\n",
    "  plt.xlabel('Precision')\n",
    "  plt.ylabel('Recall')\n",
    "  plt.legend(loc='best')\n",
    "  plt.grid(alpha=0.4)\n",
    "  plt.show()"
   ]
  },
  {
   "cell_type": "markdown",
   "id": "UtJDn721g2ib",
   "metadata": {
    "id": "UtJDn721g2ib"
   },
   "source": [
    "## 1. Logistic Regression"
   ]
  },
  {
   "cell_type": "code",
   "execution_count": null,
   "id": "4SeRGNM-5l3n",
   "metadata": {
    "id": "4SeRGNM-5l3n"
   },
   "outputs": [],
   "source": [
    "kfold = StratifiedKFold(5, shuffle=False)"
   ]
  },
  {
   "cell_type": "code",
   "execution_count": null,
   "id": "Vq8OwmI7U55_",
   "metadata": {
    "id": "Vq8OwmI7U55_"
   },
   "outputs": [],
   "source": [
    "model_lr = LogisticRegression(max_iter=100000)\n",
    "\n",
    "#params for hyperparameters optimization\n",
    "params = [\n",
    "    {\n",
    "    'penalty': ['l1', 'l2'],\n",
    "    'C': [0.1, 1, 10, 100, 1000],\n",
    "    'solver': ['liblinear', 'saga']\n",
    "    },\n",
    "    {\n",
    "    'penalty': ['l2'],\n",
    "    'C': [0.001, 0.01, 0.1],\n",
    "    'solver': ['lbfgs']\n",
    "    }\n",
    "]\n",
    "\n",
    "optimizer_lr = RandomizedSearchCV(estimator=model_lr,\n",
    "                            param_distributions=params,\n",
    "                            scoring='roc_auc',\n",
    "                            cv=kfold,\n",
    "                            n_iter=20,\n",
    "                            n_jobs=-1\n",
    ")"
   ]
  },
  {
   "cell_type": "code",
   "execution_count": null,
   "id": "P6BE948-GPVJ",
   "metadata": {
    "colab": {
     "base_uri": "https://localhost:8080/",
     "height": 178
    },
    "executionInfo": {
     "elapsed": 11088261,
     "status": "ok",
     "timestamp": 1682022445901,
     "user": {
      "displayName": "Dawid Walicki",
      "userId": "09899538618212575449"
     },
     "user_tz": -120
    },
    "id": "P6BE948-GPVJ",
    "outputId": "3f3d762b-0d9c-4946-d191-541d338b81bd"
   },
   "outputs": [
    {
     "name": "stderr",
     "output_type": "stream",
     "text": [
      "/usr/local/lib/python3.9/dist-packages/sklearn/utils/validation.py:1143: DataConversionWarning: A column-vector y was passed when a 1d array was expected. Please change the shape of y to (n_samples, ), for example using ravel().\n",
      "  y = column_or_1d(y, warn=True)\n"
     ]
    },
    {
     "data": {
      "text/html": [
       "<style>#sk-container-id-3 {color: black;background-color: white;}#sk-container-id-3 pre{padding: 0;}#sk-container-id-3 div.sk-toggleable {background-color: white;}#sk-container-id-3 label.sk-toggleable__label {cursor: pointer;display: block;width: 100%;margin-bottom: 0;padding: 0.3em;box-sizing: border-box;text-align: center;}#sk-container-id-3 label.sk-toggleable__label-arrow:before {content: \"▸\";float: left;margin-right: 0.25em;color: #696969;}#sk-container-id-3 label.sk-toggleable__label-arrow:hover:before {color: black;}#sk-container-id-3 div.sk-estimator:hover label.sk-toggleable__label-arrow:before {color: black;}#sk-container-id-3 div.sk-toggleable__content {max-height: 0;max-width: 0;overflow: hidden;text-align: left;background-color: #f0f8ff;}#sk-container-id-3 div.sk-toggleable__content pre {margin: 0.2em;color: black;border-radius: 0.25em;background-color: #f0f8ff;}#sk-container-id-3 input.sk-toggleable__control:checked~div.sk-toggleable__content {max-height: 200px;max-width: 100%;overflow: auto;}#sk-container-id-3 input.sk-toggleable__control:checked~label.sk-toggleable__label-arrow:before {content: \"▾\";}#sk-container-id-3 div.sk-estimator input.sk-toggleable__control:checked~label.sk-toggleable__label {background-color: #d4ebff;}#sk-container-id-3 div.sk-label input.sk-toggleable__control:checked~label.sk-toggleable__label {background-color: #d4ebff;}#sk-container-id-3 input.sk-hidden--visually {border: 0;clip: rect(1px 1px 1px 1px);clip: rect(1px, 1px, 1px, 1px);height: 1px;margin: -1px;overflow: hidden;padding: 0;position: absolute;width: 1px;}#sk-container-id-3 div.sk-estimator {font-family: monospace;background-color: #f0f8ff;border: 1px dotted black;border-radius: 0.25em;box-sizing: border-box;margin-bottom: 0.5em;}#sk-container-id-3 div.sk-estimator:hover {background-color: #d4ebff;}#sk-container-id-3 div.sk-parallel-item::after {content: \"\";width: 100%;border-bottom: 1px solid gray;flex-grow: 1;}#sk-container-id-3 div.sk-label:hover label.sk-toggleable__label {background-color: #d4ebff;}#sk-container-id-3 div.sk-serial::before {content: \"\";position: absolute;border-left: 1px solid gray;box-sizing: border-box;top: 0;bottom: 0;left: 50%;z-index: 0;}#sk-container-id-3 div.sk-serial {display: flex;flex-direction: column;align-items: center;background-color: white;padding-right: 0.2em;padding-left: 0.2em;position: relative;}#sk-container-id-3 div.sk-item {position: relative;z-index: 1;}#sk-container-id-3 div.sk-parallel {display: flex;align-items: stretch;justify-content: center;background-color: white;position: relative;}#sk-container-id-3 div.sk-item::before, #sk-container-id-3 div.sk-parallel-item::before {content: \"\";position: absolute;border-left: 1px solid gray;box-sizing: border-box;top: 0;bottom: 0;left: 50%;z-index: -1;}#sk-container-id-3 div.sk-parallel-item {display: flex;flex-direction: column;z-index: 1;position: relative;background-color: white;}#sk-container-id-3 div.sk-parallel-item:first-child::after {align-self: flex-end;width: 50%;}#sk-container-id-3 div.sk-parallel-item:last-child::after {align-self: flex-start;width: 50%;}#sk-container-id-3 div.sk-parallel-item:only-child::after {width: 0;}#sk-container-id-3 div.sk-dashed-wrapped {border: 1px dashed gray;margin: 0 0.4em 0.5em 0.4em;box-sizing: border-box;padding-bottom: 0.4em;background-color: white;}#sk-container-id-3 div.sk-label label {font-family: monospace;font-weight: bold;display: inline-block;line-height: 1.2em;}#sk-container-id-3 div.sk-label-container {text-align: center;}#sk-container-id-3 div.sk-container {/* jupyter's `normalize.less` sets `[hidden] { display: none; }` but bootstrap.min.css set `[hidden] { display: none !important; }` so we also need the `!important` here to be able to override the default hidden behavior on the sphinx rendered scikit-learn.org. See: https://github.com/scikit-learn/scikit-learn/issues/21755 */display: inline-block !important;position: relative;}#sk-container-id-3 div.sk-text-repr-fallback {display: none;}</style><div id=\"sk-container-id-3\" class=\"sk-top-container\"><div class=\"sk-text-repr-fallback\"><pre>RandomizedSearchCV(cv=StratifiedKFold(n_splits=5, random_state=None, shuffle=False),\n",
       "                   estimator=LogisticRegression(max_iter=100000), n_iter=20,\n",
       "                   n_jobs=-1,\n",
       "                   param_distributions=[{&#x27;C&#x27;: [0.1, 1, 10, 100, 1000],\n",
       "                                         &#x27;penalty&#x27;: [&#x27;l1&#x27;, &#x27;l2&#x27;],\n",
       "                                         &#x27;solver&#x27;: [&#x27;liblinear&#x27;, &#x27;saga&#x27;]},\n",
       "                                        {&#x27;C&#x27;: [0.001, 0.01, 0.1],\n",
       "                                         &#x27;penalty&#x27;: [&#x27;l2&#x27;],\n",
       "                                         &#x27;solver&#x27;: [&#x27;lbfgs&#x27;]}],\n",
       "                   scoring=&#x27;roc_auc&#x27;)</pre><b>In a Jupyter environment, please rerun this cell to show the HTML representation or trust the notebook. <br />On GitHub, the HTML representation is unable to render, please try loading this page with nbviewer.org.</b></div><div class=\"sk-container\" hidden><div class=\"sk-item sk-dashed-wrapped\"><div class=\"sk-label-container\"><div class=\"sk-label sk-toggleable\"><input class=\"sk-toggleable__control sk-hidden--visually\" id=\"sk-estimator-id-7\" type=\"checkbox\" ><label for=\"sk-estimator-id-7\" class=\"sk-toggleable__label sk-toggleable__label-arrow\">RandomizedSearchCV</label><div class=\"sk-toggleable__content\"><pre>RandomizedSearchCV(cv=StratifiedKFold(n_splits=5, random_state=None, shuffle=False),\n",
       "                   estimator=LogisticRegression(max_iter=100000), n_iter=20,\n",
       "                   n_jobs=-1,\n",
       "                   param_distributions=[{&#x27;C&#x27;: [0.1, 1, 10, 100, 1000],\n",
       "                                         &#x27;penalty&#x27;: [&#x27;l1&#x27;, &#x27;l2&#x27;],\n",
       "                                         &#x27;solver&#x27;: [&#x27;liblinear&#x27;, &#x27;saga&#x27;]},\n",
       "                                        {&#x27;C&#x27;: [0.001, 0.01, 0.1],\n",
       "                                         &#x27;penalty&#x27;: [&#x27;l2&#x27;],\n",
       "                                         &#x27;solver&#x27;: [&#x27;lbfgs&#x27;]}],\n",
       "                   scoring=&#x27;roc_auc&#x27;)</pre></div></div></div><div class=\"sk-parallel\"><div class=\"sk-parallel-item\"><div class=\"sk-item\"><div class=\"sk-label-container\"><div class=\"sk-label sk-toggleable\"><input class=\"sk-toggleable__control sk-hidden--visually\" id=\"sk-estimator-id-8\" type=\"checkbox\" ><label for=\"sk-estimator-id-8\" class=\"sk-toggleable__label sk-toggleable__label-arrow\">estimator: LogisticRegression</label><div class=\"sk-toggleable__content\"><pre>LogisticRegression(max_iter=100000)</pre></div></div></div><div class=\"sk-serial\"><div class=\"sk-item\"><div class=\"sk-estimator sk-toggleable\"><input class=\"sk-toggleable__control sk-hidden--visually\" id=\"sk-estimator-id-9\" type=\"checkbox\" ><label for=\"sk-estimator-id-9\" class=\"sk-toggleable__label sk-toggleable__label-arrow\">LogisticRegression</label><div class=\"sk-toggleable__content\"><pre>LogisticRegression(max_iter=100000)</pre></div></div></div></div></div></div></div></div></div></div>"
      ],
      "text/plain": [
       "RandomizedSearchCV(cv=StratifiedKFold(n_splits=5, random_state=None, shuffle=False),\n",
       "                   estimator=LogisticRegression(max_iter=100000), n_iter=20,\n",
       "                   n_jobs=-1,\n",
       "                   param_distributions=[{'C': [0.1, 1, 10, 100, 1000],\n",
       "                                         'penalty': ['l1', 'l2'],\n",
       "                                         'solver': ['liblinear', 'saga']},\n",
       "                                        {'C': [0.001, 0.01, 0.1],\n",
       "                                         'penalty': ['l2'],\n",
       "                                         'solver': ['lbfgs']}],\n",
       "                   scoring='roc_auc')"
      ]
     },
     "execution_count": 31,
     "metadata": {},
     "output_type": "execute_result"
    }
   ],
   "source": [
    "optimizer_lr.fit(X_train, y_train)"
   ]
  },
  {
   "cell_type": "code",
   "execution_count": null,
   "id": "H2b5vhKPX3cS",
   "metadata": {
    "colab": {
     "base_uri": "https://localhost:8080/"
    },
    "executionInfo": {
     "elapsed": 336,
     "status": "ok",
     "timestamp": 1682022771227,
     "user": {
      "displayName": "Dawid Walicki",
      "userId": "09899538618212575449"
     },
     "user_tz": -120
    },
    "id": "H2b5vhKPX3cS",
    "outputId": "e290ae0b-c74e-4ed5-fb81-2d57e20e67a2"
   },
   "outputs": [
    {
     "data": {
      "text/plain": [
       "{'solver': 'lbfgs', 'penalty': 'l2', 'C': 0.001}"
      ]
     },
     "execution_count": 40,
     "metadata": {},
     "output_type": "execute_result"
    }
   ],
   "source": [
    "lr_best_params = optimizer_lr.best_params_\n",
    "lr_best_params"
   ]
  },
  {
   "cell_type": "code",
   "execution_count": null,
   "id": "YVvXnsGJV36N",
   "metadata": {
    "id": "YVvXnsGJV36N"
   },
   "outputs": [],
   "source": [
    "y_test_pred = optimizer_lr.best_estimator_.predict(X_test)\n",
    "lr_metrics_test = calculate_metrics(y_test, y_test_pred)\n",
    "print_results(lr_metrics_test)"
   ]
  },
  {
   "cell_type": "code",
   "execution_count": null,
   "id": "m9ohOzi1O93i",
   "metadata": {
    "colab": {
     "base_uri": "https://localhost:8080/"
    },
    "executionInfo": {
     "elapsed": 1777,
     "status": "ok",
     "timestamp": 1682330866638,
     "user": {
      "displayName": "Dawid Walicki",
      "userId": "09899538618212575449"
     },
     "user_tz": -120
    },
    "id": "m9ohOzi1O93i",
    "outputId": "5faf4ac4-c052-48c4-aedf-85fce015310b"
   },
   "outputs": [
    {
     "name": "stderr",
     "output_type": "stream",
     "text": [
      "/usr/local/lib/python3.9/dist-packages/sklearn/utils/validation.py:1143: DataConversionWarning: A column-vector y was passed when a 1d array was expected. Please change the shape of y to (n_samples, ), for example using ravel().\n",
      "  y = column_or_1d(y, warn=True)\n"
     ]
    }
   ],
   "source": [
    "#creating model with best hyperparameters\n",
    "lr_model = LogisticRegression(\n",
    "    max_iter=100000, solver='lbfgs', \n",
    "    penalty='l2', C=0.001)\n",
    "lr_model.fit(X_train, y_train)\n",
    "y_pred_lr = lr_model.predict(X_test)"
   ]
  },
  {
   "cell_type": "code",
   "execution_count": null,
   "id": "kSxJC2g2PI1c",
   "metadata": {
    "colab": {
     "base_uri": "https://localhost:8080/"
    },
    "executionInfo": {
     "elapsed": 5886,
     "status": "ok",
     "timestamp": 1682330875233,
     "user": {
      "displayName": "Dawid Walicki",
      "userId": "09899538618212575449"
     },
     "user_tz": -120
    },
    "id": "kSxJC2g2PI1c",
    "outputId": "d60e65e9-aad0-48d2-b2f5-c87f4ab2a567"
   },
   "outputs": [
    {
     "name": "stderr",
     "output_type": "stream",
     "text": [
      "/usr/local/lib/python3.9/dist-packages/sklearn/utils/validation.py:1143: DataConversionWarning: A column-vector y was passed when a 1d array was expected. Please change the shape of y to (n_samples, ), for example using ravel().\n",
      "  y = column_or_1d(y, warn=True)\n",
      "/usr/local/lib/python3.9/dist-packages/sklearn/utils/validation.py:1143: DataConversionWarning: A column-vector y was passed when a 1d array was expected. Please change the shape of y to (n_samples, ), for example using ravel().\n",
      "  y = column_or_1d(y, warn=True)\n",
      "/usr/local/lib/python3.9/dist-packages/sklearn/utils/validation.py:1143: DataConversionWarning: A column-vector y was passed when a 1d array was expected. Please change the shape of y to (n_samples, ), for example using ravel().\n",
      "  y = column_or_1d(y, warn=True)\n",
      "/usr/local/lib/python3.9/dist-packages/sklearn/utils/validation.py:1143: DataConversionWarning: A column-vector y was passed when a 1d array was expected. Please change the shape of y to (n_samples, ), for example using ravel().\n",
      "  y = column_or_1d(y, warn=True)\n",
      "/usr/local/lib/python3.9/dist-packages/sklearn/utils/validation.py:1143: DataConversionWarning: A column-vector y was passed when a 1d array was expected. Please change the shape of y to (n_samples, ), for example using ravel().\n",
      "  y = column_or_1d(y, warn=True)\n"
     ]
    },
    {
     "data": {
      "text/plain": [
       "array([0.94126968, 0.92049952, 0.90460821, 0.93777032, 0.88823783])"
      ]
     },
     "execution_count": 9,
     "metadata": {},
     "output_type": "execute_result"
    }
   ],
   "source": [
    "#scoring model with cross-validation\n",
    "#based on printed results - the model is on the verge of overfitting,\n",
    "#but it is acceptable\n",
    "score_lr = cross_val_score(lr_model, scoring='roc_auc', X=X_train, y=y_train, cv=5)\n",
    "score_lr"
   ]
  },
  {
   "cell_type": "code",
   "execution_count": null,
   "id": "MI8xrsnckrE4",
   "metadata": {
    "colab": {
     "base_uri": "https://localhost:8080/",
     "height": 542
    },
    "executionInfo": {
     "elapsed": 14,
     "status": "ok",
     "timestamp": 1682336908359,
     "user": {
      "displayName": "Dawid Walicki",
      "userId": "09899538618212575449"
     },
     "user_tz": -120
    },
    "id": "MI8xrsnckrE4",
    "outputId": "1e3a0e58-42fc-4f3c-ef65-435226d61b81"
   },
   "outputs": [
    {
     "data": {
      "image/png": "[encoded data removed]",
      "text/plain": [
       "<Figure size 800x600 with 1 Axes>"
      ]
     },
     "metadata": {},
     "output_type": "display_data"
    }
   ],
   "source": [
    "#after some trial and error optimal threshold, in my opinion, thinking about \n",
    "#the safety of work in the mine, will be 0.23 \n",
    "\n",
    "threshold_balance(lr_model, threshold = 0.23)"
   ]
  },
  {
   "cell_type": "code",
   "execution_count": null,
   "id": "XDMSRPhzJBdM",
   "metadata": {
    "colab": {
     "base_uri": "https://localhost:8080/",
     "height": 764
    },
    "executionInfo": {
     "elapsed": 317,
     "status": "ok",
     "timestamp": 1682337953278,
     "user": {
      "displayName": "Dawid Walicki",
      "userId": "09899538618212575449"
     },
     "user_tz": -120
    },
    "id": "XDMSRPhzJBdM",
    "outputId": "bad5dbbc-579b-4cd8-cfb1-0343a4c2c226"
   },
   "outputs": [
    {
     "name": "stdout",
     "output_type": "stream",
     "text": [
      "Results for classifier\n",
      "-----\n",
      "   AUC:  0.8699369485785581\n",
      "   Precision:  0.9551628829021753\n",
      "   Recall:  0.8264248704663213\n",
      "   F1:  0.8719060029170502\n",
      "-----\n"
     ]
    },
    {
     "data": {
      "image/png": "[encoded data removed]",
      "text/plain": [
       "<Figure size 640x480 with 2 Axes>"
      ]
     },
     "metadata": {},
     "output_type": "display_data"
    },
    {
     "name": "stdout",
     "output_type": "stream",
     "text": [
      "-----\n",
      "Classification report:\n",
      "              precision    recall  f1-score   support\n",
      "\n",
      "           0       0.99      0.82      0.90      3664\n",
      "           1       0.22      0.92      0.35       196\n",
      "\n",
      "    accuracy                           0.83      3860\n",
      "   macro avg       0.61      0.87      0.62      3860\n",
      "weighted avg       0.96      0.83      0.87      3860\n",
      "\n"
     ]
    }
   ],
   "source": [
    "#prediction for different threshold\n",
    "y_pred_lr_th = (lr_model.predict_proba(X_test)[:, 1] > 0.23).astype(int)\n",
    "metric_lr_th = calculate_metrics(y_test, y_pred_lr_th)\n",
    "print_results(metric_lr_th)"
   ]
  },
  {
   "cell_type": "markdown",
   "id": "yBPSQJKAKseu",
   "metadata": {
    "id": "yBPSQJKAKseu"
   },
   "source": [
    "# 2. RandomForest"
   ]
  },
  {
   "cell_type": "code",
   "execution_count": null,
   "id": "gaJ0rh2yKwAx",
   "metadata": {
    "colab": {
     "base_uri": "https://localhost:8080/",
     "height": 215
    },
    "executionInfo": {
     "elapsed": 2949826,
     "status": "ok",
     "timestamp": 1682027996156,
     "user": {
      "displayName": "Dawid Walicki",
      "userId": "09899538618212575449"
     },
     "user_tz": -120
    },
    "id": "gaJ0rh2yKwAx",
    "outputId": "593a3c3e-c38a-4bee-cedd-f2e0c0f99a4c"
   },
   "outputs": [
    {
     "name": "stderr",
     "output_type": "stream",
     "text": [
      "/usr/local/lib/python3.9/dist-packages/sklearn/model_selection/_search.py:909: DataConversionWarning: A column-vector y was passed when a 1d array was expected. Please change the shape of y to (n_samples,), for example using ravel().\n",
      "  self.best_estimator_.fit(X, y, **fit_params)\n",
      "/usr/local/lib/python3.9/dist-packages/sklearn/ensemble/_forest.py:424: FutureWarning: `max_features='auto'` has been deprecated in 1.1 and will be removed in 1.3. To keep the past behaviour, explicitly set `max_features='sqrt'` or remove this parameter as it is also the default value for RandomForestClassifiers and ExtraTreesClassifiers.\n",
      "  warn(\n"
     ]
    },
    {
     "data": {
      "text/html": [
       "<style>#sk-container-id-4 {color: black;background-color: white;}#sk-container-id-4 pre{padding: 0;}#sk-container-id-4 div.sk-toggleable {background-color: white;}#sk-container-id-4 label.sk-toggleable__label {cursor: pointer;display: block;width: 100%;margin-bottom: 0;padding: 0.3em;box-sizing: border-box;text-align: center;}#sk-container-id-4 label.sk-toggleable__label-arrow:before {content: \"▸\";float: left;margin-right: 0.25em;color: #696969;}#sk-container-id-4 label.sk-toggleable__label-arrow:hover:before {color: black;}#sk-container-id-4 div.sk-estimator:hover label.sk-toggleable__label-arrow:before {color: black;}#sk-container-id-4 div.sk-toggleable__content {max-height: 0;max-width: 0;overflow: hidden;text-align: left;background-color: #f0f8ff;}#sk-container-id-4 div.sk-toggleable__content pre {margin: 0.2em;color: black;border-radius: 0.25em;background-color: #f0f8ff;}#sk-container-id-4 input.sk-toggleable__control:checked~div.sk-toggleable__content {max-height: 200px;max-width: 100%;overflow: auto;}#sk-container-id-4 input.sk-toggleable__control:checked~label.sk-toggleable__label-arrow:before {content: \"▾\";}#sk-container-id-4 div.sk-estimator input.sk-toggleable__control:checked~label.sk-toggleable__label {background-color: #d4ebff;}#sk-container-id-4 div.sk-label input.sk-toggleable__control:checked~label.sk-toggleable__label {background-color: #d4ebff;}#sk-container-id-4 input.sk-hidden--visually {border: 0;clip: rect(1px 1px 1px 1px);clip: rect(1px, 1px, 1px, 1px);height: 1px;margin: -1px;overflow: hidden;padding: 0;position: absolute;width: 1px;}#sk-container-id-4 div.sk-estimator {font-family: monospace;background-color: #f0f8ff;border: 1px dotted black;border-radius: 0.25em;box-sizing: border-box;margin-bottom: 0.5em;}#sk-container-id-4 div.sk-estimator:hover {background-color: #d4ebff;}#sk-container-id-4 div.sk-parallel-item::after {content: \"\";width: 100%;border-bottom: 1px solid gray;flex-grow: 1;}#sk-container-id-4 div.sk-label:hover label.sk-toggleable__label {background-color: #d4ebff;}#sk-container-id-4 div.sk-serial::before {content: \"\";position: absolute;border-left: 1px solid gray;box-sizing: border-box;top: 0;bottom: 0;left: 50%;z-index: 0;}#sk-container-id-4 div.sk-serial {display: flex;flex-direction: column;align-items: center;background-color: white;padding-right: 0.2em;padding-left: 0.2em;position: relative;}#sk-container-id-4 div.sk-item {position: relative;z-index: 1;}#sk-container-id-4 div.sk-parallel {display: flex;align-items: stretch;justify-content: center;background-color: white;position: relative;}#sk-container-id-4 div.sk-item::before, #sk-container-id-4 div.sk-parallel-item::before {content: \"\";position: absolute;border-left: 1px solid gray;box-sizing: border-box;top: 0;bottom: 0;left: 50%;z-index: -1;}#sk-container-id-4 div.sk-parallel-item {display: flex;flex-direction: column;z-index: 1;position: relative;background-color: white;}#sk-container-id-4 div.sk-parallel-item:first-child::after {align-self: flex-end;width: 50%;}#sk-container-id-4 div.sk-parallel-item:last-child::after {align-self: flex-start;width: 50%;}#sk-container-id-4 div.sk-parallel-item:only-child::after {width: 0;}#sk-container-id-4 div.sk-dashed-wrapped {border: 1px dashed gray;margin: 0 0.4em 0.5em 0.4em;box-sizing: border-box;padding-bottom: 0.4em;background-color: white;}#sk-container-id-4 div.sk-label label {font-family: monospace;font-weight: bold;display: inline-block;line-height: 1.2em;}#sk-container-id-4 div.sk-label-container {text-align: center;}#sk-container-id-4 div.sk-container {/* jupyter's `normalize.less` sets `[hidden] { display: none; }` but bootstrap.min.css set `[hidden] { display: none !important; }` so we also need the `!important` here to be able to override the default hidden behavior on the sphinx rendered scikit-learn.org. See: https://github.com/scikit-learn/scikit-learn/issues/21755 */display: inline-block !important;position: relative;}#sk-container-id-4 div.sk-text-repr-fallback {display: none;}</style><div id=\"sk-container-id-4\" class=\"sk-top-container\"><div class=\"sk-text-repr-fallback\"><pre>RandomizedSearchCV(cv=StratifiedKFold(n_splits=5, random_state=None, shuffle=False),\n",
       "                   estimator=RandomForestClassifier(), n_jobs=-1,\n",
       "                   param_distributions={&#x27;criterion&#x27;: [&#x27;gini&#x27;, &#x27;entropy&#x27;],\n",
       "                                        &#x27;max_depth&#x27;: [2, 5, 10, 20, 30, 40, 50],\n",
       "                                        &#x27;max_features&#x27;: [&#x27;auto&#x27;, &#x27;sqrt&#x27;],\n",
       "                                        &#x27;min_samples_leaf&#x27;: [2, 5, 10],\n",
       "                                        &#x27;min_samples_split&#x27;: [2, 6, 12],\n",
       "                                        &#x27;n_estimators&#x27;: [60, 200, 500, 700]},\n",
       "                   scoring=&#x27;roc_auc&#x27;)</pre><b>In a Jupyter environment, please rerun this cell to show the HTML representation or trust the notebook. <br />On GitHub, the HTML representation is unable to render, please try loading this page with nbviewer.org.</b></div><div class=\"sk-container\" hidden><div class=\"sk-item sk-dashed-wrapped\"><div class=\"sk-label-container\"><div class=\"sk-label sk-toggleable\"><input class=\"sk-toggleable__control sk-hidden--visually\" id=\"sk-estimator-id-10\" type=\"checkbox\" ><label for=\"sk-estimator-id-10\" class=\"sk-toggleable__label sk-toggleable__label-arrow\">RandomizedSearchCV</label><div class=\"sk-toggleable__content\"><pre>RandomizedSearchCV(cv=StratifiedKFold(n_splits=5, random_state=None, shuffle=False),\n",
       "                   estimator=RandomForestClassifier(), n_jobs=-1,\n",
       "                   param_distributions={&#x27;criterion&#x27;: [&#x27;gini&#x27;, &#x27;entropy&#x27;],\n",
       "                                        &#x27;max_depth&#x27;: [2, 5, 10, 20, 30, 40, 50],\n",
       "                                        &#x27;max_features&#x27;: [&#x27;auto&#x27;, &#x27;sqrt&#x27;],\n",
       "                                        &#x27;min_samples_leaf&#x27;: [2, 5, 10],\n",
       "                                        &#x27;min_samples_split&#x27;: [2, 6, 12],\n",
       "                                        &#x27;n_estimators&#x27;: [60, 200, 500, 700]},\n",
       "                   scoring=&#x27;roc_auc&#x27;)</pre></div></div></div><div class=\"sk-parallel\"><div class=\"sk-parallel-item\"><div class=\"sk-item\"><div class=\"sk-label-container\"><div class=\"sk-label sk-toggleable\"><input class=\"sk-toggleable__control sk-hidden--visually\" id=\"sk-estimator-id-11\" type=\"checkbox\" ><label for=\"sk-estimator-id-11\" class=\"sk-toggleable__label sk-toggleable__label-arrow\">estimator: RandomForestClassifier</label><div class=\"sk-toggleable__content\"><pre>RandomForestClassifier()</pre></div></div></div><div class=\"sk-serial\"><div class=\"sk-item\"><div class=\"sk-estimator sk-toggleable\"><input class=\"sk-toggleable__control sk-hidden--visually\" id=\"sk-estimator-id-12\" type=\"checkbox\" ><label for=\"sk-estimator-id-12\" class=\"sk-toggleable__label sk-toggleable__label-arrow\">RandomForestClassifier</label><div class=\"sk-toggleable__content\"><pre>RandomForestClassifier()</pre></div></div></div></div></div></div></div></div></div></div>"
      ],
      "text/plain": [
       "RandomizedSearchCV(cv=StratifiedKFold(n_splits=5, random_state=None, shuffle=False),\n",
       "                   estimator=RandomForestClassifier(), n_jobs=-1,\n",
       "                   param_distributions={'criterion': ['gini', 'entropy'],\n",
       "                                        'max_depth': [2, 5, 10, 20, 30, 40, 50],\n",
       "                                        'max_features': ['auto', 'sqrt'],\n",
       "                                        'min_samples_leaf': [2, 5, 10],\n",
       "                                        'min_samples_split': [2, 6, 12],\n",
       "                                        'n_estimators': [60, 200, 500, 700]},\n",
       "                   scoring='roc_auc')"
      ]
     },
     "execution_count": 47,
     "metadata": {},
     "output_type": "execute_result"
    }
   ],
   "source": [
    "kfold = StratifiedKFold(5, shuffle=False)\n",
    "\n",
    "model_rf = RandomForestClassifier()\n",
    "\n",
    "#params for hyperparameters optimization\n",
    "n_estimators = [60, 200, 500, 700]\n",
    "min_samples_leaf = [2, 5, 10]\n",
    "min_samples_split = [2, 6, 12]\n",
    "max_depth = [2, 5, 10, 20, 30, 40, 50]\n",
    "criterion = ['gini', 'entropy']\n",
    "max_features = ['auto', 'sqrt']\n",
    "\n",
    "params = {\n",
    "    'n_estimators': n_estimators,\n",
    "    'min_samples_leaf': min_samples_leaf,\n",
    "    'min_samples_split': min_samples_split,\n",
    "    'max_depth': max_depth,\n",
    "    'criterion': criterion,\n",
    "    'max_features': max_features\n",
    "\n",
    "}\n",
    "\n",
    "\n",
    "optimizer_rf = RandomizedSearchCV(\n",
    "    estimator=model_rf,\n",
    "    param_distributions=params,\n",
    "    scoring='roc_auc',\n",
    "    cv=kfold,\n",
    "    n_jobs=-1\n",
    ")\n",
    "\n",
    "optimizer_rf.fit(X_train, y_train)"
   ]
  },
  {
   "cell_type": "code",
   "execution_count": null,
   "id": "iAw8gWBpidgg",
   "metadata": {
    "colab": {
     "base_uri": "https://localhost:8080/"
    },
    "executionInfo": {
     "elapsed": 10,
     "status": "ok",
     "timestamp": 1682027996156,
     "user": {
      "displayName": "Dawid Walicki",
      "userId": "09899538618212575449"
     },
     "user_tz": -120
    },
    "id": "iAw8gWBpidgg",
    "outputId": "485d235b-9f2a-44f6-eca2-7fb6836d0398"
   },
   "outputs": [
    {
     "data": {
      "text/plain": [
       "{'n_estimators': 500,\n",
       " 'min_samples_split': 2,\n",
       " 'min_samples_leaf': 2,\n",
       " 'max_features': 'auto',\n",
       " 'max_depth': 20,\n",
       " 'criterion': 'gini'}"
      ]
     },
     "execution_count": 48,
     "metadata": {},
     "output_type": "execute_result"
    }
   ],
   "source": [
    "best_params_rf = optimizer_rf.best_params_\n",
    "best_params_rf"
   ]
  },
  {
   "cell_type": "code",
   "execution_count": null,
   "id": "9VOm_ccLiNx1",
   "metadata": {
    "colab": {
     "base_uri": "https://localhost:8080/"
    },
    "executionInfo": {
     "elapsed": 1306599,
     "status": "ok",
     "timestamp": 1682029302749,
     "user": {
      "displayName": "Dawid Walicki",
      "userId": "09899538618212575449"
     },
     "user_tz": -120
    },
    "id": "9VOm_ccLiNx1",
    "outputId": "a8cc5b47-f7e3-4051-cb42-c8a8db566cb0"
   },
   "outputs": [
    {
     "name": "stderr",
     "output_type": "stream",
     "text": [
      "/usr/local/lib/python3.9/dist-packages/sklearn/model_selection/_validation.py:686: DataConversionWarning: A column-vector y was passed when a 1d array was expected. Please change the shape of y to (n_samples,), for example using ravel().\n",
      "  estimator.fit(X_train, y_train, **fit_params)\n",
      "/usr/local/lib/python3.9/dist-packages/sklearn/ensemble/_forest.py:424: FutureWarning: `max_features='auto'` has been deprecated in 1.1 and will be removed in 1.3. To keep the past behaviour, explicitly set `max_features='sqrt'` or remove this parameter as it is also the default value for RandomForestClassifiers and ExtraTreesClassifiers.\n",
      "  warn(\n",
      "/usr/local/lib/python3.9/dist-packages/sklearn/model_selection/_validation.py:686: DataConversionWarning: A column-vector y was passed when a 1d array was expected. Please change the shape of y to (n_samples,), for example using ravel().\n",
      "  estimator.fit(X_train, y_train, **fit_params)\n",
      "/usr/local/lib/python3.9/dist-packages/sklearn/ensemble/_forest.py:424: FutureWarning: `max_features='auto'` has been deprecated in 1.1 and will be removed in 1.3. To keep the past behaviour, explicitly set `max_features='sqrt'` or remove this parameter as it is also the default value for RandomForestClassifiers and ExtraTreesClassifiers.\n",
      "  warn(\n",
      "/usr/local/lib/python3.9/dist-packages/sklearn/model_selection/_validation.py:686: DataConversionWarning: A column-vector y was passed when a 1d array was expected. Please change the shape of y to (n_samples,), for example using ravel().\n",
      "  estimator.fit(X_train, y_train, **fit_params)\n",
      "/usr/local/lib/python3.9/dist-packages/sklearn/ensemble/_forest.py:424: FutureWarning: `max_features='auto'` has been deprecated in 1.1 and will be removed in 1.3. To keep the past behaviour, explicitly set `max_features='sqrt'` or remove this parameter as it is also the default value for RandomForestClassifiers and ExtraTreesClassifiers.\n",
      "  warn(\n",
      "/usr/local/lib/python3.9/dist-packages/sklearn/model_selection/_validation.py:686: DataConversionWarning: A column-vector y was passed when a 1d array was expected. Please change the shape of y to (n_samples,), for example using ravel().\n",
      "  estimator.fit(X_train, y_train, **fit_params)\n",
      "/usr/local/lib/python3.9/dist-packages/sklearn/ensemble/_forest.py:424: FutureWarning: `max_features='auto'` has been deprecated in 1.1 and will be removed in 1.3. To keep the past behaviour, explicitly set `max_features='sqrt'` or remove this parameter as it is also the default value for RandomForestClassifiers and ExtraTreesClassifiers.\n",
      "  warn(\n",
      "/usr/local/lib/python3.9/dist-packages/sklearn/model_selection/_validation.py:686: DataConversionWarning: A column-vector y was passed when a 1d array was expected. Please change the shape of y to (n_samples,), for example using ravel().\n",
      "  estimator.fit(X_train, y_train, **fit_params)\n",
      "/usr/local/lib/python3.9/dist-packages/sklearn/ensemble/_forest.py:424: FutureWarning: `max_features='auto'` has been deprecated in 1.1 and will be removed in 1.3. To keep the past behaviour, explicitly set `max_features='sqrt'` or remove this parameter as it is also the default value for RandomForestClassifiers and ExtraTreesClassifiers.\n",
      "  warn(\n"
     ]
    }
   ],
   "source": [
    "score_rf = cross_val_score(optimizer_rf.best_estimator_, X=X_train, y=y_train, cv=5)\n",
    "score_rf"
   ]
  },
  {
   "cell_type": "code",
   "execution_count": null,
   "id": "u39o4QeGi4j8",
   "metadata": {
    "colab": {
     "base_uri": "https://localhost:8080/",
     "height": 791
    },
    "executionInfo": {
     "elapsed": 543,
     "status": "ok",
     "timestamp": 1682029303271,
     "user": {
      "displayName": "Dawid Walicki",
      "userId": "09899538618212575449"
     },
     "user_tz": -120
    },
    "id": "u39o4QeGi4j8",
    "outputId": "b5cab06f-148a-4cfc-babd-e5f2325d3a12"
   },
   "outputs": [
    {
     "name": "stdout",
     "output_type": "stream",
     "text": [
      "Results for classifier\n",
      "-----\n",
      "   AUC:  0.70634023259959\n",
      "   Precision:  0.9412702815521463\n",
      "   Recall:  0.9375647668393783\n",
      "   F1:  0.9393294608579988\n",
      "-----\n"
     ]
    },
    {
     "data": {
      "image/png": "[encoded data removed]",
      "text/plain": [
       "<Figure size 640x480 with 2 Axes>"
      ]
     },
     "metadata": {},
     "output_type": "display_data"
    },
    {
     "name": "stdout",
     "output_type": "stream",
     "text": [
      "-----\n",
      "Classification report:\n",
      "              precision    recall  f1-score   support\n",
      "\n",
      "           0       0.97      0.96      0.97      3664\n",
      "           1       0.40      0.45      0.42       196\n",
      "\n",
      "    accuracy                           0.94      3860\n",
      "   macro avg       0.68      0.71      0.69      3860\n",
      "weighted avg       0.94      0.94      0.94      3860\n",
      "\n"
     ]
    }
   ],
   "source": [
    "y_pred_rf_test = optimizer_rf.best_estimator_.predict(X_test)\n",
    "rf_metrics_test = calculate_metrics(y_test, y_pred_rf_test)\n",
    "print_results(rf_metrics_test)"
   ]
  },
  {
   "cell_type": "code",
   "execution_count": null,
   "id": "9hPcskv9wnCI",
   "metadata": {
    "colab": {
     "base_uri": "https://localhost:8080/",
     "height": 181
    },
    "executionInfo": {
     "elapsed": 317820,
     "status": "ok",
     "timestamp": 1682331729368,
     "user": {
      "displayName": "Dawid Walicki",
      "userId": "09899538618212575449"
     },
     "user_tz": -120
    },
    "id": "9hPcskv9wnCI",
    "outputId": "51aa4c6c-4768-4434-c5e5-5dd8aa074fdf"
   },
   "outputs": [
    {
     "name": "stderr",
     "output_type": "stream",
     "text": [
      "<ipython-input-13-4f8b5e2d01db>:7: DataConversionWarning: A column-vector y was passed when a 1d array was expected. Please change the shape of y to (n_samples,), for example using ravel().\n",
      "  rf_model.fit(X_train, y_train)\n",
      "/usr/local/lib/python3.9/dist-packages/sklearn/ensemble/_forest.py:424: FutureWarning: `max_features='auto'` has been deprecated in 1.1 and will be removed in 1.3. To keep the past behaviour, explicitly set `max_features='sqrt'` or remove this parameter as it is also the default value for RandomForestClassifiers and ExtraTreesClassifiers.\n",
      "  warn(\n"
     ]
    },
    {
     "data": {
      "text/html": [
       "<style>#sk-container-id-1 {color: black;background-color: white;}#sk-container-id-1 pre{padding: 0;}#sk-container-id-1 div.sk-toggleable {background-color: white;}#sk-container-id-1 label.sk-toggleable__label {cursor: pointer;display: block;width: 100%;margin-bottom: 0;padding: 0.3em;box-sizing: border-box;text-align: center;}#sk-container-id-1 label.sk-toggleable__label-arrow:before {content: \"▸\";float: left;margin-right: 0.25em;color: #696969;}#sk-container-id-1 label.sk-toggleable__label-arrow:hover:before {color: black;}#sk-container-id-1 div.sk-estimator:hover label.sk-toggleable__label-arrow:before {color: black;}#sk-container-id-1 div.sk-toggleable__content {max-height: 0;max-width: 0;overflow: hidden;text-align: left;background-color: #f0f8ff;}#sk-container-id-1 div.sk-toggleable__content pre {margin: 0.2em;color: black;border-radius: 0.25em;background-color: #f0f8ff;}#sk-container-id-1 input.sk-toggleable__control:checked~div.sk-toggleable__content {max-height: 200px;max-width: 100%;overflow: auto;}#sk-container-id-1 input.sk-toggleable__control:checked~label.sk-toggleable__label-arrow:before {content: \"▾\";}#sk-container-id-1 div.sk-estimator input.sk-toggleable__control:checked~label.sk-toggleable__label {background-color: #d4ebff;}#sk-container-id-1 div.sk-label input.sk-toggleable__control:checked~label.sk-toggleable__label {background-color: #d4ebff;}#sk-container-id-1 input.sk-hidden--visually {border: 0;clip: rect(1px 1px 1px 1px);clip: rect(1px, 1px, 1px, 1px);height: 1px;margin: -1px;overflow: hidden;padding: 0;position: absolute;width: 1px;}#sk-container-id-1 div.sk-estimator {font-family: monospace;background-color: #f0f8ff;border: 1px dotted black;border-radius: 0.25em;box-sizing: border-box;margin-bottom: 0.5em;}#sk-container-id-1 div.sk-estimator:hover {background-color: #d4ebff;}#sk-container-id-1 div.sk-parallel-item::after {content: \"\";width: 100%;border-bottom: 1px solid gray;flex-grow: 1;}#sk-container-id-1 div.sk-label:hover label.sk-toggleable__label {background-color: #d4ebff;}#sk-container-id-1 div.sk-serial::before {content: \"\";position: absolute;border-left: 1px solid gray;box-sizing: border-box;top: 0;bottom: 0;left: 50%;z-index: 0;}#sk-container-id-1 div.sk-serial {display: flex;flex-direction: column;align-items: center;background-color: white;padding-right: 0.2em;padding-left: 0.2em;position: relative;}#sk-container-id-1 div.sk-item {position: relative;z-index: 1;}#sk-container-id-1 div.sk-parallel {display: flex;align-items: stretch;justify-content: center;background-color: white;position: relative;}#sk-container-id-1 div.sk-item::before, #sk-container-id-1 div.sk-parallel-item::before {content: \"\";position: absolute;border-left: 1px solid gray;box-sizing: border-box;top: 0;bottom: 0;left: 50%;z-index: -1;}#sk-container-id-1 div.sk-parallel-item {display: flex;flex-direction: column;z-index: 1;position: relative;background-color: white;}#sk-container-id-1 div.sk-parallel-item:first-child::after {align-self: flex-end;width: 50%;}#sk-container-id-1 div.sk-parallel-item:last-child::after {align-self: flex-start;width: 50%;}#sk-container-id-1 div.sk-parallel-item:only-child::after {width: 0;}#sk-container-id-1 div.sk-dashed-wrapped {border: 1px dashed gray;margin: 0 0.4em 0.5em 0.4em;box-sizing: border-box;padding-bottom: 0.4em;background-color: white;}#sk-container-id-1 div.sk-label label {font-family: monospace;font-weight: bold;display: inline-block;line-height: 1.2em;}#sk-container-id-1 div.sk-label-container {text-align: center;}#sk-container-id-1 div.sk-container {/* jupyter's `normalize.less` sets `[hidden] { display: none; }` but bootstrap.min.css set `[hidden] { display: none !important; }` so we also need the `!important` here to be able to override the default hidden behavior on the sphinx rendered scikit-learn.org. See: https://github.com/scikit-learn/scikit-learn/issues/21755 */display: inline-block !important;position: relative;}#sk-container-id-1 div.sk-text-repr-fallback {display: none;}</style><div id=\"sk-container-id-1\" class=\"sk-top-container\"><div class=\"sk-text-repr-fallback\"><pre>RandomForestClassifier(max_depth=20, max_features=&#x27;auto&#x27;, min_samples_leaf=2,\n",
       "                       n_estimators=500)</pre><b>In a Jupyter environment, please rerun this cell to show the HTML representation or trust the notebook. <br />On GitHub, the HTML representation is unable to render, please try loading this page with nbviewer.org.</b></div><div class=\"sk-container\" hidden><div class=\"sk-item\"><div class=\"sk-estimator sk-toggleable\"><input class=\"sk-toggleable__control sk-hidden--visually\" id=\"sk-estimator-id-1\" type=\"checkbox\" checked><label for=\"sk-estimator-id-1\" class=\"sk-toggleable__label sk-toggleable__label-arrow\">RandomForestClassifier</label><div class=\"sk-toggleable__content\"><pre>RandomForestClassifier(max_depth=20, max_features=&#x27;auto&#x27;, min_samples_leaf=2,\n",
       "                       n_estimators=500)</pre></div></div></div></div></div>"
      ],
      "text/plain": [
       "RandomForestClassifier(max_depth=20, max_features='auto', min_samples_leaf=2,\n",
       "                       n_estimators=500)"
      ]
     },
     "execution_count": 13,
     "metadata": {},
     "output_type": "execute_result"
    }
   ],
   "source": [
    "#RandomForest model with best params\n",
    "rf_model = RandomForestClassifier(\n",
    "    n_estimators=500, min_samples_split=2, \n",
    "    min_samples_leaf=2, max_features='auto',\n",
    "    max_depth=20, criterion='gini')\n",
    "\n",
    "rf_model.fit(X_train, y_train)"
   ]
  },
  {
   "cell_type": "code",
   "execution_count": null,
   "id": "IR0DG1HNySR_",
   "metadata": {
    "colab": {
     "base_uri": "https://localhost:8080/"
    },
    "executionInfo": {
     "elapsed": 1289918,
     "status": "ok",
     "timestamp": 1682333121163,
     "user": {
      "displayName": "Dawid Walicki",
      "userId": "09899538618212575449"
     },
     "user_tz": -120
    },
    "id": "IR0DG1HNySR_",
    "outputId": "97618964-f80b-4460-bca5-29b3416c7606"
   },
   "outputs": [
    {
     "name": "stderr",
     "output_type": "stream",
     "text": [
      "/usr/local/lib/python3.9/dist-packages/sklearn/model_selection/_validation.py:686: DataConversionWarning: A column-vector y was passed when a 1d array was expected. Please change the shape of y to (n_samples,), for example using ravel().\n",
      "  estimator.fit(X_train, y_train, **fit_params)\n",
      "/usr/local/lib/python3.9/dist-packages/sklearn/ensemble/_forest.py:424: FutureWarning: `max_features='auto'` has been deprecated in 1.1 and will be removed in 1.3. To keep the past behaviour, explicitly set `max_features='sqrt'` or remove this parameter as it is also the default value for RandomForestClassifiers and ExtraTreesClassifiers.\n",
      "  warn(\n",
      "/usr/local/lib/python3.9/dist-packages/sklearn/model_selection/_validation.py:686: DataConversionWarning: A column-vector y was passed when a 1d array was expected. Please change the shape of y to (n_samples,), for example using ravel().\n",
      "  estimator.fit(X_train, y_train, **fit_params)\n",
      "/usr/local/lib/python3.9/dist-packages/sklearn/ensemble/_forest.py:424: FutureWarning: `max_features='auto'` has been deprecated in 1.1 and will be removed in 1.3. To keep the past behaviour, explicitly set `max_features='sqrt'` or remove this parameter as it is also the default value for RandomForestClassifiers and ExtraTreesClassifiers.\n",
      "  warn(\n",
      "/usr/local/lib/python3.9/dist-packages/sklearn/model_selection/_validation.py:686: DataConversionWarning: A column-vector y was passed when a 1d array was expected. Please change the shape of y to (n_samples,), for example using ravel().\n",
      "  estimator.fit(X_train, y_train, **fit_params)\n",
      "/usr/local/lib/python3.9/dist-packages/sklearn/ensemble/_forest.py:424: FutureWarning: `max_features='auto'` has been deprecated in 1.1 and will be removed in 1.3. To keep the past behaviour, explicitly set `max_features='sqrt'` or remove this parameter as it is also the default value for RandomForestClassifiers and ExtraTreesClassifiers.\n",
      "  warn(\n",
      "/usr/local/lib/python3.9/dist-packages/sklearn/model_selection/_validation.py:686: DataConversionWarning: A column-vector y was passed when a 1d array was expected. Please change the shape of y to (n_samples,), for example using ravel().\n",
      "  estimator.fit(X_train, y_train, **fit_params)\n",
      "/usr/local/lib/python3.9/dist-packages/sklearn/ensemble/_forest.py:424: FutureWarning: `max_features='auto'` has been deprecated in 1.1 and will be removed in 1.3. To keep the past behaviour, explicitly set `max_features='sqrt'` or remove this parameter as it is also the default value for RandomForestClassifiers and ExtraTreesClassifiers.\n",
      "  warn(\n",
      "/usr/local/lib/python3.9/dist-packages/sklearn/model_selection/_validation.py:686: DataConversionWarning: A column-vector y was passed when a 1d array was expected. Please change the shape of y to (n_samples,), for example using ravel().\n",
      "  estimator.fit(X_train, y_train, **fit_params)\n",
      "/usr/local/lib/python3.9/dist-packages/sklearn/ensemble/_forest.py:424: FutureWarning: `max_features='auto'` has been deprecated in 1.1 and will be removed in 1.3. To keep the past behaviour, explicitly set `max_features='sqrt'` or remove this parameter as it is also the default value for RandomForestClassifiers and ExtraTreesClassifiers.\n",
      "  warn(\n"
     ]
    },
    {
     "data": {
      "text/plain": [
       "array([0.98924676, 0.98305207, 0.98119179, 0.9952097 , 0.97582262])"
      ]
     },
     "execution_count": 17,
     "metadata": {},
     "output_type": "execute_result"
    }
   ],
   "source": [
    "#model is not overfitted\n",
    "score_rf = cross_val_score(rf_model, X=X_train, y=y_train, scoring='roc_auc', cv=5)\n",
    "score_rf"
   ]
  },
  {
   "cell_type": "code",
   "execution_count": null,
   "id": "UnV6zQzG3pqj",
   "metadata": {
    "colab": {
     "base_uri": "https://localhost:8080/",
     "height": 542
    },
    "executionInfo": {
     "elapsed": 1185,
     "status": "ok",
     "timestamp": 1682336915872,
     "user": {
      "displayName": "Dawid Walicki",
      "userId": "09899538618212575449"
     },
     "user_tz": -120
    },
    "id": "UnV6zQzG3pqj",
    "outputId": "cc3ec0f8-1282-434a-f653-b3f4db6a2c05"
   },
   "outputs": [
    {
     "data": {
      "image/png": "[encoded data removed]",
      "text/plain": [
       "<Figure size 800x600 with 1 Axes>"
      ]
     },
     "metadata": {},
     "output_type": "display_data"
    }
   ],
   "source": [
    "threshold_balance(rf_model, threshold = 0.24)"
   ]
  },
  {
   "cell_type": "markdown",
   "id": "Zv5Owzm5GLg5",
   "metadata": {
    "id": "Zv5Owzm5GLg5"
   },
   "source": [
    "Results worse than in Logistic Regression."
   ]
  },
  {
   "cell_type": "markdown",
   "id": "2FSBhWeBjQpk",
   "metadata": {
    "id": "2FSBhWeBjQpk"
   },
   "source": [
    "#3. LightGBM"
   ]
  },
  {
   "cell_type": "code",
   "execution_count": null,
   "id": "op5Fh0t3jUTn",
   "metadata": {
    "id": "op5Fh0t3jUTn"
   },
   "outputs": [],
   "source": [
    "kfold = StratifiedKFold(10, shuffle=True, random_state=42)\n",
    "model_lgbm = LGBMClassifier()\n",
    "\n",
    "#params for hyperparameters optimization\n",
    "boosting_type = ['gbdt', 'goss']\n",
    "max_depth = [ 16, 18, 20, 22, 24, 26, 28, 30, 32, 34]\n",
    "num_leaves = [4, 17, 25, 50, 70, 1500, 2000, 2500, 3000]\n",
    "min_data_in_leaf = [250, 500, 750, 1200, 2000, 3000]\n",
    "num_iterations = [60, 80, 150, 200]\n",
    "learning_rate = [0.01, 0.03, 0.05, 0.1, 0.5]\n",
    "early_stopping_round = [5, 15]\n",
    "lambda_l1 = [0.1, 1, 10, 100, 1000]\n",
    "lambda_l2 = [0.1, 1, 10, 100, 1000]\n",
    "\n",
    "params = {\n",
    "    'boosting_type': boosting_type,\n",
    "    'max_depth': max_depth,\n",
    "    'num_leaves': num_leaves,\n",
    "    'min_data_in_leaf': min_data_in_leaf,\n",
    "    'num_iterations': num_iterations,\n",
    "    'learning_rate': learning_rate,\n",
    "    'lambda_l1': lambda_l1,\n",
    "    'lambda_l2': lambda_l2,\n",
    "}\n",
    "\n",
    "optimizer_lgbm = RandomizedSearchCV(\n",
    "    estimator=model_lgbm,\n",
    "    param_distributions=params,\n",
    "    scoring='roc_auc',\n",
    "    cv = kfold\n",
    ")\n",
    "\n",
    "optimizer_lgbm.fit(X_train, y_train)"
   ]
  },
  {
   "cell_type": "code",
   "execution_count": null,
   "id": "NlCdRbYHzaD0",
   "metadata": {
    "colab": {
     "base_uri": "https://localhost:8080/"
    },
    "executionInfo": {
     "elapsed": 9,
     "status": "ok",
     "timestamp": 1682029683449,
     "user": {
      "displayName": "Dawid Walicki",
      "userId": "09899538618212575449"
     },
     "user_tz": -120
    },
    "id": "NlCdRbYHzaD0",
    "outputId": "6d6575ec-9f34-48e1-b0b5-798213f0fa76"
   },
   "outputs": [
    {
     "data": {
      "text/plain": [
       "{'num_leaves': 1500,\n",
       " 'num_iterations': 80,\n",
       " 'min_data_in_leaf': 750,\n",
       " 'max_depth': 22,\n",
       " 'learning_rate': 0.03,\n",
       " 'lambda_l2': 10,\n",
       " 'lambda_l1': 1,\n",
       " 'boosting_type': 'gbdt'}"
      ]
     },
     "execution_count": 52,
     "metadata": {},
     "output_type": "execute_result"
    }
   ],
   "source": [
    "lgbm_best_params = optimizer_lgbm.best_params_\n",
    "lgbm_best_params"
   ]
  },
  {
   "cell_type": "code",
   "execution_count": null,
   "id": "1fwuf1vT-Acm",
   "metadata": {
    "colab": {
     "base_uri": "https://localhost:8080/"
    },
    "executionInfo": {
     "elapsed": 15410,
     "status": "ok",
     "timestamp": 1682029698852,
     "user": {
      "displayName": "Dawid Walicki",
      "userId": "09899538618212575449"
     },
     "user_tz": -120
    },
    "id": "1fwuf1vT-Acm",
    "outputId": "1e52e5b7-955b-42f9-dd66-0d80222ab8f6"
   },
   "outputs": [
    {
     "name": "stderr",
     "output_type": "stream",
     "text": [
      "/usr/local/lib/python3.9/dist-packages/sklearn/preprocessing/_label.py:99: DataConversionWarning: A column-vector y was passed when a 1d array was expected. Please change the shape of y to (n_samples, ), for example using ravel().\n",
      "  y = column_or_1d(y, warn=True)\n",
      "/usr/local/lib/python3.9/dist-packages/sklearn/preprocessing/_label.py:134: DataConversionWarning: A column-vector y was passed when a 1d array was expected. Please change the shape of y to (n_samples, ), for example using ravel().\n",
      "  y = column_or_1d(y, dtype=self.classes_.dtype, warn=True)\n",
      "/usr/local/lib/python3.9/dist-packages/lightgbm/engine.py:177: UserWarning: Found `num_iterations` in params. Will use it instead of argument\n",
      "  _log_warning(f\"Found `{alias}` in params. Will use it instead of argument\")\n",
      "/usr/local/lib/python3.9/dist-packages/sklearn/preprocessing/_label.py:99: DataConversionWarning: A column-vector y was passed when a 1d array was expected. Please change the shape of y to (n_samples, ), for example using ravel().\n",
      "  y = column_or_1d(y, warn=True)\n",
      "/usr/local/lib/python3.9/dist-packages/sklearn/preprocessing/_label.py:134: DataConversionWarning: A column-vector y was passed when a 1d array was expected. Please change the shape of y to (n_samples, ), for example using ravel().\n",
      "  y = column_or_1d(y, dtype=self.classes_.dtype, warn=True)\n",
      "/usr/local/lib/python3.9/dist-packages/lightgbm/engine.py:177: UserWarning: Found `num_iterations` in params. Will use it instead of argument\n",
      "  _log_warning(f\"Found `{alias}` in params. Will use it instead of argument\")\n"
     ]
    },
    {
     "name": "stdout",
     "output_type": "stream",
     "text": [
      "[LightGBM] [Warning] lambda_l1 is set=1, reg_alpha=0.0 will be ignored. Current value: lambda_l1=1\n",
      "[LightGBM] [Warning] min_data_in_leaf is set=750, min_child_samples=20 will be ignored. Current value: min_data_in_leaf=750\n",
      "[LightGBM] [Warning] lambda_l2 is set=10, reg_lambda=0.0 will be ignored. Current value: lambda_l2=10\n"
     ]
    },
    {
     "name": "stderr",
     "output_type": "stream",
     "text": [
      "/usr/local/lib/python3.9/dist-packages/sklearn/preprocessing/_label.py:99: DataConversionWarning: A column-vector y was passed when a 1d array was expected. Please change the shape of y to (n_samples, ), for example using ravel().\n",
      "  y = column_or_1d(y, warn=True)\n",
      "/usr/local/lib/python3.9/dist-packages/sklearn/preprocessing/_label.py:134: DataConversionWarning: A column-vector y was passed when a 1d array was expected. Please change the shape of y to (n_samples, ), for example using ravel().\n",
      "  y = column_or_1d(y, dtype=self.classes_.dtype, warn=True)\n",
      "/usr/local/lib/python3.9/dist-packages/lightgbm/engine.py:177: UserWarning: Found `num_iterations` in params. Will use it instead of argument\n",
      "  _log_warning(f\"Found `{alias}` in params. Will use it instead of argument\")\n"
     ]
    },
    {
     "name": "stdout",
     "output_type": "stream",
     "text": [
      "[LightGBM] [Warning] lambda_l1 is set=1, reg_alpha=0.0 will be ignored. Current value: lambda_l1=1\n",
      "[LightGBM] [Warning] min_data_in_leaf is set=750, min_child_samples=20 will be ignored. Current value: min_data_in_leaf=750\n",
      "[LightGBM] [Warning] lambda_l2 is set=10, reg_lambda=0.0 will be ignored. Current value: lambda_l2=10\n"
     ]
    },
    {
     "name": "stderr",
     "output_type": "stream",
     "text": [
      "/usr/local/lib/python3.9/dist-packages/sklearn/preprocessing/_label.py:99: DataConversionWarning: A column-vector y was passed when a 1d array was expected. Please change the shape of y to (n_samples, ), for example using ravel().\n",
      "  y = column_or_1d(y, warn=True)\n",
      "/usr/local/lib/python3.9/dist-packages/sklearn/preprocessing/_label.py:134: DataConversionWarning: A column-vector y was passed when a 1d array was expected. Please change the shape of y to (n_samples, ), for example using ravel().\n",
      "  y = column_or_1d(y, dtype=self.classes_.dtype, warn=True)\n",
      "/usr/local/lib/python3.9/dist-packages/lightgbm/engine.py:177: UserWarning: Found `num_iterations` in params. Will use it instead of argument\n",
      "  _log_warning(f\"Found `{alias}` in params. Will use it instead of argument\")\n"
     ]
    },
    {
     "name": "stdout",
     "output_type": "stream",
     "text": [
      "[LightGBM] [Warning] lambda_l1 is set=1, reg_alpha=0.0 will be ignored. Current value: lambda_l1=1\n",
      "[LightGBM] [Warning] min_data_in_leaf is set=750, min_child_samples=20 will be ignored. Current value: min_data_in_leaf=750\n",
      "[LightGBM] [Warning] lambda_l2 is set=10, reg_lambda=0.0 will be ignored. Current value: lambda_l2=10\n"
     ]
    },
    {
     "name": "stderr",
     "output_type": "stream",
     "text": [
      "/usr/local/lib/python3.9/dist-packages/sklearn/preprocessing/_label.py:99: DataConversionWarning: A column-vector y was passed when a 1d array was expected. Please change the shape of y to (n_samples, ), for example using ravel().\n",
      "  y = column_or_1d(y, warn=True)\n",
      "/usr/local/lib/python3.9/dist-packages/sklearn/preprocessing/_label.py:134: DataConversionWarning: A column-vector y was passed when a 1d array was expected. Please change the shape of y to (n_samples, ), for example using ravel().\n",
      "  y = column_or_1d(y, dtype=self.classes_.dtype, warn=True)\n",
      "/usr/local/lib/python3.9/dist-packages/lightgbm/engine.py:177: UserWarning: Found `num_iterations` in params. Will use it instead of argument\n",
      "  _log_warning(f\"Found `{alias}` in params. Will use it instead of argument\")\n"
     ]
    },
    {
     "name": "stdout",
     "output_type": "stream",
     "text": [
      "[LightGBM] [Warning] lambda_l1 is set=1, reg_alpha=0.0 will be ignored. Current value: lambda_l1=1\n",
      "[LightGBM] [Warning] min_data_in_leaf is set=750, min_child_samples=20 will be ignored. Current value: min_data_in_leaf=750\n",
      "[LightGBM] [Warning] lambda_l2 is set=10, reg_lambda=0.0 will be ignored. Current value: lambda_l2=10\n"
     ]
    }
   ],
   "source": [
    "scores_lgbm = cross_val_score(\n",
    "    optimizer_lgbm.best_estimator_, X=X_train, \n",
    "    y=y_train, cv=5)"
   ]
  },
  {
   "cell_type": "code",
   "execution_count": null,
   "id": "0PVNTWT20i9i",
   "metadata": {
    "colab": {
     "base_uri": "https://localhost:8080/",
     "height": 791
    },
    "executionInfo": {
     "elapsed": 22,
     "status": "ok",
     "timestamp": 1682029698853,
     "user": {
      "displayName": "Dawid Walicki",
      "userId": "09899538618212575449"
     },
     "user_tz": -120
    },
    "id": "0PVNTWT20i9i",
    "outputId": "9938a431-5697-4d71-a18d-7529e603fcbf"
   },
   "outputs": [
    {
     "name": "stdout",
     "output_type": "stream",
     "text": [
      "Results for classifier\n",
      "-----\n",
      "   AUC:  0.6923569646199091\n",
      "   Precision:  0.9384457795737879\n",
      "   Recall:  0.9339378238341969\n",
      "   F1:  0.9360818870697463\n",
      "-----\n"
     ]
    },
    {
     "data": {
      "image/png": "[encoded data removed]",
      "text/plain": [
       "<Figure size 640x480 with 2 Axes>"
      ]
     },
     "metadata": {},
     "output_type": "display_data"
    },
    {
     "name": "stdout",
     "output_type": "stream",
     "text": [
      "-----\n",
      "Classification report:\n",
      "              precision    recall  f1-score   support\n",
      "\n",
      "           0       0.97      0.96      0.97      3664\n",
      "           1       0.37      0.42      0.39       196\n",
      "\n",
      "    accuracy                           0.93      3860\n",
      "   macro avg       0.67      0.69      0.68      3860\n",
      "weighted avg       0.94      0.93      0.94      3860\n",
      "\n"
     ]
    }
   ],
   "source": [
    "y_pred_test_lgbm = optimizer_lgbm.best_estimator_.predict(X_test)\n",
    "lgbm_metrics = calculate_metrics(y_test, y_pred_test_lgbm)\n",
    "print_results(lgbm_metrics)"
   ]
  },
  {
   "cell_type": "code",
   "execution_count": null,
   "id": "WGK7Auo50Vnp",
   "metadata": {
    "colab": {
     "base_uri": "https://localhost:8080/",
     "height": 268
    },
    "executionInfo": {
     "elapsed": 7858,
     "status": "ok",
     "timestamp": 1682333354962,
     "user": {
      "displayName": "Dawid Walicki",
      "userId": "09899538618212575449"
     },
     "user_tz": -120
    },
    "id": "WGK7Auo50Vnp",
    "outputId": "56c195cb-840e-4eef-f7a5-797ecffeb802"
   },
   "outputs": [
    {
     "name": "stderr",
     "output_type": "stream",
     "text": [
      "/usr/local/lib/python3.9/dist-packages/sklearn/preprocessing/_label.py:99: DataConversionWarning: A column-vector y was passed when a 1d array was expected. Please change the shape of y to (n_samples, ), for example using ravel().\n",
      "  y = column_or_1d(y, warn=True)\n",
      "/usr/local/lib/python3.9/dist-packages/sklearn/preprocessing/_label.py:134: DataConversionWarning: A column-vector y was passed when a 1d array was expected. Please change the shape of y to (n_samples, ), for example using ravel().\n",
      "  y = column_or_1d(y, dtype=self.classes_.dtype, warn=True)\n",
      "/usr/local/lib/python3.9/dist-packages/lightgbm/engine.py:177: UserWarning: Found `num_iterations` in params. Will use it instead of argument\n",
      "  _log_warning(f\"Found `{alias}` in params. Will use it instead of argument\")\n"
     ]
    },
    {
     "name": "stdout",
     "output_type": "stream",
     "text": [
      "[LightGBM] [Warning] lambda_l1 is set=1, reg_alpha=0.0 will be ignored. Current value: lambda_l1=1\n",
      "[LightGBM] [Warning] min_data_in_leaf is set=750, min_child_samples=20 will be ignored. Current value: min_data_in_leaf=750\n",
      "[LightGBM] [Warning] lambda_l2 is set=10, reg_lambda=0.0 will be ignored. Current value: lambda_l2=10\n"
     ]
    },
    {
     "data": {
      "text/html": [
       "<style>#sk-container-id-2 {color: black;background-color: white;}#sk-container-id-2 pre{padding: 0;}#sk-container-id-2 div.sk-toggleable {background-color: white;}#sk-container-id-2 label.sk-toggleable__label {cursor: pointer;display: block;width: 100%;margin-bottom: 0;padding: 0.3em;box-sizing: border-box;text-align: center;}#sk-container-id-2 label.sk-toggleable__label-arrow:before {content: \"▸\";float: left;margin-right: 0.25em;color: #696969;}#sk-container-id-2 label.sk-toggleable__label-arrow:hover:before {color: black;}#sk-container-id-2 div.sk-estimator:hover label.sk-toggleable__label-arrow:before {color: black;}#sk-container-id-2 div.sk-toggleable__content {max-height: 0;max-width: 0;overflow: hidden;text-align: left;background-color: #f0f8ff;}#sk-container-id-2 div.sk-toggleable__content pre {margin: 0.2em;color: black;border-radius: 0.25em;background-color: #f0f8ff;}#sk-container-id-2 input.sk-toggleable__control:checked~div.sk-toggleable__content {max-height: 200px;max-width: 100%;overflow: auto;}#sk-container-id-2 input.sk-toggleable__control:checked~label.sk-toggleable__label-arrow:before {content: \"▾\";}#sk-container-id-2 div.sk-estimator input.sk-toggleable__control:checked~label.sk-toggleable__label {background-color: #d4ebff;}#sk-container-id-2 div.sk-label input.sk-toggleable__control:checked~label.sk-toggleable__label {background-color: #d4ebff;}#sk-container-id-2 input.sk-hidden--visually {border: 0;clip: rect(1px 1px 1px 1px);clip: rect(1px, 1px, 1px, 1px);height: 1px;margin: -1px;overflow: hidden;padding: 0;position: absolute;width: 1px;}#sk-container-id-2 div.sk-estimator {font-family: monospace;background-color: #f0f8ff;border: 1px dotted black;border-radius: 0.25em;box-sizing: border-box;margin-bottom: 0.5em;}#sk-container-id-2 div.sk-estimator:hover {background-color: #d4ebff;}#sk-container-id-2 div.sk-parallel-item::after {content: \"\";width: 100%;border-bottom: 1px solid gray;flex-grow: 1;}#sk-container-id-2 div.sk-label:hover label.sk-toggleable__label {background-color: #d4ebff;}#sk-container-id-2 div.sk-serial::before {content: \"\";position: absolute;border-left: 1px solid gray;box-sizing: border-box;top: 0;bottom: 0;left: 50%;z-index: 0;}#sk-container-id-2 div.sk-serial {display: flex;flex-direction: column;align-items: center;background-color: white;padding-right: 0.2em;padding-left: 0.2em;position: relative;}#sk-container-id-2 div.sk-item {position: relative;z-index: 1;}#sk-container-id-2 div.sk-parallel {display: flex;align-items: stretch;justify-content: center;background-color: white;position: relative;}#sk-container-id-2 div.sk-item::before, #sk-container-id-2 div.sk-parallel-item::before {content: \"\";position: absolute;border-left: 1px solid gray;box-sizing: border-box;top: 0;bottom: 0;left: 50%;z-index: -1;}#sk-container-id-2 div.sk-parallel-item {display: flex;flex-direction: column;z-index: 1;position: relative;background-color: white;}#sk-container-id-2 div.sk-parallel-item:first-child::after {align-self: flex-end;width: 50%;}#sk-container-id-2 div.sk-parallel-item:last-child::after {align-self: flex-start;width: 50%;}#sk-container-id-2 div.sk-parallel-item:only-child::after {width: 0;}#sk-container-id-2 div.sk-dashed-wrapped {border: 1px dashed gray;margin: 0 0.4em 0.5em 0.4em;box-sizing: border-box;padding-bottom: 0.4em;background-color: white;}#sk-container-id-2 div.sk-label label {font-family: monospace;font-weight: bold;display: inline-block;line-height: 1.2em;}#sk-container-id-2 div.sk-label-container {text-align: center;}#sk-container-id-2 div.sk-container {/* jupyter's `normalize.less` sets `[hidden] { display: none; }` but bootstrap.min.css set `[hidden] { display: none !important; }` so we also need the `!important` here to be able to override the default hidden behavior on the sphinx rendered scikit-learn.org. See: https://github.com/scikit-learn/scikit-learn/issues/21755 */display: inline-block !important;position: relative;}#sk-container-id-2 div.sk-text-repr-fallback {display: none;}</style><div id=\"sk-container-id-2\" class=\"sk-top-container\"><div class=\"sk-text-repr-fallback\"><pre>LGBMClassifier(lambda_l1=1, lambda_l2=10, learning_rate=0.03, max_depth=22,\n",
       "               min_data_in_leaf=750, num_iterations=80, num_leaves=1500)</pre><b>In a Jupyter environment, please rerun this cell to show the HTML representation or trust the notebook. <br />On GitHub, the HTML representation is unable to render, please try loading this page with nbviewer.org.</b></div><div class=\"sk-container\" hidden><div class=\"sk-item\"><div class=\"sk-estimator sk-toggleable\"><input class=\"sk-toggleable__control sk-hidden--visually\" id=\"sk-estimator-id-2\" type=\"checkbox\" checked><label for=\"sk-estimator-id-2\" class=\"sk-toggleable__label sk-toggleable__label-arrow\">LGBMClassifier</label><div class=\"sk-toggleable__content\"><pre>LGBMClassifier(lambda_l1=1, lambda_l2=10, learning_rate=0.03, max_depth=22,\n",
       "               min_data_in_leaf=750, num_iterations=80, num_leaves=1500)</pre></div></div></div></div></div>"
      ],
      "text/plain": [
       "LGBMClassifier(lambda_l1=1, lambda_l2=10, learning_rate=0.03, max_depth=22,\n",
       "               min_data_in_leaf=750, num_iterations=80, num_leaves=1500)"
      ]
     },
     "execution_count": 32,
     "metadata": {},
     "output_type": "execute_result"
    }
   ],
   "source": [
    "#creating model with best params\n",
    "model_lgbm = LGBMClassifier(\n",
    "    num_leaves=1500, num_iterations=80, \n",
    "    min_data_in_leaf=750, max_depth=22,\n",
    "    learning_rate=0.03, lambda_l2=10,\n",
    "    lambda_l1=1, boosting_type='gbdt'\n",
    ")\n",
    "\n",
    "model_lgbm.fit(X_train, y_train)"
   ]
  },
  {
   "cell_type": "code",
   "execution_count": null,
   "id": "ekh_x4qC3P2T",
   "metadata": {
    "colab": {
     "base_uri": "https://localhost:8080/"
    },
    "executionInfo": {
     "elapsed": 13545,
     "status": "ok",
     "timestamp": 1682333372836,
     "user": {
      "displayName": "Dawid Walicki",
      "userId": "09899538618212575449"
     },
     "user_tz": -120
    },
    "id": "ekh_x4qC3P2T",
    "outputId": "6b80867d-4495-49bb-85dd-6d89e5fef2e2"
   },
   "outputs": [
    {
     "name": "stderr",
     "output_type": "stream",
     "text": [
      "/usr/local/lib/python3.9/dist-packages/sklearn/preprocessing/_label.py:99: DataConversionWarning: A column-vector y was passed when a 1d array was expected. Please change the shape of y to (n_samples, ), for example using ravel().\n",
      "  y = column_or_1d(y, warn=True)\n",
      "/usr/local/lib/python3.9/dist-packages/sklearn/preprocessing/_label.py:134: DataConversionWarning: A column-vector y was passed when a 1d array was expected. Please change the shape of y to (n_samples, ), for example using ravel().\n",
      "  y = column_or_1d(y, dtype=self.classes_.dtype, warn=True)\n",
      "/usr/local/lib/python3.9/dist-packages/lightgbm/engine.py:177: UserWarning: Found `num_iterations` in params. Will use it instead of argument\n",
      "  _log_warning(f\"Found `{alias}` in params. Will use it instead of argument\")\n",
      "/usr/local/lib/python3.9/dist-packages/sklearn/preprocessing/_label.py:99: DataConversionWarning: A column-vector y was passed when a 1d array was expected. Please change the shape of y to (n_samples, ), for example using ravel().\n",
      "  y = column_or_1d(y, warn=True)\n",
      "/usr/local/lib/python3.9/dist-packages/sklearn/preprocessing/_label.py:134: DataConversionWarning: A column-vector y was passed when a 1d array was expected. Please change the shape of y to (n_samples, ), for example using ravel().\n",
      "  y = column_or_1d(y, dtype=self.classes_.dtype, warn=True)\n",
      "/usr/local/lib/python3.9/dist-packages/lightgbm/engine.py:177: UserWarning: Found `num_iterations` in params. Will use it instead of argument\n",
      "  _log_warning(f\"Found `{alias}` in params. Will use it instead of argument\")\n"
     ]
    },
    {
     "name": "stdout",
     "output_type": "stream",
     "text": [
      "[LightGBM] [Warning] lambda_l1 is set=1, reg_alpha=0.0 will be ignored. Current value: lambda_l1=1\n",
      "[LightGBM] [Warning] min_data_in_leaf is set=750, min_child_samples=20 will be ignored. Current value: min_data_in_leaf=750\n",
      "[LightGBM] [Warning] lambda_l2 is set=10, reg_lambda=0.0 will be ignored. Current value: lambda_l2=10\n"
     ]
    },
    {
     "name": "stderr",
     "output_type": "stream",
     "text": [
      "/usr/local/lib/python3.9/dist-packages/sklearn/preprocessing/_label.py:99: DataConversionWarning: A column-vector y was passed when a 1d array was expected. Please change the shape of y to (n_samples, ), for example using ravel().\n",
      "  y = column_or_1d(y, warn=True)\n",
      "/usr/local/lib/python3.9/dist-packages/sklearn/preprocessing/_label.py:134: DataConversionWarning: A column-vector y was passed when a 1d array was expected. Please change the shape of y to (n_samples, ), for example using ravel().\n",
      "  y = column_or_1d(y, dtype=self.classes_.dtype, warn=True)\n",
      "/usr/local/lib/python3.9/dist-packages/lightgbm/engine.py:177: UserWarning: Found `num_iterations` in params. Will use it instead of argument\n",
      "  _log_warning(f\"Found `{alias}` in params. Will use it instead of argument\")\n"
     ]
    },
    {
     "name": "stdout",
     "output_type": "stream",
     "text": [
      "[LightGBM] [Warning] lambda_l1 is set=1, reg_alpha=0.0 will be ignored. Current value: lambda_l1=1\n",
      "[LightGBM] [Warning] min_data_in_leaf is set=750, min_child_samples=20 will be ignored. Current value: min_data_in_leaf=750\n",
      "[LightGBM] [Warning] lambda_l2 is set=10, reg_lambda=0.0 will be ignored. Current value: lambda_l2=10\n"
     ]
    },
    {
     "name": "stderr",
     "output_type": "stream",
     "text": [
      "/usr/local/lib/python3.9/dist-packages/sklearn/preprocessing/_label.py:99: DataConversionWarning: A column-vector y was passed when a 1d array was expected. Please change the shape of y to (n_samples, ), for example using ravel().\n",
      "  y = column_or_1d(y, warn=True)\n",
      "/usr/local/lib/python3.9/dist-packages/sklearn/preprocessing/_label.py:134: DataConversionWarning: A column-vector y was passed when a 1d array was expected. Please change the shape of y to (n_samples, ), for example using ravel().\n",
      "  y = column_or_1d(y, dtype=self.classes_.dtype, warn=True)\n",
      "/usr/local/lib/python3.9/dist-packages/lightgbm/engine.py:177: UserWarning: Found `num_iterations` in params. Will use it instead of argument\n",
      "  _log_warning(f\"Found `{alias}` in params. Will use it instead of argument\")\n"
     ]
    },
    {
     "name": "stdout",
     "output_type": "stream",
     "text": [
      "[LightGBM] [Warning] lambda_l1 is set=1, reg_alpha=0.0 will be ignored. Current value: lambda_l1=1\n",
      "[LightGBM] [Warning] min_data_in_leaf is set=750, min_child_samples=20 will be ignored. Current value: min_data_in_leaf=750\n",
      "[LightGBM] [Warning] lambda_l2 is set=10, reg_lambda=0.0 will be ignored. Current value: lambda_l2=10\n"
     ]
    },
    {
     "name": "stderr",
     "output_type": "stream",
     "text": [
      "/usr/local/lib/python3.9/dist-packages/sklearn/preprocessing/_label.py:99: DataConversionWarning: A column-vector y was passed when a 1d array was expected. Please change the shape of y to (n_samples, ), for example using ravel().\n",
      "  y = column_or_1d(y, warn=True)\n",
      "/usr/local/lib/python3.9/dist-packages/sklearn/preprocessing/_label.py:134: DataConversionWarning: A column-vector y was passed when a 1d array was expected. Please change the shape of y to (n_samples, ), for example using ravel().\n",
      "  y = column_or_1d(y, dtype=self.classes_.dtype, warn=True)\n",
      "/usr/local/lib/python3.9/dist-packages/lightgbm/engine.py:177: UserWarning: Found `num_iterations` in params. Will use it instead of argument\n",
      "  _log_warning(f\"Found `{alias}` in params. Will use it instead of argument\")\n"
     ]
    },
    {
     "name": "stdout",
     "output_type": "stream",
     "text": [
      "[LightGBM] [Warning] lambda_l1 is set=1, reg_alpha=0.0 will be ignored. Current value: lambda_l1=1\n",
      "[LightGBM] [Warning] min_data_in_leaf is set=750, min_child_samples=20 will be ignored. Current value: min_data_in_leaf=750\n",
      "[LightGBM] [Warning] lambda_l2 is set=10, reg_lambda=0.0 will be ignored. Current value: lambda_l2=10\n"
     ]
    }
   ],
   "source": [
    "scores_lgbm = cross_val_score(\n",
    "    model_lgbm, X=X_train, \n",
    "    y=y_train, scoring='roc_auc', cv=5)"
   ]
  },
  {
   "cell_type": "code",
   "execution_count": null,
   "id": "BnpmpxvhOWCp",
   "metadata": {
    "colab": {
     "base_uri": "https://localhost:8080/"
    },
    "executionInfo": {
     "elapsed": 311,
     "status": "ok",
     "timestamp": 1682339097095,
     "user": {
      "displayName": "Dawid Walicki",
      "userId": "09899538618212575449"
     },
     "user_tz": -120
    },
    "id": "BnpmpxvhOWCp",
    "outputId": "41604bb7-6ff7-4789-8a0f-1d31e1450347"
   },
   "outputs": [
    {
     "data": {
      "text/plain": [
       "array([0.97746274, 0.95910199, 0.94406783, 0.98261627, 0.965622  ])"
      ]
     },
     "execution_count": 67,
     "metadata": {},
     "output_type": "execute_result"
    }
   ],
   "source": [
    "#not overfitted\n",
    "scores_lgbm"
   ]
  },
  {
   "cell_type": "code",
   "execution_count": null,
   "id": "7dUHK6dv3W30",
   "metadata": {
    "colab": {
     "base_uri": "https://localhost:8080/",
     "height": 542
    },
    "executionInfo": {
     "elapsed": 7,
     "status": "ok",
     "timestamp": 1682337012126,
     "user": {
      "displayName": "Dawid Walicki",
      "userId": "09899538618212575449"
     },
     "user_tz": -120
    },
    "id": "7dUHK6dv3W30",
    "outputId": "f4fc510a-e2f0-4ae2-d494-34d773707927"
   },
   "outputs": [
    {
     "data": {
      "image/png": "[encoded data removed]",
      "text/plain": [
       "<Figure size 800x600 with 1 Axes>"
      ]
     },
     "metadata": {},
     "output_type": "display_data"
    }
   ],
   "source": [
    "threshold_balance(model_lgbm, threshold=0.13)"
   ]
  },
  {
   "cell_type": "code",
   "execution_count": null,
   "id": "2aLwRYntKxWW",
   "metadata": {
    "colab": {
     "base_uri": "https://localhost:8080/",
     "height": 764
    },
    "executionInfo": {
     "elapsed": 1013,
     "status": "ok",
     "timestamp": 1682338232355,
     "user": {
      "displayName": "Dawid Walicki",
      "userId": "09899538618212575449"
     },
     "user_tz": -120
    },
    "id": "2aLwRYntKxWW",
    "outputId": "495c11c3-df30-40d8-fd46-fe6ddbafbe1d"
   },
   "outputs": [
    {
     "name": "stdout",
     "output_type": "stream",
     "text": [
      "Results for classifier\n",
      "-----\n",
      "   AUC:  0.8795422645040549\n",
      "   Precision:  0.9563843426628381\n",
      "   Recall:  0.8354922279792746\n",
      "   F1:  0.8780416422352262\n",
      "-----\n"
     ]
    },
    {
     "data": {
      "image/png": "[encoded data removed]",
      "text/plain": [
       "<Figure size 640x480 with 2 Axes>"
      ]
     },
     "metadata": {},
     "output_type": "display_data"
    },
    {
     "name": "stdout",
     "output_type": "stream",
     "text": [
      "-----\n",
      "Classification report:\n",
      "              precision    recall  f1-score   support\n",
      "\n",
      "           0       1.00      0.83      0.91      3664\n",
      "           1       0.23      0.93      0.36       196\n",
      "\n",
      "    accuracy                           0.84      3860\n",
      "   macro avg       0.61      0.88      0.63      3860\n",
      "weighted avg       0.96      0.84      0.88      3860\n",
      "\n"
     ]
    }
   ],
   "source": [
    "#prediction for different threshold\n",
    "y_pred_lgbm_th = (model_lgbm.predict_proba(X_test)[:, 1] > 0.13).astype(int)\n",
    "metric_lgbm_th = calculate_metrics(y_test, y_pred_lgbm_th)\n",
    "print_results(metric_lgbm_th)"
   ]
  },
  {
   "cell_type": "markdown",
   "id": "9cU34eEisGN8",
   "metadata": {
    "id": "9cU34eEisGN8"
   },
   "source": [
    "# CatBoostClassifier"
   ]
  },
  {
   "cell_type": "code",
   "execution_count": null,
   "id": "VwcB6aE4sF1G",
   "metadata": {
    "id": "VwcB6aE4sF1G"
   },
   "outputs": [],
   "source": [
    "cat_cols = [\n",
    "    'latest_seismic_assessment', 'latest_comprehensive_assessment', \n",
    "    'latest_hazards_assessment'\n",
    "]\n",
    "\n",
    "kfold = StratifiedKFold(10, shuffle=False)\n",
    "model_catboost = CatBoostClassifier(task_type = 'GPU', cat_features=cat_cols)\n",
    "\n",
    "learning_rate = [0.01, 0.05, 0.1, 0.5, 0.8],\n",
    "depth = np.arange(2, 8)\n",
    "l2_leaf_reg = [10, 100, 1000, 10000],\n",
    "random_strength = [1, 5, 10],\n",
    "iterations = [100, 500, 1000],\n",
    "grow_policy = ['SymmetricTree', 'Depthwise', 'Lossguide']\n",
    "\n",
    " \n",
    "#2\n",
    "grow_policy = ['SymmetricTree'],\n",
    "min_data_in_leaf = [1, 3, 5, 7, 9]\n",
    "\n",
    "#3\n",
    "grow_policy = ['Lossguide']\n",
    "max_leaves = [31, 35, 40, 45, 50, 55]\n",
    "\n",
    "params = [\n",
    "    {\n",
    "      'learning_rate': [0.01, 0.05, 0.1, 0.5, 0.8],\n",
    "      'depth': np.arange(2, 8),\n",
    "      'l2_leaf_reg': [1, 10, 100, 1000, 10000],\n",
    "      'random_strength': [1, 3, 6, 10],\n",
    "      'iterations': np.arange(100, 1001, 50),\n",
    "      'grow_policy': ['SymmetricTree', 'Depthwise', 'Lossguide']\n",
    "    },\n",
    "    {\n",
    "      'grow_policy': ['SymmetricTree'],\n",
    "      'min_data_in_leaf': [1, 3, 5, 7, 9],\n",
    "      'learning_rate': [0.01, 0.05, 0.1, 0.5, 0.8],\n",
    "      'iterations': np.arange(100, 1001, 50),\n",
    "      'depth': np.arange(2, 8)\n",
    "    },\n",
    "    {\n",
    "      'grow_policy': ['Lossguide'],\n",
    "      'max_leaves': [31, 35, 40, 45, 50, 55],\n",
    "      'learning_rate': [0.01, 0.05, 0.1, 0.5, 0.8],\n",
    "      'iterations': np.arange(100, 1001, 50),\n",
    "      'depth': np.arange(2, 8)\n",
    "    }\n",
    "]\n",
    "\n",
    "\n",
    "optimizer_catboost = RandomizedSearchCV(\n",
    "    estimator=model_catboost,\n",
    "    param_distributions=params,\n",
    "    scoring='roc_auc',\n",
    "    cv = kfold,\n",
    "    n_iter = 20\n",
    ")\n",
    "\n",
    "optimizer_catboost.fit(X_train, y_train)"
   ]
  },
  {
   "cell_type": "code",
   "execution_count": null,
   "id": "25htQSi9uzsF",
   "metadata": {
    "id": "25htQSi9uzsF"
   },
   "outputs": [],
   "source": [
    "catboost_best_params = optimizer_catboost.best_params_"
   ]
  },
  {
   "cell_type": "code",
   "execution_count": null,
   "id": "yPvpxI7HveTC",
   "metadata": {
    "colab": {
     "base_uri": "https://localhost:8080/",
     "height": 791
    },
    "executionInfo": {
     "elapsed": 18,
     "status": "ok",
     "timestamp": 1682031683776,
     "user": {
      "displayName": "Dawid Walicki",
      "userId": "09899538618212575449"
     },
     "user_tz": -120
    },
    "id": "yPvpxI7HveTC",
    "outputId": "02b3bbfb-81b3-4094-887f-c25fe05a958b"
   },
   "outputs": [
    {
     "name": "stdout",
     "output_type": "stream",
     "text": [
      "Results for classifier\n",
      "-----\n",
      "   AUC:  0.574945971838517\n",
      "   Precision:  0.9280888178901515\n",
      "   Recall:  0.944818652849741\n",
      "   F1:  0.9337903379275583\n",
      "-----\n"
     ]
    },
    {
     "data": {
      "image/png": "[encoded data removed]",
      "text/plain": [
       "<Figure size 640x480 with 2 Axes>"
      ]
     },
     "metadata": {},
     "output_type": "display_data"
    },
    {
     "name": "stdout",
     "output_type": "stream",
     "text": [
      "-----\n",
      "Classification report:\n",
      "              precision    recall  f1-score   support\n",
      "\n",
      "           0       0.96      0.99      0.97      3664\n",
      "           1       0.40      0.16      0.23       196\n",
      "\n",
      "    accuracy                           0.94      3860\n",
      "   macro avg       0.68      0.57      0.60      3860\n",
      "weighted avg       0.93      0.94      0.93      3860\n",
      "\n"
     ]
    }
   ],
   "source": [
    "y_pred_test_catboost = optimizer_catboost.best_estimator_.predict(X_test)\n",
    "catboost_metrics = calculate_metrics(y_test, y_pred_test_catboost)\n",
    "print_results(catboost_metrics)"
   ]
  },
  {
   "cell_type": "markdown",
   "id": "PdpIEG-K0aIB",
   "metadata": {
    "id": "PdpIEG-K0aIB"
   },
   "source": [
    "CatboostClassifier gives us bad results so there will be no further steps."
   ]
  },
  {
   "cell_type": "markdown",
   "id": "5xUBVYdC2XMV",
   "metadata": {
    "id": "5xUBVYdC2XMV"
   },
   "source": [
    "# XGBoost"
   ]
  },
  {
   "cell_type": "code",
   "execution_count": null,
   "id": "aj3qgypK2a_i",
   "metadata": {
    "id": "aj3qgypK2a_i"
   },
   "outputs": [],
   "source": [
    "booster = ['gbtree', 'gblinear', 'dart']\n",
    "eta = [0.01, 0.1, 0.5, 0.8]\n",
    "gamma = [0, 0.1, 1, 10]\n",
    "n_estimators = [60, 120, 200, 300, 500]\n",
    "min_child_weight = [0, 1, 4, 6, 10]\n",
    "max_delta_step = [0, 1, 3, 5, 7, 10]\n",
    "max_depth = [0, 1, 3, 5, 7, 10]\n",
    "reg_lambda = [0.1, 1, 10, 100]\n",
    "reg_alpha = [0, 0.1, 1, 10, 100]\n",
    "scale_pos_weight = [1, 3, 5, 7, 10]\n",
    "\n",
    "model_xgb = XGBClassifier()\n",
    "\n",
    "params = {\n",
    "    'booster': booster,\n",
    "    'eta': eta,\n",
    "    'gamma': gamma,\n",
    "    'n_estimators': n_estimators,\n",
    "    'min_child_weight': min_child_weight,\n",
    "    'max_delta_step': max_delta_step,\n",
    "    'max_depth': max_depth,\n",
    "    'reg_lambda': reg_lambda,\n",
    "    'reg_alpha': reg_alpha,\n",
    "    'scale_pos_weight': scale_pos_weight\n",
    "}\n",
    "\n",
    "optimizer_xgb = RandomizedSearchCV(\n",
    "    estimator = model_xgb,\n",
    "    param_distributions = params,\n",
    "    cv = kfold,\n",
    "    scoring = 'roc_auc'\n",
    ")\n",
    "\n",
    "optimizer_xgb.fit(X_train, y_train)"
   ]
  },
  {
   "cell_type": "code",
   "execution_count": null,
   "id": "zaYIIcW_6mDV",
   "metadata": {
    "colab": {
     "base_uri": "https://localhost:8080/"
    },
    "executionInfo": {
     "elapsed": 8,
     "status": "ok",
     "timestamp": 1682103759573,
     "user": {
      "displayName": "Dawid Walicki",
      "userId": "09899538618212575449"
     },
     "user_tz": -120
    },
    "id": "zaYIIcW_6mDV",
    "outputId": "f0d4103f-6de7-4ef3-9d85-28810a109a81"
   },
   "outputs": [
    {
     "data": {
      "text/plain": [
       "{'scale_pos_weight': 7,\n",
       " 'reg_lambda': 10,\n",
       " 'reg_alpha': 100,\n",
       " 'n_estimators': 200,\n",
       " 'min_child_weight': 0,\n",
       " 'max_depth': 3,\n",
       " 'max_delta_step': 0,\n",
       " 'gamma': 0.1,\n",
       " 'eta': 0.1,\n",
       " 'booster': 'dart'}"
      ]
     },
     "execution_count": 9,
     "metadata": {},
     "output_type": "execute_result"
    }
   ],
   "source": [
    "best_xgb_params = optimizer_xgb.best_params_\n",
    "best_xgb_params"
   ]
  },
  {
   "cell_type": "code",
   "execution_count": null,
   "id": "v62KFTAK6sRV",
   "metadata": {
    "colab": {
     "base_uri": "https://localhost:8080/",
     "height": 791
    },
    "executionInfo": {
     "elapsed": 773,
     "status": "ok",
     "timestamp": 1682105633887,
     "user": {
      "displayName": "Dawid Walicki",
      "userId": "09899538618212575449"
     },
     "user_tz": -120
    },
    "id": "v62KFTAK6sRV",
    "outputId": "a6216538-f119-48df-d574-efdd753c657b"
   },
   "outputs": [
    {
     "name": "stdout",
     "output_type": "stream",
     "text": [
      "Results for classifier\n",
      "-----\n",
      "   AUC:  0.8192173157472596\n",
      "   Precision:  0.9495742497946562\n",
      "   Recall:  0.899740932642487\n",
      "   F1:  0.9186727675237626\n",
      "-----\n"
     ]
    },
    {
     "data": {
      "image/png": "[encoded data removed]",
      "text/plain": [
       "<Figure size 640x480 with 2 Axes>"
      ]
     },
     "metadata": {},
     "output_type": "display_data"
    },
    {
     "name": "stdout",
     "output_type": "stream",
     "text": [
      "-----\n",
      "Classification report:\n",
      "              precision    recall  f1-score   support\n",
      "\n",
      "           0       0.98      0.91      0.95      3664\n",
      "           1       0.30      0.73      0.42       196\n",
      "\n",
      "    accuracy                           0.90      3860\n",
      "   macro avg       0.64      0.82      0.69      3860\n",
      "weighted avg       0.95      0.90      0.92      3860\n",
      "\n"
     ]
    }
   ],
   "source": [
    "y_pred_xgb = optimizer_xgb.best_estimator_.predict(X_test)\n",
    "xgb_metrics = calculate_metrics(y_test, y_pred_xgb)\n",
    "print_results(xgb_metrics)"
   ]
  },
  {
   "cell_type": "code",
   "execution_count": null,
   "id": "363B_5V71bNk",
   "metadata": {
    "colab": {
     "base_uri": "https://localhost:8080/",
     "height": 248
    },
    "executionInfo": {
     "elapsed": 232230,
     "status": "ok",
     "timestamp": 1682337289451,
     "user": {
      "displayName": "Dawid Walicki",
      "userId": "09899538618212575449"
     },
     "user_tz": -120
    },
    "id": "363B_5V71bNk",
    "outputId": "7dfbf0b3-60f4-4880-f077-8159e4c29bc9"
   },
   "outputs": [
    {
     "data": {
      "text/html": [
       "<style>#sk-container-id-3 {color: black;background-color: white;}#sk-container-id-3 pre{padding: 0;}#sk-container-id-3 div.sk-toggleable {background-color: white;}#sk-container-id-3 label.sk-toggleable__label {cursor: pointer;display: block;width: 100%;margin-bottom: 0;padding: 0.3em;box-sizing: border-box;text-align: center;}#sk-container-id-3 label.sk-toggleable__label-arrow:before {content: \"▸\";float: left;margin-right: 0.25em;color: #696969;}#sk-container-id-3 label.sk-toggleable__label-arrow:hover:before {color: black;}#sk-container-id-3 div.sk-estimator:hover label.sk-toggleable__label-arrow:before {color: black;}#sk-container-id-3 div.sk-toggleable__content {max-height: 0;max-width: 0;overflow: hidden;text-align: left;background-color: #f0f8ff;}#sk-container-id-3 div.sk-toggleable__content pre {margin: 0.2em;color: black;border-radius: 0.25em;background-color: #f0f8ff;}#sk-container-id-3 input.sk-toggleable__control:checked~div.sk-toggleable__content {max-height: 200px;max-width: 100%;overflow: auto;}#sk-container-id-3 input.sk-toggleable__control:checked~label.sk-toggleable__label-arrow:before {content: \"▾\";}#sk-container-id-3 div.sk-estimator input.sk-toggleable__control:checked~label.sk-toggleable__label {background-color: #d4ebff;}#sk-container-id-3 div.sk-label input.sk-toggleable__control:checked~label.sk-toggleable__label {background-color: #d4ebff;}#sk-container-id-3 input.sk-hidden--visually {border: 0;clip: rect(1px 1px 1px 1px);clip: rect(1px, 1px, 1px, 1px);height: 1px;margin: -1px;overflow: hidden;padding: 0;position: absolute;width: 1px;}#sk-container-id-3 div.sk-estimator {font-family: monospace;background-color: #f0f8ff;border: 1px dotted black;border-radius: 0.25em;box-sizing: border-box;margin-bottom: 0.5em;}#sk-container-id-3 div.sk-estimator:hover {background-color: #d4ebff;}#sk-container-id-3 div.sk-parallel-item::after {content: \"\";width: 100%;border-bottom: 1px solid gray;flex-grow: 1;}#sk-container-id-3 div.sk-label:hover label.sk-toggleable__label {background-color: #d4ebff;}#sk-container-id-3 div.sk-serial::before {content: \"\";position: absolute;border-left: 1px solid gray;box-sizing: border-box;top: 0;bottom: 0;left: 50%;z-index: 0;}#sk-container-id-3 div.sk-serial {display: flex;flex-direction: column;align-items: center;background-color: white;padding-right: 0.2em;padding-left: 0.2em;position: relative;}#sk-container-id-3 div.sk-item {position: relative;z-index: 1;}#sk-container-id-3 div.sk-parallel {display: flex;align-items: stretch;justify-content: center;background-color: white;position: relative;}#sk-container-id-3 div.sk-item::before, #sk-container-id-3 div.sk-parallel-item::before {content: \"\";position: absolute;border-left: 1px solid gray;box-sizing: border-box;top: 0;bottom: 0;left: 50%;z-index: -1;}#sk-container-id-3 div.sk-parallel-item {display: flex;flex-direction: column;z-index: 1;position: relative;background-color: white;}#sk-container-id-3 div.sk-parallel-item:first-child::after {align-self: flex-end;width: 50%;}#sk-container-id-3 div.sk-parallel-item:last-child::after {align-self: flex-start;width: 50%;}#sk-container-id-3 div.sk-parallel-item:only-child::after {width: 0;}#sk-container-id-3 div.sk-dashed-wrapped {border: 1px dashed gray;margin: 0 0.4em 0.5em 0.4em;box-sizing: border-box;padding-bottom: 0.4em;background-color: white;}#sk-container-id-3 div.sk-label label {font-family: monospace;font-weight: bold;display: inline-block;line-height: 1.2em;}#sk-container-id-3 div.sk-label-container {text-align: center;}#sk-container-id-3 div.sk-container {/* jupyter's `normalize.less` sets `[hidden] { display: none; }` but bootstrap.min.css set `[hidden] { display: none !important; }` so we also need the `!important` here to be able to override the default hidden behavior on the sphinx rendered scikit-learn.org. See: https://github.com/scikit-learn/scikit-learn/issues/21755 */display: inline-block !important;position: relative;}#sk-container-id-3 div.sk-text-repr-fallback {display: none;}</style><div id=\"sk-container-id-3\" class=\"sk-top-container\"><div class=\"sk-text-repr-fallback\"><pre>XGBClassifier(base_score=None, booster=&#x27;dart&#x27;, callbacks=None,\n",
       "              colsample_bylevel=None, colsample_bynode=None,\n",
       "              colsample_bytree=None, early_stopping_rounds=None,\n",
       "              enable_categorical=False, eta=0.1, eval_metric=None,\n",
       "              feature_types=None, gamma=0.1, gpu_id=None, grow_policy=None,\n",
       "              importance_type=None, interaction_constraints=None,\n",
       "              learning_rate=None, max_bin=None, max_cat_threshold=None,\n",
       "              max_cat_to_onehot=None, max_delta_step=0, max_depth=3,\n",
       "              max_leaves=None, min_child_weight=0, missing=nan,\n",
       "              monotone_constraints=None, n_estimators=200, n_jobs=None,\n",
       "              num_parallel_tree=None, predictor=None, ...)</pre><b>In a Jupyter environment, please rerun this cell to show the HTML representation or trust the notebook. <br />On GitHub, the HTML representation is unable to render, please try loading this page with nbviewer.org.</b></div><div class=\"sk-container\" hidden><div class=\"sk-item\"><div class=\"sk-estimator sk-toggleable\"><input class=\"sk-toggleable__control sk-hidden--visually\" id=\"sk-estimator-id-3\" type=\"checkbox\" checked><label for=\"sk-estimator-id-3\" class=\"sk-toggleable__label sk-toggleable__label-arrow\">XGBClassifier</label><div class=\"sk-toggleable__content\"><pre>XGBClassifier(base_score=None, booster=&#x27;dart&#x27;, callbacks=None,\n",
       "              colsample_bylevel=None, colsample_bynode=None,\n",
       "              colsample_bytree=None, early_stopping_rounds=None,\n",
       "              enable_categorical=False, eta=0.1, eval_metric=None,\n",
       "              feature_types=None, gamma=0.1, gpu_id=None, grow_policy=None,\n",
       "              importance_type=None, interaction_constraints=None,\n",
       "              learning_rate=None, max_bin=None, max_cat_threshold=None,\n",
       "              max_cat_to_onehot=None, max_delta_step=0, max_depth=3,\n",
       "              max_leaves=None, min_child_weight=0, missing=nan,\n",
       "              monotone_constraints=None, n_estimators=200, n_jobs=None,\n",
       "              num_parallel_tree=None, predictor=None, ...)</pre></div></div></div></div></div>"
      ],
      "text/plain": [
       "XGBClassifier(base_score=None, booster='dart', callbacks=None,\n",
       "              colsample_bylevel=None, colsample_bynode=None,\n",
       "              colsample_bytree=None, early_stopping_rounds=None,\n",
       "              enable_categorical=False, eta=0.1, eval_metric=None,\n",
       "              feature_types=None, gamma=0.1, gpu_id=None, grow_policy=None,\n",
       "              importance_type=None, interaction_constraints=None,\n",
       "              learning_rate=None, max_bin=None, max_cat_threshold=None,\n",
       "              max_cat_to_onehot=None, max_delta_step=0, max_depth=3,\n",
       "              max_leaves=None, min_child_weight=0, missing=nan,\n",
       "              monotone_constraints=None, n_estimators=200, n_jobs=None,\n",
       "              num_parallel_tree=None, predictor=None, ...)"
      ]
     },
     "execution_count": 52,
     "metadata": {},
     "output_type": "execute_result"
    }
   ],
   "source": [
    "#creating model with best params\n",
    "model_xgb = XGBClassifier(\n",
    "    scale_pos_weight=7, reg_lambda=10, \n",
    "    reg_alpha=100, n_estimators=200,\n",
    "    min_child_weight=0, max_depth=3,\n",
    "    max_delta_step=0, gamma=0.1,\n",
    "    eta=0.1, booster='dart'\n",
    ")\n",
    "\n",
    "model_xgb.fit(X_train, y_train)"
   ]
  },
  {
   "cell_type": "code",
   "execution_count": null,
   "id": "1vYE3g436c5W",
   "metadata": {
    "colab": {
     "base_uri": "https://localhost:8080/"
    },
    "executionInfo": {
     "elapsed": 856622,
     "status": "ok",
     "timestamp": 1682334396323,
     "user": {
      "displayName": "Dawid Walicki",
      "userId": "09899538618212575449"
     },
     "user_tz": -120
    },
    "id": "1vYE3g436c5W",
    "outputId": "9148854c-dc80-4c96-961d-f58f341efbe0"
   },
   "outputs": [
    {
     "data": {
      "text/plain": [
       "array([0.98246664, 0.98165375, 0.96905417, 0.99281286, 0.98203362])"
      ]
     },
     "execution_count": 40,
     "metadata": {},
     "output_type": "execute_result"
    }
   ],
   "source": [
    "scores_xgb = cross_val_score(\n",
    "    model_xgb, X=X_train,\n",
    "    y=y_train, scoring='roc_auc', \n",
    "    cv=5\n",
    ")\n",
    "scores_xgb"
   ]
  },
  {
   "cell_type": "code",
   "execution_count": null,
   "id": "F3ypORbCa3OA",
   "metadata": {
    "colab": {
     "base_uri": "https://localhost:8080/",
     "height": 542
    },
    "executionInfo": {
     "elapsed": 2977,
     "status": "ok",
     "timestamp": 1682338572418,
     "user": {
      "displayName": "Dawid Walicki",
      "userId": "09899538618212575449"
     },
     "user_tz": -120
    },
    "id": "F3ypORbCa3OA",
    "outputId": "adae406c-b422-4b8f-8851-0ecc180758cf"
   },
   "outputs": [
    {
     "data": {
      "image/png": "[encoded data removed]",
      "text/plain": [
       "<Figure size 800x600 with 1 Axes>"
      ]
     },
     "metadata": {},
     "output_type": "display_data"
    }
   ],
   "source": [
    "threshold_balance(model_xgb, threshold=0.1)"
   ]
  },
  {
   "cell_type": "code",
   "execution_count": null,
   "id": "gQSxtwiYIOzw",
   "metadata": {
    "colab": {
     "base_uri": "https://localhost:8080/",
     "height": 764
    },
    "executionInfo": {
     "elapsed": 1235,
     "status": "ok",
     "timestamp": 1682338537080,
     "user": {
      "displayName": "Dawid Walicki",
      "userId": "09899538618212575449"
     },
     "user_tz": -120
    },
    "id": "gQSxtwiYIOzw",
    "outputId": "d58e44ad-3a84-4f2c-dd93-3112b58b66f0"
   },
   "outputs": [
    {
     "name": "stdout",
     "output_type": "stream",
     "text": [
      "Results for classifier\n",
      "-----\n",
      "   AUC:  0.8776958381605917\n",
      "   Precision:  0.9566993645258248\n",
      "   Recall:  0.8090673575129533\n",
      "   F1:  0.8604639116196894\n",
      "-----\n"
     ]
    },
    {
     "data": {
      "image/png": "[encoded data removed]",
      "text/plain": [
       "<Figure size 640x480 with 2 Axes>"
      ]
     },
     "metadata": {},
     "output_type": "display_data"
    },
    {
     "name": "stdout",
     "output_type": "stream",
     "text": [
      "-----\n",
      "Classification report:\n",
      "              precision    recall  f1-score   support\n",
      "\n",
      "           0       1.00      0.80      0.89      3664\n",
      "           1       0.20      0.95      0.34       196\n",
      "\n",
      "    accuracy                           0.81      3860\n",
      "   macro avg       0.60      0.88      0.61      3860\n",
      "weighted avg       0.96      0.81      0.86      3860\n",
      "\n"
     ]
    }
   ],
   "source": [
    "#prediction for different threshold\n",
    "y_pred_xgb_th = (model_xgb.predict_proba(X_test)[:, 1] > 0.1).astype(int)\n",
    "metric_xgb_th = calculate_metrics(y_test, y_pred_xgb_th)\n",
    "print_results(metric_xgb_th)"
   ]
  },
  {
   "cell_type": "markdown",
   "id": "I_eVqypaNZV3",
   "metadata": {
    "id": "I_eVqypaNZV3"
   },
   "source": [
    "# Summary"
   ]
  },
  {
   "cell_type": "markdown",
   "id": "g2gRFhx_Oif3",
   "metadata": {
    "id": "g2gRFhx_Oif3"
   },
   "source": [
    "In the above experiments I've used previously prepared and initially preprocessed datasets to prepare models. I've made also some operations before experiment with models:\n",
    "\n",
    "* data scaling -> StandardScaler\n",
    "* feature selection -> my methodology to choose the most important features based on: Pearson correlation, recursive feature elimination (RFE), SelectFromModel (Logistic Regressien and RandomForest alghorithms). It was crucial part as initial dataset was large (over 600 features). If 2 of 4 methods pointed out that feature is important - it'll be used for model experiments.\n",
    "* dimensionality reduction -> PCA. Gives poor results. This step was abandoned. \n",
    "\n",
    "Model experiments:\n",
    "* 5 models were used for experiments: Logistic Regression, Random Forest Classifier, LightGBM Classifier, Catboost Classifier, XGBOOST Classifier.\n",
    "* 2 of these 5 Classifiers were rejected first, as they had given hopeless results (Catboost and Random Forest).\n",
    "* 3 of all exhibit good overall results. It should be mentioned, that Logistic Regression showed slightly worse cross validation score results than 2 other models. However, none of the models were overfitted.\n",
    "* Final choice of alghorithm depends on the business need and should be consulted with business before implementation.\n",
    "* Nothwithstanding this, in my view in active coal mine safety of workers is on the first place, so a key metric are both <b>ROC AUC</b> and <b>recall</b>, much more important than precision. It results in detecting more True Positives (Warnings in this case), even if much of positives are False Positives. On the other hand, I was guided by not too low precision, as it results in stopping works in mine too often. \n",
    "* Accoring to above, the best model was <b>LightGBMClassifier</b>. It exbibits highest roc_auc_score (~0.88), 0.93 recall of class 1 and 0.23 precision of class 1. Close there were XGBOOST with even higher recall (0.95), but lower precision (0.2) and roc_auc and a bit worse LogisticRegression. The winning alghoritm has another advantage - it learns really fast.\n",
    "\n",
    "Final model: <b>LightGBM Classifier</b>"
   ]
  }
 ],
 "metadata": {
  "accelerator": "GPU",
  "colab": {
   "machine_shape": "hm",
   "provenance": [
    {
     "file_id": "1Zr2EcT_c85AEcq9lgAS9edsMQLD0CaSb",
     "timestamp": 1681916048394
    },
    {
     "file_id": "1JeZHPkl6Wm2HJ-ZFyJHnhjY7tR5mLVAo",
     "timestamp": 1680893144033
    },
    {
     "file_id": "1YrfWwhpH7h4Waof1bzYJfXG3xp643BPp",
     "timestamp": 1680636628452
    }
   ]
  },
  "gpuClass": "standard",
  "kernelspec": {
   "display_name": "Python 3 (ipykernel)",
   "language": "python",
   "name": "python3"
  },
  "language_info": {
   "codemirror_mode": {
    "name": "ipython",
    "version": 3
   },
   "file_extension": ".py",
   "mimetype": "text/x-python",
   "name": "python",
   "nbconvert_exporter": "python",
   "pygments_lexer": "ipython3",
   "version": "3.9.12"
  },
  "varInspector": {
   "cols": {
    "lenName": 16,
    "lenType": 16,
    "lenVar": 40
   },
   "kernels_config": {
    "python": {
     "delete_cmd_postfix": "",
     "delete_cmd_prefix": "del ",
     "library": "var_list.py",
     "varRefreshCmd": "print(var_dic_list())"
    },
    "r": {
     "delete_cmd_postfix": ") ",
     "delete_cmd_prefix": "rm(",
     "library": "var_list.r",
     "varRefreshCmd": "cat(var_dic_list()) "
    }
   },
   "types_to_exclude": [
    "module",
    "function",
    "builtin_function_or_method",
    "instance",
    "_Feature"
   ],
   "window_display": false
  }
 },
 "nbformat": 4,
 "nbformat_minor": 5
}
